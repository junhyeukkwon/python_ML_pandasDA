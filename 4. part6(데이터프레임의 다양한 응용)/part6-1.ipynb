{
 "cells": [
  {
   "cell_type": "markdown",
   "id": "958ee80a-873c-441d-a1c8-085cb8e0cf40",
   "metadata": {},
   "source": [
    "# 데이터프레임의 다양한 응용"
   ]
  },
  {
   "cell_type": "markdown",
   "id": "e93eab13-31d0-4561-8e47-96ee2aa1320b",
   "metadata": {
    "tags": []
   },
   "source": [
    "## 함수매핑"
   ]
  },
  {
   "cell_type": "markdown",
   "id": "d2e3f6ed-2441-4b85-b47e-f51245737a80",
   "metadata": {},
   "source": [
    "함수 매핑은 시리즈 또는 데이터프레임의 개별원소를 특정 함수에 일대일 대응시키는 과정을 뜻한다. 사용자가 직접 만든 함수(lambda 함수 포함)를 적용할 수 있다.   \n",
    "판다스 기본함수로 처리하기 어려운 복잡한 연산을 데이터프레임 등 판다스 객체에 적용하는 것이 가능하다."
   ]
  },
  {
   "cell_type": "markdown",
   "id": "dc829871-51c1-4196-a825-491de44de9f7",
   "metadata": {},
   "source": [
    "### 개별 원소에 함수 매핑"
   ]
  },
  {
   "cell_type": "markdown",
   "id": "37109a23-ef66-4970-ae58-98f83dcc3a10",
   "metadata": {},
   "source": [
    "시리즈 원소에 함수 매핑: 시리즈 객체에 apply() 함수를 적용하면 인자로 전달하는 매핑 함수에 시리즈의 모든 원소를 하나씩 입력하고 함수의 리턴값을 돌려받는다.   \n",
    "시리즈 원소의 개수만큼 리턴값을 받아서 같은 크기의 시리즈 객체로 반환한다."
   ]
  },
  {
   "cell_type": "code",
   "execution_count": 1,
   "id": "fbb6ca04-9e08-466a-81d9-e4593265dc44",
   "metadata": {},
   "outputs": [],
   "source": [
    "import seaborn as sns"
   ]
  },
  {
   "cell_type": "code",
   "execution_count": 2,
   "id": "fe82ced2-cd08-492f-98e0-8ec51bbae1ed",
   "metadata": {},
   "outputs": [
    {
     "name": "stdout",
     "output_type": "stream",
     "text": [
      "    age     fare  ten\n",
      "0  22.0   7.2500   10\n",
      "1  38.0  71.2833   10\n",
      "2  26.0   7.9250   10\n",
      "3  35.0  53.1000   10\n",
      "4  35.0   8.0500   10\n"
     ]
    }
   ],
   "source": [
    "titanic = sns.load_dataset('titanic')\n",
    "df = titanic.loc[:, ['age','fare']]\n",
    "df['ten'] = 10\n",
    "print(df.head())"
   ]
  },
  {
   "cell_type": "markdown",
   "id": "b46b2706-68f3-4c57-af0c-9a2bfa22f06e",
   "metadata": {},
   "source": [
    "titanic 데이터셋에서 숫자데이터로 구성된 2개의 열 ['age','fare']을 선택하고, 숫자 10 만을 원소 값으로 갖는 새로운 열'ten'열을 추가했다."
   ]
  },
  {
   "cell_type": "markdown",
   "id": "1d6843f0-a6b7-45bb-b40a-caf82a25dcc0",
   "metadata": {},
   "source": [
    "두가지의 사용자 함수를 만들어 줄 것이다. 하나는 객체 n에 숫자 10을 더하는 add_ten(n) 함수, 객체 a와 b를 더하는 add_two_obj(a,b) 함수를 만들어 준다."
   ]
  },
  {
   "cell_type": "code",
   "execution_count": 3,
   "id": "eca205f6-b802-440c-95bb-0ead5648cdb2",
   "metadata": {},
   "outputs": [
    {
     "name": "stdout",
     "output_type": "stream",
     "text": [
      "20\n",
      "20\n"
     ]
    }
   ],
   "source": [
    "def add_ten(n):\n",
    "    return n + 10\n",
    "\n",
    "def add_two_obj(a,b):\n",
    "    return a + b\n",
    "\n",
    "print(add_ten(10))\n",
    "print(add_two_obj(10,10))"
   ]
  },
  {
   "cell_type": "markdown",
   "id": "85c550ce-d109-46fa-9275-cd0e69b59208",
   "metadata": {},
   "source": [
    "이제 apply() 함수를 통해서 사용자 함수를 적용할 것이다. df['age']열에 add_ten함수를 적용을 하면 age데이터에서 10을 더해주는 것이고, 다음으로 add_two_obj() 에는 df['age']열에 매핑하면 함께전달된 숫자 10을 모든 원소에다 더하자. 결과값은 같을 것이다."
   ]
  },
  {
   "cell_type": "code",
   "execution_count": 5,
   "id": "b7f7c007-3af0-47a8-9aaf-f2104ecd1cd4",
   "metadata": {},
   "outputs": [
    {
     "name": "stdout",
     "output_type": "stream",
     "text": [
      "0    32.0\n",
      "1    48.0\n",
      "2    36.0\n",
      "3    45.0\n",
      "4    45.0\n",
      "Name: age, dtype: float64\n",
      "0    32.0\n",
      "1    48.0\n",
      "2    36.0\n",
      "3    45.0\n",
      "4    45.0\n",
      "Name: age, dtype: float64\n",
      "0    32.0\n",
      "1    48.0\n",
      "2    36.0\n",
      "3    45.0\n",
      "4    45.0\n",
      "Name: age, dtype: float64\n"
     ]
    }
   ],
   "source": [
    "sr1 = df['age'].apply(add_ten)\n",
    "print(sr1.head())\n",
    "\n",
    "sr2 = df['age'].apply(add_two_obj, b=10)\n",
    "print(sr2.head())\n",
    "\n",
    "sr3 = df['age'].apply(lambda x : add_ten(x)) #x=df['age']\n",
    "print(sr3.head())"
   ]
  },
  {
   "cell_type": "markdown",
   "id": "5760f2db-c6ee-4eac-8c38-8e5e2ab08844",
   "metadata": {},
   "source": [
    "데이터프레임 원소에 함수 매핑: 데이터프레임의 개별 원소에 특정 함수를 매핑하려면, applymap() 메소드를 활용한다. 매핑함수에 데이터프레임의 각 원소를 하나씩 넣어서 리턴값으로 돌려받는다.    \n",
    "원소의 원래 위치에 매핑 함수의 리턴값을 입력하여 동일한 형태의 데이터프레임이 만들어진다."
   ]
  },
  {
   "cell_type": "code",
   "execution_count": 7,
   "id": "8a598873-ef46-494c-8b03-c9ce97373b96",
   "metadata": {},
   "outputs": [
    {
     "name": "stdout",
     "output_type": "stream",
     "text": [
      "    age     fare\n",
      "0  22.0   7.2500\n",
      "1  38.0  71.2833\n",
      "2  26.0   7.9250\n",
      "3  35.0  53.1000\n",
      "4  35.0   8.0500\n",
      "    age     fare\n",
      "0  32.0  17.2500\n",
      "1  48.0  81.2833\n",
      "2  36.0  17.9250\n",
      "3  45.0  63.1000\n",
      "4  45.0  18.0500\n"
     ]
    }
   ],
   "source": [
    "titanic = sns.load_dataset('titanic')\n",
    "df = titanic.loc[:, ['age','fare']]\n",
    "print(df.head())\n",
    "\n",
    "def add_ten(n):\n",
    "    return n + 10\n",
    "\n",
    "df_map = df.applymap(add_ten)\n",
    "print(df_map.head())"
   ]
  },
  {
   "cell_type": "markdown",
   "id": "31ef16e8-ca6c-447a-9d85-cbeb4998ef88",
   "metadata": {},
   "source": [
    "다 적용된 것을 볼수 있다."
   ]
  },
  {
   "cell_type": "markdown",
   "id": "a002e134-c8dc-4cb4-8450-c757af0569b9",
   "metadata": {},
   "source": [
    "### 시리즈 객체에 함수 매핑"
   ]
  },
  {
   "cell_type": "markdown",
   "id": "95ad4a44-e20d-4cba-baf3-66dfb3cb8fbf",
   "metadata": {},
   "source": [
    "데이터프레임의 각 **열**에 함수 매핑: 데이터프레임에 apply(axis=0) 메소드를 적용하면 모든 열을 하나씩 분리하여 매핑함수의 인자로 각열(시리즈)이 전달된다. 매핑함수에 따라 반환되는 객체의 종류가 다르다."
   ]
  },
  {
   "cell_type": "markdown",
   "id": "6b084888-38e9-408f-aa5b-0d16156261c4",
   "metadata": {},
   "source": [
    "DataFrames.apply(매핑함수, axis=0)   \n",
    "시리즈를 입력받고, 시리즈를 반환하는 함수를 매핑하면, 데이터프레임을 반환한다.   \n",
    "데이터프레임의 열을 매핑함수에 전달하면 각 열의 리턴값은 시리즈 형태로 반환된다. 그리고 이들 시리즈가 하나의 데이터프레임으로 통합되는 과정을 거친다."
   ]
  },
  {
   "cell_type": "code",
   "execution_count": 8,
   "id": "4c5f6882-951d-4830-9f3a-5765ac3473d8",
   "metadata": {},
   "outputs": [
    {
     "name": "stdout",
     "output_type": "stream",
     "text": [
      "    age     fare\n",
      "0  22.0   7.2500\n",
      "1  38.0  71.2833\n",
      "2  26.0   7.9250\n",
      "3  35.0  53.1000\n",
      "4  35.0   8.0500\n",
      "     age   fare\n",
      "0  False  False\n",
      "1  False  False\n",
      "2  False  False\n",
      "3  False  False\n",
      "4  False  False\n",
      "\n",
      "\n",
      "<class 'pandas.core.frame.DataFrame'>\n"
     ]
    }
   ],
   "source": [
    "titanic = sns.load_dataset('titanic')\n",
    "df = titanic.loc[:, ['age','fare']]\n",
    "print(df.head())\n",
    "\n",
    "#사용자 함수 정의\n",
    "def missing_value(series):\n",
    "    return series.isnull()\n",
    "\n",
    "result = df.apply(missing_value,axis=0)\n",
    "print(result.head())\n",
    "print('\\n')\n",
    "print(type(result))"
   ]
  },
  {
   "cell_type": "markdown",
   "id": "7cb5258d-29df-4576-8f17-3c891da4f0a2",
   "metadata": {},
   "source": [
    "시리즈를 입력받아서 하나의 값을 반환하는 함수를 매핑하면 시리즈를 반환한다.    \n",
    "데이터프레임의 각 열을 매핑함수에 전달하면 각 열의 리턴값은 하나의 값으로 반환된다.    \n",
    "마지막으로 이들 값을 하나의 시리즈로 통합하는 과정을 거친다."
   ]
  },
  {
   "cell_type": "code",
   "execution_count": 10,
   "id": "a02015f3-d31c-4942-b452-8008e8e347b3",
   "metadata": {},
   "outputs": [
    {
     "name": "stdout",
     "output_type": "stream",
     "text": [
      "age      79.5800\n",
      "fare    512.3292\n",
      "dtype: float64\n",
      "<class 'pandas.core.series.Series'>\n"
     ]
    }
   ],
   "source": [
    "def min_max(x):\n",
    "    return x.max() - x.min()\n",
    "\n",
    "result = df.apply(min_max)\n",
    "print(result)\n",
    "print(type(result))"
   ]
  },
  {
   "cell_type": "markdown",
   "id": "8d7a4510-f6e4-4cc0-b09e-8270dfb16586",
   "metadata": {},
   "source": [
    "데이터프레임의 각 **행**에 함수 매핑: 데이터프레임 객체에 apply(axis=1) 메소드를 적용하면 데이터프레임의 각 행을 매핑 함수의 인자로 전달, 데이터프레임의 행 인덱스가 매핑 결과로 반환되는 시리즈의 인덱스가 된다.    \n",
    "시리즈의 인덱스에 매핑되는 데이터값에는 각 행의 데이터를 함수에 적용한 리턴값을 가져온다."
   ]
  },
  {
   "cell_type": "code",
   "execution_count": 11,
   "id": "ca3d59e4-f6e8-4138-8c91-320cb57b82bc",
   "metadata": {},
   "outputs": [
    {
     "name": "stdout",
     "output_type": "stream",
     "text": [
      "    age     fare  ten\n",
      "0  22.0   7.2500   10\n",
      "1  38.0  71.2833   10\n",
      "2  26.0   7.9250   10\n",
      "3  35.0  53.1000   10\n",
      "4  35.0   8.0500   10\n",
      "    age     fare  ten   add\n",
      "0  22.0   7.2500   10  32.0\n",
      "1  38.0  71.2833   10  48.0\n",
      "2  26.0   7.9250   10  36.0\n",
      "3  35.0  53.1000   10  45.0\n",
      "4  35.0   8.0500   10  45.0\n"
     ]
    }
   ],
   "source": [
    "titanic = sns.load_dataset('titanic')\n",
    "df = titanic.loc[:, ['age','fare']]\n",
    "df['ten'] = 10\n",
    "print(df.head())\n",
    "\n",
    "def add_two_obj(a,b):\n",
    "    return a+b\n",
    "\n",
    "df['add'] = df.apply(lambda x: add_two_obj(x['age'], x['ten']), axis=1)\n",
    "print(df.head())"
   ]
  },
  {
   "cell_type": "markdown",
   "id": "e31e5066-f3d5-444e-8d6f-de92047e96a6",
   "metadata": {},
   "source": [
    "### 데이터프레임 객체에 함수 매핑"
   ]
  },
  {
   "cell_type": "markdown",
   "id": "73e6c60d-4375-4a3d-8782-19555fc83911",
   "metadata": {},
   "source": [
    "- 데이터프레임 객체를 함수에 매핑하려면 pipe() 메소드를 활용한다. \n",
    "- 이때 사용하는 함수가 반환하는 리턴값에 따라 pipe() 메소드가 반환하는 객체의 종류가 결정된다.\n",
    "- 데이터프레임, 시리즈,개별값을 반환하는 경우로 나눌 수 있다."
   ]
  },
  {
   "cell_type": "code",
   "execution_count": 13,
   "id": "a015cc3b-97fc-4d93-ab4f-6fffd85e2bd5",
   "metadata": {},
   "outputs": [
    {
     "name": "stdout",
     "output_type": "stream",
     "text": [
      "     age   fare\n",
      "0  False  False\n",
      "1  False  False\n",
      "2  False  False\n",
      "3  False  False\n",
      "4  False  False\n",
      "<class 'pandas.core.frame.DataFrame'>\n",
      "\n",
      "\n",
      "age     177\n",
      "fare      0\n",
      "dtype: int64\n",
      "<class 'pandas.core.series.Series'>\n",
      "\n",
      "\n",
      "177\n",
      "<class 'numpy.int64'>\n"
     ]
    }
   ],
   "source": [
    "# titanic 데이터셋에서 age, fare 2개 열을 선택하여 데이터프레임 만들기\n",
    "titanic = sns.load_dataset('titanic')\n",
    "df = titanic.loc[:, ['age','fare']]\n",
    "\n",
    "# 각 열의 NaN 찾기 - 데이터프레임 전달하면 데이터프레임을 반환\n",
    "def missing_value(x):    \n",
    "    return x.isnull()    \n",
    "\n",
    "# 각 열의 NaN 개수 반환 - 데이터프레임 전달하면 시리즈 반환\n",
    "def missing_count(x):    # \n",
    "    return missing_value(x).sum()\n",
    "\n",
    "# 데이터프레임의 총 NaN 개수 - 데이터프레임 전달하면 값을 반환\n",
    "def totoal_number_missing(x):    \n",
    "    return missing_count(x).sum()\n",
    "    \n",
    "# 데이터프레임에 pipe() 메소드로 함수 매핑\n",
    "result_df = df.pipe(missing_value)   \n",
    "print(result_df.head())\n",
    "print(type(result_df))\n",
    "print('\\n')\n",
    "\n",
    "result_series = df.pipe(missing_count)   \n",
    "print(result_series)\n",
    "print(type(result_series))\n",
    "print('\\n')\n",
    "\n",
    "result_value = df.pipe(totoal_number_missing)   #데이터프레임을 입력받으면 각 열의 누락데이터 NaN의 개수를 합산하여 반환한다.\n",
    "print(result_value)\n",
    "print(type(result_value))"
   ]
  },
  {
   "cell_type": "markdown",
   "id": "af1cfdd6-1b23-4e91-bafe-ed3d8e7ace75",
   "metadata": {},
   "source": [
    "## 열 재구성"
   ]
  },
  {
   "cell_type": "markdown",
   "id": "b9497ceb-fc85-40db-a674-9ba623de9175",
   "metadata": {},
   "source": [
    "### 열 순서 변경"
   ]
  },
  {
   "cell_type": "markdown",
   "id": "9e39f1e6-a71d-4648-a486-5e6413fafae8",
   "metadata": {},
   "source": [
    "데이터프레임의 열 순서를 변경하는 방법은 열 이름을 원하는 순서대로 정리해서 리스트를 만들고 데이터 프레임에서 열을 다시 선택하는 방식으로 열 순서를 바꿀 수 있다."
   ]
  },
  {
   "cell_type": "code",
   "execution_count": 17,
   "id": "b7f87ea3-71b5-4c50-9017-7c0ca389338d",
   "metadata": {},
   "outputs": [
    {
     "name": "stdout",
     "output_type": "stream",
     "text": [
      "   survived  pclass     sex   age\n",
      "0         0       3    male  22.0\n",
      "1         1       1  female  38.0\n",
      "2         1       3  female  26.0\n",
      "3         1       1  female  35.0\n",
      "4         0       3    male  35.0 \n",
      "\n"
     ]
    }
   ],
   "source": [
    "titanic = sns.load_dataset('titanic')\n",
    "df = titanic.loc[0:4,'survived':'age'] #파이썬 리스트 슬라이싱과 다르게 마지막 범위의 값이 포함된다.\n",
    "print(df, '\\n')"
   ]
  },
  {
   "cell_type": "markdown",
   "id": "b7fece8f-2bf2-4fea-8379-1b3b1a94bb4a",
   "metadata": {},
   "source": [
    "데이터프레임의 열 이름 배열을 나타내는 df.columns.values 속성을 선택하여 파이썬 list()함수에 전달한다. 데이터프레임의 열이 원래 순서를 유지한 상태에서 리스트로 변환된다."
   ]
  },
  {
   "cell_type": "code",
   "execution_count": 19,
   "id": "aea1b89a-ddc2-46ac-b453-1b4f67c449ff",
   "metadata": {},
   "outputs": [
    {
     "name": "stdout",
     "output_type": "stream",
     "text": [
      "['survived', 'pclass', 'sex', 'age']\n"
     ]
    }
   ],
   "source": [
    "#열 이름의 리스트 만들기\n",
    "columns = list(df.columns.values)\n",
    "columns2 = list(df.columns[1])\n",
    "print(columns)"
   ]
  },
  {
   "cell_type": "markdown",
   "id": "bff3557d-40ad-457c-a9fe-a13e6dcdec74",
   "metadata": {},
   "source": [
    "sorted() 함수에 columns 변수를 입력하면 열 이름이 알파벳 순으로 정렬된다. 정렬된 열 이름의 리스트를 이용하여 df 열 순서를 재배치하는 것이다."
   ]
  },
  {
   "cell_type": "code",
   "execution_count": 20,
   "id": "643994c0-137e-4183-a36f-62c2378393b0",
   "metadata": {},
   "outputs": [
    {
     "name": "stdout",
     "output_type": "stream",
     "text": [
      "    age  pclass     sex  survived\n",
      "0  22.0       3    male         0\n",
      "1  38.0       1  female         1\n",
      "2  26.0       3  female         1\n",
      "3  35.0       1  female         1\n",
      "4  35.0       3    male         0\n"
     ]
    }
   ],
   "source": [
    "columns_sorted = sorted(columns)\n",
    "df_sorted = df[columns_sorted]\n",
    "print(df_sorted)"
   ]
  },
  {
   "cell_type": "markdown",
   "id": "4371f51e-bef4-48bf-89e4-01e483c88246",
   "metadata": {},
   "source": [
    "기존순서의 정반대 역순으로 정렬되는 reversed() 함수를 사용할 수도 있다. "
   ]
  },
  {
   "cell_type": "code",
   "execution_count": 21,
   "id": "0dfba4e9-ebbc-42cf-84fa-f052a678977b",
   "metadata": {},
   "outputs": [
    {
     "name": "stdout",
     "output_type": "stream",
     "text": [
      "    age     sex  pclass  survived\n",
      "0  22.0    male       3         0\n",
      "1  38.0  female       1         1\n",
      "2  26.0  female       3         1\n",
      "3  35.0  female       1         1\n",
      "4  35.0    male       3         0\n"
     ]
    }
   ],
   "source": [
    "columns_reversed = list(reversed(columns))\n",
    "df_reversed = df[columns_reversed]\n",
    "print(df_reversed)"
   ]
  },
  {
   "cell_type": "markdown",
   "id": "a4bc4d84-5f5a-4360-a7fc-e31f96a35750",
   "metadata": {},
   "source": [
    "임의로 열의 순서도 바꿀수 있다."
   ]
  },
  {
   "cell_type": "code",
   "execution_count": 22,
   "id": "7e60b7e1-bd32-464a-8243-c5329397b547",
   "metadata": {},
   "outputs": [
    {
     "name": "stdout",
     "output_type": "stream",
     "text": [
      "   pclass     sex   age  survived\n",
      "0       3    male  22.0         0\n",
      "1       1  female  38.0         1\n",
      "2       3  female  26.0         1\n",
      "3       1  female  35.0         1\n",
      "4       3    male  35.0         0\n"
     ]
    }
   ],
   "source": [
    "columns_customed = ['pclass', 'sex', 'age', 'survived']\n",
    "df_customed = df[columns_customed]\n",
    "print(df_customed)"
   ]
  },
  {
   "cell_type": "markdown",
   "id": "79fffb53-b24b-4c2c-93cf-35edffe560f3",
   "metadata": {},
   "source": [
    "### 열 분리"
   ]
  },
  {
   "cell_type": "markdown",
   "id": "eb28cd12-7c5a-47e2-b020-eb1b85e7446c",
   "metadata": {},
   "source": [
    "- 하나의 열이 여러가지 정보를 담고 있을 때 각 정보를 서로 분리해서 사용하는 경우가 있다.\n",
    "- 어떤 열에 '연월일' 정보가 있을때 '연','월','일'을 구분하여 3개의 열을 만드는 것이나, 사람의 이름이 들어 있는 열을 '성'과 '이름'구분하는 것을 예로 들 수 있다.\n",
    "- 시계열데이터의 속성과 연산자를 이용하는 방법과 비교할 수 있다."
   ]
  },
  {
   "cell_type": "markdown",
   "id": "d873d691-e706-4901-b71f-0f0d1b6732ca",
   "metadata": {},
   "source": [
    "사용데이터: 한국주식시장에서 상장된 하나의 회사의 날짜별 주가를 정리한 데이터이다."
   ]
  },
  {
   "cell_type": "code",
   "execution_count": 24,
   "id": "846ef495-acf9-4c36-a632-69b5263a8bf3",
   "metadata": {},
   "outputs": [],
   "source": [
    "import pandas as pd"
   ]
  },
  {
   "cell_type": "code",
   "execution_count": 25,
   "id": "703ca732-2adb-4d54-84ff-55da54c09f17",
   "metadata": {},
   "outputs": [
    {
     "name": "stdout",
     "output_type": "stream",
     "text": [
      "         연월일   당일종가  전일종가     시가     고가     저가     거래량\n",
      "0 2018-07-02  10100   600  10850  10900  10000  137977\n",
      "1 2018-06-29  10700   300  10550  10900   9990  170253\n",
      "2 2018-06-28  10400   500  10900  10950  10150  155769\n",
      "3 2018-06-27  10900   100  10800  11050  10500  133548\n",
      "4 2018-06-26  10800   350  10900  11000  10700   63039 \n",
      "\n",
      "연월일     datetime64[ns]\n",
      "당일종가             int64\n",
      "전일종가             int64\n",
      "시가               int64\n",
      "고가               int64\n",
      "저가               int64\n",
      "거래량              int64\n",
      "dtype: object\n"
     ]
    }
   ],
   "source": [
    "df = pd.read_excel('./주가데이터.xlsx', engine='openpyxl')\n",
    "print(df.head(), '\\n')\n",
    "print(df.dtypes)"
   ]
  },
  {
   "cell_type": "markdown",
   "id": "d539906f-f6f3-4714-9d69-3a3af34f7cb7",
   "metadata": {},
   "source": [
    "연월일 열은 데이터 타입이 datetime64이다. astype() 메서드를 사용하여 연월일 열의 시간형 데이터를 문자열로 변경한다. split() 메소드를 사용하여 '연-월-일' 형태에서 구분자 '-'로 하여 분리를 진행해준다."
   ]
  },
  {
   "cell_type": "code",
   "execution_count": 26,
   "id": "e5a18e05-b484-4f8e-8395-a9d50eb219c9",
   "metadata": {},
   "outputs": [
    {
     "name": "stdout",
     "output_type": "stream",
     "text": [
      "0    [2018, 07, 02]\n",
      "1    [2018, 06, 29]\n",
      "2    [2018, 06, 28]\n",
      "3    [2018, 06, 27]\n",
      "4    [2018, 06, 26]\n",
      "Name: 연월일, dtype: object\n"
     ]
    }
   ],
   "source": [
    "df['연월일'] = df['연월일'].astype('str')\n",
    "dates = df['연월일'].str.split('-')\n",
    "print(dates.head())"
   ]
  },
  {
   "cell_type": "markdown",
   "id": "383c868b-ce4c-4b6b-936e-c1b4f297eb6e",
   "metadata": {},
   "source": [
    "dates 변수에 저장된 문자열 리스트의 원소를 선택하기 위해 get() 메소드를 활용한다. 각 원소리스트 인덱스 0,1,2를 전달하여 '연', '월', '일' 데이터를 따로 선택할 수 있다. 그리고 순서대로 데이터 프레임df의 새로운 열로 추가한다."
   ]
  },
  {
   "cell_type": "code",
   "execution_count": 27,
   "id": "b5ae77ea-cea5-40c3-a043-0adbc761a2c0",
   "metadata": {},
   "outputs": [
    {
     "name": "stdout",
     "output_type": "stream",
     "text": [
      "          연월일   당일종가  전일종가     시가     고가     저가     거래량     연   월   일\n",
      "0  2018-07-02  10100   600  10850  10900  10000  137977  2018  07  02\n",
      "1  2018-06-29  10700   300  10550  10900   9990  170253  2018  06  29\n",
      "2  2018-06-28  10400   500  10900  10950  10150  155769  2018  06  28\n",
      "3  2018-06-27  10900   100  10800  11050  10500  133548  2018  06  27\n",
      "4  2018-06-26  10800   350  10900  11000  10700   63039  2018  06  26\n"
     ]
    }
   ],
   "source": [
    "df['연'] = dates.str.get(0) #dates 변수의 원소 리스트의 0번째 인덱스 값\n",
    "df['월'] = dates.str.get(1) #dates 변수의 원소 리스트의 1번째 인덱스 값\n",
    "df['일'] = dates.str.get(2) #dates 변수의 원소 리스트의 2번째 인덱스 값\n",
    "\n",
    "print(df.head())"
   ]
  },
  {
   "cell_type": "markdown",
   "id": "fff5188a-b57d-4966-b91b-03641569f66e",
   "metadata": {},
   "source": [
    "## 필터링"
   ]
  },
  {
   "cell_type": "markdown",
   "id": "2b9af9ec-161c-4bf0-af7f-a4977951dacb",
   "metadata": {},
   "source": [
    "시리즈 또는 데이터프레임의 데이터 중에서 특정 조건식을 만족하는 원소만 따로 추출하는 개념이다. 가장 대표적인 방법인 불린 인덱싱이 있다."
   ]
  },
  {
   "cell_type": "markdown",
   "id": "467891ce-6047-46bb-ad8b-f45901c913a1",
   "metadata": {},
   "source": [
    "### 불린 인덱싱"
   ]
  },
  {
   "cell_type": "markdown",
   "id": "0d6a3eb1-89b4-4f47-8276-67e272f3d010",
   "metadata": {},
   "source": [
    "- 시리즈 객체에 어떤 조건식을 적용하면 각 원소에 대해 참/거짓을 판별하여 boolean 데이터로 구성된 시리즈를 반환한다.\n",
    "- 많은 데이터 중에서 어떤 조건을 만족하는 데이터만을 추출하는 필터링 기법의 한 유형이다.\n",
    "- 이렇게 나온 불린 시리즈를 데이터프레임에 대입하면 조건을 만족하는 행들만 선택할 수 있다."
   ]
  },
  {
   "cell_type": "code",
   "execution_count": 30,
   "id": "0498a170-cd9a-4642-8a14-0c76cb7dd403",
   "metadata": {},
   "outputs": [
    {
     "name": "stdout",
     "output_type": "stream",
     "text": [
      "    survived  pclass     sex   age  sibsp  parch      fare embarked   class  \\\n",
      "9          1       2  female  14.0      1      0   30.0708        C  Second   \n",
      "14         0       3  female  14.0      0      0    7.8542        S   Third   \n",
      "22         1       3  female  15.0      0      0    8.0292        Q   Third   \n",
      "27         0       1    male  19.0      3      2  263.0000        S   First   \n",
      "38         0       3  female  18.0      2      0   18.0000        S   Third   \n",
      "\n",
      "      who  adult_male deck  embark_town alive  alone  \n",
      "9   child       False  NaN    Cherbourg   yes  False  \n",
      "14  child       False  NaN  Southampton    no   True  \n",
      "22  child       False  NaN   Queenstown   yes   True  \n",
      "27    man        True    C  Southampton    no  False  \n",
      "38  woman       False  NaN  Southampton    no  False  \n",
      "\n",
      "\n",
      "19.0 10.0\n"
     ]
    }
   ],
   "source": [
    "# 라이브러리 불러오기\n",
    "import seaborn as sns\n",
    "\n",
    "# titanic 데이터셋 로딩\n",
    "titanic = sns.load_dataset('titanic')\n",
    "\n",
    "# 나이가 10대(10~19세)인 승객만 따로 선택\n",
    "mask1 = (titanic.age >= 10) & (titanic.age < 20)\n",
    "df_teenage = titanic.loc[mask1, :]\n",
    "print(df_teenage.head())\n",
    "print('\\n')\n",
    "print(df_teenage.age.max(), df_teenage.age.min())"
   ]
  },
  {
   "cell_type": "code",
   "execution_count": 34,
   "id": "ba51cf73-3aaa-4db8-ac6e-3fac921ce29a",
   "metadata": {},
   "outputs": [
    {
     "name": "stdout",
     "output_type": "stream",
     "text": [
      "     survived  pclass     sex  age  sibsp  parch     fare embarked   class  \\\n",
      "10          1       3  female  4.0      1      1  16.7000        S   Third   \n",
      "24          0       3  female  8.0      3      1  21.0750        S   Third   \n",
      "43          1       2  female  3.0      1      2  41.5792        C  Second   \n",
      "58          1       2  female  5.0      1      2  27.7500        S  Second   \n",
      "119         0       3  female  2.0      4      2  31.2750        S   Third   \n",
      "\n",
      "       who  adult_male deck  embark_town alive  alone  \n",
      "10   child       False    G  Southampton   yes  False  \n",
      "24   child       False  NaN  Southampton    no  False  \n",
      "43   child       False  NaN    Cherbourg   yes  False  \n",
      "58   child       False  NaN  Southampton   yes  False  \n",
      "119  child       False  NaN  Southampton    no  False  \n",
      "\n",
      "\n",
      "female    30\n",
      "Name: sex, dtype: int64 count    30.000000\n",
      "mean      4.416667\n",
      "std       2.709604\n",
      "min       0.750000\n",
      "25%       2.000000\n",
      "50%       4.000000\n",
      "75%       6.000000\n",
      "max       9.000000\n",
      "Name: age, dtype: float64\n"
     ]
    }
   ],
   "source": [
    "# 나이가 10세 이하이고, 여자인 승객만 따로 선택\n",
    "mask2 = (titanic.age <10) & (titanic.sex == 'female')\n",
    "df_female_under10 = titanic.loc[mask2, :]\n",
    "print(df_female_under10.head())\n",
    "print('\\n')\n",
    "print(df_female_under10.sex.value_counts(), df_female_under10.age.describe())"
   ]
  },
  {
   "cell_type": "markdown",
   "id": "584ddf85-8b85-4bc5-aeb5-4b1ccb614a57",
   "metadata": {},
   "source": [
    "0-9세의 여자인 데이터 30개만 인덱싱이 되어서 df_female_under10 데이터프레임에 들어가 있음을 볼수 있다."
   ]
  },
  {
   "cell_type": "markdown",
   "id": "cb862aa6-a618-4ecf-b33f-5ad46663eb54",
   "metadata": {},
   "source": [
    "두 조건식을 OR(|) 연산자로 결합하여 두 조건 중에서 하나라도 참인 값을 추출할 수 있다. "
   ]
  },
  {
   "cell_type": "code",
   "execution_count": 35,
   "id": "36fc8ffd-3039-49cc-8f82-82390d49fe48",
   "metadata": {},
   "outputs": [
    {
     "name": "stdout",
     "output_type": "stream",
     "text": [
      "       age     sex  alone\n",
      "7     2.00    male  False\n",
      "10    4.00  female  False\n",
      "16    2.00    male  False\n",
      "24    8.00  female  False\n",
      "33   66.00    male   True\n",
      "..     ...     ...    ...\n",
      "831   0.83    male  False\n",
      "850   4.00    male  False\n",
      "851  74.00    male   True\n",
      "852   9.00  female  False\n",
      "869   4.00    male  False\n",
      "\n",
      "[88 rows x 3 columns]\n"
     ]
    }
   ],
   "source": [
    "# 나이가 10세 미만이면서, 또는 60세 이상인 승객의 age,sex,alone 열만 선택\n",
    "mask3 = (titanic.age < 10) | (titanic.age >= 60)\n",
    "df_under10_upper60 = titanic.loc[mask3, ['age', 'sex', 'alone']]\n",
    "print(df_under10_upper60)"
   ]
  },
  {
   "cell_type": "markdown",
   "id": "ab17b283-67b2-4a7f-97db-2458b6975dc9",
   "metadata": {},
   "source": [
    "### isin() 메소드 활용"
   ]
  },
  {
   "cell_type": "markdown",
   "id": "d0b526e6-4571-40bd-970c-9d857e32a4c1",
   "metadata": {},
   "source": [
    "- 데이터프레임의 열에 isin() 메소드를 적용하면 특정 값을 가진 행들을 따로 추출할 수 있다.\n",
    "- 이때 isin() 메소드에 데이터프레임의 열에서 추출하려는 값들로 만든 리스트를 전달한다."
   ]
  },
  {
   "cell_type": "code",
   "execution_count": 38,
   "id": "52c3aeba-4193-4a08-82d6-416998820b4b",
   "metadata": {},
   "outputs": [
    {
     "name": "stdout",
     "output_type": "stream",
     "text": [
      "    survived  pclass     sex   age  sibsp  ...  adult_male  deck  embark_town  \\\n",
      "7          0       3    male   2.0      3  ...       False   NaN  Southampton   \n",
      "16         0       3    male   2.0      4  ...       False   NaN   Queenstown   \n",
      "24         0       3  female   8.0      3  ...       False   NaN  Southampton   \n",
      "27         0       1    male  19.0      3  ...        True     C  Southampton   \n",
      "50         0       3    male   7.0      4  ...       False   NaN  Southampton   \n",
      "\n",
      "   alive  alone  \n",
      "7     no  False  \n",
      "16    no  False  \n",
      "24    no  False  \n",
      "27    no  False  \n",
      "50    no  False  \n",
      "\n",
      "[5 rows x 15 columns]\n",
      "\n",
      "\n",
      "    survived  pclass     sex   age  sibsp  ...  adult_male  deck  embark_town  \\\n",
      "7          0       3    male   2.0      3  ...       False   NaN  Southampton   \n",
      "16         0       3    male   2.0      4  ...       False   NaN   Queenstown   \n",
      "24         0       3  female   8.0      3  ...       False   NaN  Southampton   \n",
      "27         0       1    male  19.0      3  ...        True     C  Southampton   \n",
      "50         0       3    male   7.0      4  ...       False   NaN  Southampton   \n",
      "\n",
      "   alive  alone  \n",
      "7     no  False  \n",
      "16    no  False  \n",
      "24    no  False  \n",
      "27    no  False  \n",
      "50    no  False  \n",
      "\n",
      "[5 rows x 15 columns]\n"
     ]
    }
   ],
   "source": [
    "# 라이브러리 불러오기\n",
    "import seaborn as sns\n",
    "import pandas as pd\n",
    "\n",
    "# titanic 데이터셋 로딩\n",
    "titanic = sns.load_dataset('titanic')\n",
    "\n",
    "# IPyhton 디스플레이 설정 변경 - 출력할 최대 열의 개수\n",
    "pd.set_option('display.max_columns', 10)  \n",
    "    \n",
    "# 함께 탑승한 형제 또는 배우자의 수가 3, 4, 5인 승객만 따로 추출 - 불린 인덱싱\n",
    "mask3 = titanic['sibsp'] == 3\n",
    "mask4 = titanic['sibsp'] == 4\n",
    "mask5 = titanic['sibsp'] == 5\n",
    "df_boolean = titanic[mask3 | mask4 | mask5]\n",
    "print(df_boolean.head())\n",
    "print('\\n')\n",
    "\n",
    "# isin() 메서드 활용하여 동일한 조건으로 추출\n",
    "isin_filter = titanic['sibsp'].isin([3, 4, 5])\n",
    "df_isin = titanic[isin_filter]\n",
    "print(df_isin.head())"
   ]
  },
  {
   "cell_type": "markdown",
   "id": "eb5ced61-7a00-42e3-aa37-b2e8e67a0905",
   "metadata": {},
   "source": [
    "isin() 메소드의 인자로 [3,4,5] 형태의 리스트를 전달하면 해당 값이 존재하는 행은 참을 반환하고, 값이 없으면 거짓을 반환한다. 조건을 만족하는 행들만 선택하여 df_isin에 저장한다."
   ]
  },
  {
   "cell_type": "code",
   "execution_count": null,
   "id": "ba69c16a-ab35-4063-9b77-95657b1ef97b",
   "metadata": {},
   "outputs": [],
   "source": []
  }
 ],
 "metadata": {
  "kernelspec": {
   "display_name": "Python 3 (ipykernel)",
   "language": "python",
   "name": "python3"
  },
  "language_info": {
   "codemirror_mode": {
    "name": "ipython",
    "version": 3
   },
   "file_extension": ".py",
   "mimetype": "text/x-python",
   "name": "python",
   "nbconvert_exporter": "python",
   "pygments_lexer": "ipython3",
   "version": "3.9.12"
  }
 },
 "nbformat": 4,
 "nbformat_minor": 5
}
