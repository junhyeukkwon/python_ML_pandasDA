{
 "cells": [
  {
   "cell_type": "markdown",
   "id": "c3336631-e58a-40b6-9d29-3b775fd1600c",
   "metadata": {},
   "source": [
    "## 데이터프레임 합치기"
   ]
  },
  {
   "cell_type": "markdown",
   "id": "88846e23-e8ab-4e5e-bcbe-7bc1319549b1",
   "metadata": {},
   "source": [
    "- 데이터가 여러 군데 나누어져 있을 때 합치거나 데이터를 연결해야하는 경우가 있다. 판다스에서 데이터프레임을 합치거나 연결할 때 사용하는 함수와 메소드는 여러가지가 있다.\n",
    "- concat(), merge(), join()등을 예를 들수 있다."
   ]
  },
  {
   "cell_type": "markdown",
   "id": "68d9b135-8458-406c-b1c6-4ef8c06bd6db",
   "metadata": {},
   "source": [
    "### 데이터프레임 연결"
   ]
  },
  {
   "cell_type": "markdown",
   "id": "914f339e-94d9-49de-993b-35bc96bfe2f4",
   "metadata": {},
   "source": [
    "- 서로 다른 데이터프레임들의 구성 형태와 속성이 균일하다면, 행 또는 열 중에 어느 한방향으로 이어 붙여도 데이터의 일관성을 유지할 수 있다.\n",
    "- 기존 데이터프레임의 형태를 유지하면서 이어 붙이는 개념으로 판다스 concat() 함수를 활용한다. pandas.concat(데이터프레임 리스트)\n",
    "- 축 방향을 지정하지 않으면 기본옵션 (axis=0)이 적용되어  위아해 행방향으로 연결된다. 각 데이터프레임의 행 인덱스는 형태를 유지한다.\n",
    "- join='outer' 옵션이 기본 적용되어, df1의 열이름(A,B,C), df2의 열 이름(B,C,D,E)의 합집합으로 연결 데이터프레임의 열이름의 배열 (A,B,C,D,E)를 구성한다.\n",
    "- join='inner' 옵션의 경우 데이터프레임에 공통으로 속하느 교집합(B,C)가 기준이 된다."
   ]
  },
  {
   "cell_type": "code",
   "execution_count": 1,
   "id": "4bb4ed84-0202-492a-a2e7-dfcf4eafba8b",
   "metadata": {},
   "outputs": [
    {
     "name": "stdout",
     "output_type": "stream",
     "text": [
      "    a   b   c\n",
      "0  a0  b0  c0\n",
      "1  a1  b1  c1\n",
      "2  a2  b2  c2\n",
      "3  a3  b3  c3 \n",
      "\n",
      "    a   b   c   d\n",
      "2  a2  b2  c2  d2\n",
      "3  a3  b3  c3  d3\n",
      "4  a4  b4  c4  d4\n",
      "5  a5  b5  c5  d5 \n",
      "\n",
      "    a   b   c    d\n",
      "0  a0  b0  c0  NaN\n",
      "1  a1  b1  c1  NaN\n",
      "2  a2  b2  c2  NaN\n",
      "3  a3  b3  c3  NaN\n",
      "2  a2  b2  c2   d2\n",
      "3  a3  b3  c3   d3\n",
      "4  a4  b4  c4   d4\n",
      "5  a5  b5  c5   d5 \n",
      "\n"
     ]
    }
   ],
   "source": [
    "# 라이브러리 불러오기\n",
    "import pandas as pd\n",
    "\n",
    "# 데이터프레임 만들기\n",
    "df1 = pd.DataFrame({'a': ['a0', 'a1', 'a2', 'a3'],\n",
    "                    'b': ['b0', 'b1', 'b2', 'b3'],\n",
    "                    'c': ['c0', 'c1', 'c2', 'c3']},\n",
    "                    index=[0, 1, 2, 3])\n",
    " \n",
    "df2 = pd.DataFrame({'a': ['a2', 'a3', 'a4', 'a5'],\n",
    "                    'b': ['b2', 'b3', 'b4', 'b5'],\n",
    "                    'c': ['c2', 'c3', 'c4', 'c5'],\n",
    "                    'd': ['d2', 'd3', 'd4', 'd5']},\n",
    "                    index=[2, 3, 4, 5])\n",
    "\n",
    "print(df1, '\\n')\n",
    "print(df2, '\\n')\n",
    "\n",
    "# 2개의 데이터프레임을 위 아래 행 방향으로 이어 붙이듯 연결하기 \n",
    "result1 = pd.concat([df1, df2])\n",
    "print(result1, '\\n')"
   ]
  },
  {
   "cell_type": "markdown",
   "id": "4f4f361d-3514-4acd-8ad4-20b92e2620b8",
   "metadata": {},
   "source": [
    "df1의 열중 'd'열이 없기 때문에 concat과정에서 NaN 값으로 채워진다."
   ]
  },
  {
   "cell_type": "markdown",
   "id": "0436ab32-2a7e-4a04-b161-d8ba56b15eef",
   "metadata": {},
   "source": [
    "ignore_index=True 옵션은 기존 행 인덱스를 무시하고 새로운 행인덱스를 설정한다."
   ]
  },
  {
   "cell_type": "code",
   "execution_count": 2,
   "id": "29b080a7-8223-4a5f-8a9f-18cba98f7a15",
   "metadata": {},
   "outputs": [
    {
     "name": "stdout",
     "output_type": "stream",
     "text": [
      "    a   b   c    d\n",
      "0  a0  b0  c0  NaN\n",
      "1  a1  b1  c1  NaN\n",
      "2  a2  b2  c2  NaN\n",
      "3  a3  b3  c3  NaN\n",
      "4  a2  b2  c2   d2\n",
      "5  a3  b3  c3   d3\n",
      "6  a4  b4  c4   d4\n",
      "7  a5  b5  c5   d5 \n",
      "\n"
     ]
    }
   ],
   "source": [
    "# ignore_index=True 옵션 설정하기 \n",
    "result2 = pd.concat([df1, df2], ignore_index=True)\n",
    "print(result2, '\\n')\n"
   ]
  },
  {
   "cell_type": "markdown",
   "id": "bd0eee80-b963-44bb-ae9c-44a2ee301122",
   "metadata": {},
   "source": [
    "axis=1옵션을 사용하면 데이터프레임을 좌우 열 방향으로 연결한다. 따라서 기존 열 이름 배열이 그대로 유지된다. 연결되는 데이터프레임의 행인덱스는, join='outer' 옵션이 기본값으로 적용되어 각 데이터프레임의 행인덱들의 합집합으로 구성된다."
   ]
  },
  {
   "cell_type": "code",
   "execution_count": 3,
   "id": "f5f1af8e-9a37-4077-b722-7e63ff9a7910",
   "metadata": {},
   "outputs": [
    {
     "name": "stdout",
     "output_type": "stream",
     "text": [
      "     a    b    c    a    b    c    d\n",
      "0   a0   b0   c0  NaN  NaN  NaN  NaN\n",
      "1   a1   b1   c1  NaN  NaN  NaN  NaN\n",
      "2   a2   b2   c2   a2   b2   c2   d2\n",
      "3   a3   b3   c3   a3   b3   c3   d3\n",
      "4  NaN  NaN  NaN   a4   b4   c4   d4\n",
      "5  NaN  NaN  NaN   a5   b5   c5   d5 \n",
      "\n"
     ]
    }
   ],
   "source": [
    "# 2개의 데이터프레임을 좌우 열 방향으로 이어 붙이듯 연결하기 \n",
    "result3 = pd.concat([df1, df2], axis=1)\n",
    "print(result3, '\\n')"
   ]
  },
  {
   "cell_type": "markdown",
   "id": "e020ad63-405e-4ea6-92c8-2827077ab855",
   "metadata": {},
   "source": [
    "여기서 join='inner'로 설정하면 행 인덱스의 교집합을 기준으로 교집합을 기준으로 사용한다."
   ]
  },
  {
   "cell_type": "code",
   "execution_count": 4,
   "id": "71579c0b-dd6d-45fd-9588-e192a23910b9",
   "metadata": {},
   "outputs": [
    {
     "name": "stdout",
     "output_type": "stream",
     "text": [
      "    a   b   c   a   b   c   d\n",
      "2  a2  b2  c2  a2  b2  c2  d2\n",
      "3  a3  b3  c3  a3  b3  c3  d3 \n",
      "\n"
     ]
    }
   ],
   "source": [
    "# join='inner' 옵션 적용하기(교집합)\n",
    "result3_in = pd.concat([df1, df2], axis=1, join='inner')\n",
    "print(result3_in, '\\n')\n"
   ]
  },
  {
   "cell_type": "markdown",
   "id": "78022198-0ac0-4c68-885a-dc6498a67875",
   "metadata": {},
   "source": [
    "데이터프레임과 시리즈를 좌우 열 방향으로 연결할 수도 있다. 데이터 프레임에 열을 추가하는 것과 같다. 이때 시리즈이름이 데이터 프레임의 열이름으로 변환된다. 데이터프레임의 행 인덱스와 시리즈의 인덱스가 같아야한다. 없을경우 NaN처리가 되니 알아두자."
   ]
  },
  {
   "cell_type": "markdown",
   "id": "0d10f3bd-8b09-4a48-ad84-671ad4f09404",
   "metadata": {},
   "source": [
    "시리즈와 시리즈를 axis=1옵션으로 concat하면 데이터프레임이되지만, axis=0 이면 긴 시리즈형태를 갖는다."
   ]
  },
  {
   "cell_type": "code",
   "execution_count": 5,
   "id": "14e0b9bb-5a43-4fda-b9bf-31c42c6c15d4",
   "metadata": {},
   "outputs": [
    {
     "name": "stdout",
     "output_type": "stream",
     "text": [
      "    a   b   c   e\n",
      "0  a0  b0  c0  e0\n",
      "1  a1  b1  c1  e1\n",
      "2  a2  b2  c2  e2\n",
      "3  a3  b3  c3  e3 \n",
      "\n",
      "    a   b   c   d    f\n",
      "2  a2  b2  c2  d2  NaN\n",
      "3  a3  b3  c3  d3   f0\n",
      "4  a4  b4  c4  d4   f1\n",
      "5  a5  b5  c5  d5   f2 \n",
      "\n",
      "    e   g\n",
      "0  e0  g0\n",
      "1  e1  g1\n",
      "2  e2  g2\n",
      "3  e3  g3 \n",
      "\n",
      "0    e0\n",
      "1    e1\n",
      "2    e2\n",
      "3    e3\n",
      "0    g0\n",
      "1    g1\n",
      "2    g2\n",
      "3    g3\n",
      "dtype: object \n",
      "\n"
     ]
    }
   ],
   "source": [
    "# 시리즈 만들기\n",
    "sr1 = pd.Series(['e0', 'e1', 'e2', 'e3'], name='e')\n",
    "sr2 = pd.Series(['f0', 'f1', 'f2'], name='f', index=[3, 4, 5])\n",
    "sr3 = pd.Series(['g0', 'g1', 'g2', 'g3'], name='g')\n",
    "\n",
    "# df1과 sr1을 좌우 열 방향으로 연결하기\n",
    "result4 = pd.concat([df1, sr1], axis=1)\n",
    "print(result4, '\\n')\n",
    "\n",
    "# df2과 sr2을 좌우 열 방향으로 연결하기\n",
    "result5 = pd.concat([df2, sr2], axis=1, sort=True)\n",
    "print(result5, '\\n')\n",
    "\n",
    "# sr1과 sr3을 좌우 열 방향으로 연결하기\n",
    "result6 = pd.concat([sr1, sr3], axis=1)\n",
    "print(result6, '\\n')\n",
    "\n",
    "result7 = pd.concat([sr1, sr3], axis=0)\n",
    "print(result7, '\\n')"
   ]
  },
  {
   "cell_type": "code",
   "execution_count": null,
   "id": "f372dc2f-2827-4a59-8bf9-acdf087d9731",
   "metadata": {},
   "outputs": [],
   "source": []
  }
 ],
 "metadata": {
  "kernelspec": {
   "display_name": "Python 3 (ipykernel)",
   "language": "python",
   "name": "python3"
  },
  "language_info": {
   "codemirror_mode": {
    "name": "ipython",
    "version": 3
   },
   "file_extension": ".py",
   "mimetype": "text/x-python",
   "name": "python",
   "nbconvert_exporter": "python",
   "pygments_lexer": "ipython3",
   "version": "3.9.12"
  }
 },
 "nbformat": 4,
 "nbformat_minor": 5
}
