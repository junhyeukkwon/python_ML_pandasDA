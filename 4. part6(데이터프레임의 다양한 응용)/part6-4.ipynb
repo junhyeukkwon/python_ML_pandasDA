{
 "cells": [
  {
   "cell_type": "markdown",
   "id": "440c9feb-22c7-4aea-865a-ecfae9f5f3ad",
   "metadata": {},
   "source": [
    "## 그룹연산"
   ]
  },
  {
   "cell_type": "markdown",
   "id": "a465f809-f630-4d32-94ae-cc35329510d3",
   "metadata": {},
   "source": [
    "- 복잡한 데이터를 어떤 기준에 따라 여러 그룹으로 나눠서 관찰하는 것도 좋은 방법이다.\n",
    "- 특정 기준을 적용하여 몇개의 그룹으로 분할하여 처리하는 것을 그룹연산이라고 부른다.\n",
    "- 특히 그룹연산은 데이터를 집계, 변환, 필터링하는데 효율적이다. 데이터 그룹을 분할하는 1단계 과정은 판다스 groupby() 메소드를 사용한다.\n",
    "1. 분할(split): 데이터를 특정 조건에 의해 분할\n",
    "2. 적용(apply): 데이터를 집계, 변환, 필터링하는데 필요한 메소드를 적용\n",
    "3. 결합(combine): 2단계의 처리 결과를 하나로 결합"
   ]
  },
  {
   "cell_type": "markdown",
   "id": "4c773d2c-02cc-4209-8593-71b49554636e",
   "metadata": {},
   "source": [
    "### 1. 그룹 객체 만들기(분할 단계)"
   ]
  },
  {
   "cell_type": "markdown",
   "id": "6c8942c7-c265-4f77-a603-1956c4b1afe9",
   "metadata": {},
   "source": [
    "1개의 열을 기준으로 그룹화 : DataFrame.groupby(기준이되는열)"
   ]
  },
  {
   "cell_type": "markdown",
   "id": "2bbcb7e9-e86a-466c-bc87-37a3f4ea60f8",
   "metadata": {},
   "source": [
    "titanic 데이터셋에서 class열을 기준으로 하여 그룹으로 나눈다."
   ]
  },
  {
   "cell_type": "code",
   "execution_count": 1,
   "id": "173edc03-7da8-4973-8e6d-4c0e3fdcaa2a",
   "metadata": {},
   "outputs": [],
   "source": [
    "import pandas as pd\n",
    "import seaborn as sns"
   ]
  },
  {
   "cell_type": "code",
   "execution_count": 2,
   "id": "4c54df6d-1bdc-4ad9-ae37-6d62fe1e6a55",
   "metadata": {},
   "outputs": [
    {
     "name": "stdout",
     "output_type": "stream",
     "text": [
      "승객수: 891\n"
     ]
    }
   ],
   "source": [
    "titanic = sns.load_dataset('titanic')\n",
    "df = titanic.loc[:,['age','sex','class','fare','survived']]\n",
    "\n",
    "print('승객수:', len(df))"
   ]
  },
  {
   "cell_type": "code",
   "execution_count": 3,
   "id": "91189513-96ed-43d6-bf7a-8f1173df595d",
   "metadata": {},
   "outputs": [
    {
     "data": {
      "text/html": [
       "<div>\n",
       "<style scoped>\n",
       "    .dataframe tbody tr th:only-of-type {\n",
       "        vertical-align: middle;\n",
       "    }\n",
       "\n",
       "    .dataframe tbody tr th {\n",
       "        vertical-align: top;\n",
       "    }\n",
       "\n",
       "    .dataframe thead th {\n",
       "        text-align: right;\n",
       "    }\n",
       "</style>\n",
       "<table border=\"1\" class=\"dataframe\">\n",
       "  <thead>\n",
       "    <tr style=\"text-align: right;\">\n",
       "      <th></th>\n",
       "      <th>age</th>\n",
       "      <th>sex</th>\n",
       "      <th>class</th>\n",
       "      <th>fare</th>\n",
       "      <th>survived</th>\n",
       "    </tr>\n",
       "  </thead>\n",
       "  <tbody>\n",
       "    <tr>\n",
       "      <th>0</th>\n",
       "      <td>22.0</td>\n",
       "      <td>male</td>\n",
       "      <td>Third</td>\n",
       "      <td>7.2500</td>\n",
       "      <td>0</td>\n",
       "    </tr>\n",
       "    <tr>\n",
       "      <th>1</th>\n",
       "      <td>38.0</td>\n",
       "      <td>female</td>\n",
       "      <td>First</td>\n",
       "      <td>71.2833</td>\n",
       "      <td>1</td>\n",
       "    </tr>\n",
       "    <tr>\n",
       "      <th>2</th>\n",
       "      <td>26.0</td>\n",
       "      <td>female</td>\n",
       "      <td>Third</td>\n",
       "      <td>7.9250</td>\n",
       "      <td>1</td>\n",
       "    </tr>\n",
       "    <tr>\n",
       "      <th>3</th>\n",
       "      <td>35.0</td>\n",
       "      <td>female</td>\n",
       "      <td>First</td>\n",
       "      <td>53.1000</td>\n",
       "      <td>1</td>\n",
       "    </tr>\n",
       "    <tr>\n",
       "      <th>4</th>\n",
       "      <td>35.0</td>\n",
       "      <td>male</td>\n",
       "      <td>Third</td>\n",
       "      <td>8.0500</td>\n",
       "      <td>0</td>\n",
       "    </tr>\n",
       "  </tbody>\n",
       "</table>\n",
       "</div>"
      ],
      "text/plain": [
       "    age     sex  class     fare  survived\n",
       "0  22.0    male  Third   7.2500         0\n",
       "1  38.0  female  First  71.2833         1\n",
       "2  26.0  female  Third   7.9250         1\n",
       "3  35.0  female  First  53.1000         1\n",
       "4  35.0    male  Third   8.0500         0"
      ]
     },
     "execution_count": 3,
     "metadata": {},
     "output_type": "execute_result"
    }
   ],
   "source": [
    "df.head()"
   ]
  },
  {
   "cell_type": "code",
   "execution_count": 4,
   "id": "577b7e92-a86e-411b-9b70-7e465c114e14",
   "metadata": {},
   "outputs": [],
   "source": [
    "grouped = df.groupby(['class'])"
   ]
  },
  {
   "cell_type": "markdown",
   "id": "dd77d928-4dea-4990-838e-e3c67ac85097",
   "metadata": {},
   "source": [
    "df_cls 그룹객체에서 반복문을 통해 first, second, third 데이터 값의 개수를 알수있다."
   ]
  },
  {
   "cell_type": "code",
   "execution_count": 5,
   "id": "eac55ab2-b267-4885-9338-85e4e46e211e",
   "metadata": {},
   "outputs": [
    {
     "name": "stdout",
     "output_type": "stream",
     "text": [
      "key: First\n",
      "number: 216\n",
      "     age     sex  class     fare  survived\n",
      "1   38.0  female  First  71.2833         1\n",
      "3   35.0  female  First  53.1000         1\n",
      "6   54.0    male  First  51.8625         0\n",
      "11  58.0  female  First  26.5500         1\n",
      "23  28.0    male  First  35.5000         1\n",
      "\n",
      "\n",
      "key: Second\n",
      "number: 184\n",
      "     age     sex   class     fare  survived\n",
      "9   14.0  female  Second  30.0708         1\n",
      "15  55.0  female  Second  16.0000         1\n",
      "17   NaN    male  Second  13.0000         1\n",
      "20  35.0    male  Second  26.0000         0\n",
      "21  34.0    male  Second  13.0000         1\n",
      "\n",
      "\n",
      "key: Third\n",
      "number: 491\n",
      "    age     sex  class     fare  survived\n",
      "0  22.0    male  Third   7.2500         0\n",
      "2  26.0  female  Third   7.9250         1\n",
      "4  35.0    male  Third   8.0500         0\n",
      "5   NaN    male  Third   8.4583         0\n",
      "7   2.0    male  Third  21.0750         0\n",
      "\n",
      "\n"
     ]
    }
   ],
   "source": [
    "for key, group in grouped:\n",
    "    print('key:', key)\n",
    "    print('number:', len(group))\n",
    "    print(group.head())\n",
    "    print('\\n')"
   ]
  },
  {
   "cell_type": "markdown",
   "id": "033451f6-bf91-4b2e-b61c-50e9b9358b77",
   "metadata": {},
   "source": [
    "앞서 생성한 그룹 객체인 grouped에 연산 메소드를 적용할 수 있다. 그룹별 평균값을 구하기 위해 mean() 메소드를 적용하자."
   ]
  },
  {
   "cell_type": "code",
   "execution_count": 6,
   "id": "33da7a49-28ce-4cd3-afff-278306ea61ad",
   "metadata": {},
   "outputs": [
    {
     "name": "stdout",
     "output_type": "stream",
     "text": [
      "              age       fare  survived\n",
      "class                                 \n",
      "First   38.233441  84.154687  0.629630\n",
      "Second  29.877630  20.662183  0.472826\n",
      "Third   25.140620  13.675550  0.242363\n"
     ]
    }
   ],
   "source": [
    "average = grouped.mean()\n",
    "print(average) # 범주형 컬럼은 제외"
   ]
  },
  {
   "cell_type": "markdown",
   "id": "ebb409ae-e537-4aec-a129-1f5daab561dc",
   "metadata": {},
   "source": [
    "그룹 객체에 get_group() 메소드를 적용하면 특정 그룹만을 선택할 수 있다. grouped 객체의 3개의 그룹 중 키 값이 'Third'인 3등석 승객의 데이터를 가진 그룹을 따로 선택해 추출해보자."
   ]
  },
  {
   "cell_type": "code",
   "execution_count": 9,
   "id": "9646f2c2-4232-40fc-934d-5f9f472f6e45",
   "metadata": {},
   "outputs": [
    {
     "name": "stdout",
     "output_type": "stream",
     "text": [
      "    age     sex  class     fare  survived\n",
      "0  22.0    male  Third   7.2500         0\n",
      "2  26.0  female  Third   7.9250         1\n",
      "4  35.0    male  Third   8.0500         0\n",
      "5   NaN    male  Third   8.4583         0\n",
      "7   2.0    male  Third  21.0750         0\n"
     ]
    }
   ],
   "source": [
    "group3 = grouped.get_group('Third')\n",
    "print(group3.head())"
   ]
  },
  {
   "cell_type": "markdown",
   "id": "54d96a43-ef86-4dab-86d5-a7983bbd0a30",
   "metadata": {},
   "source": [
    "### 여러 열을 기준으로 그룹화"
   ]
  },
  {
   "cell_type": "markdown",
   "id": "be4de174-38c4-4819-86a3-d0490ad5cedb",
   "metadata": {},
   "source": [
    "- 이번에는 groupby() 메소드에 여러 개의 열을 리스트로 전달하는 방법을 알아보자.\n",
    "- 여러 개의 기준 값을 사용하기 때문에 반환되는 그룹 객체의 인덱스는 다중 구조를 갖는다.\n",
    "- DataFrame.groupby(기준이되는열의 리스트)"
   ]
  },
  {
   "cell_type": "markdown",
   "id": "893d08f3-2597-41ca-91b1-0cb2a9a73da1",
   "metadata": {},
   "source": [
    "groupby() 메소드에 두열('class', 'sex')을 인자로 전달하면 두 열이 갖는 원소 값들로 만들 수 있는 모든 조합으로 키를 생성한다. 그렇게 조합된 키를 기준으로 그룹객체를 만든다.   \n",
    "class열에는 First, Second, Third라는 3개의 값이 있고, sex열에는 female, male 2개의 값이 들어 있다. 가능한 조합은('class', 'sex')형식의 투플로 지정되는대 ('First', 'female')을 포함하여 6개의 키가 조합으로 만들어진다."
   ]
  },
  {
   "cell_type": "code",
   "execution_count": 10,
   "id": "d5e497be-383e-403a-8453-bba82557157e",
   "metadata": {},
   "outputs": [
    {
     "name": "stdout",
     "output_type": "stream",
     "text": [
      "key : ('First', 'female')\n",
      "number : 94\n",
      "     age     sex  class      fare  survived\n",
      "1   38.0  female  First   71.2833         1\n",
      "3   35.0  female  First   53.1000         1\n",
      "11  58.0  female  First   26.5500         1\n",
      "31   NaN  female  First  146.5208         1\n",
      "52  49.0  female  First   76.7292         1\n",
      "\n",
      "\n",
      "key : ('First', 'male')\n",
      "number : 122\n",
      "     age   sex  class      fare  survived\n",
      "6   54.0  male  First   51.8625         0\n",
      "23  28.0  male  First   35.5000         1\n",
      "27  19.0  male  First  263.0000         0\n",
      "30  40.0  male  First   27.7208         0\n",
      "34  28.0  male  First   82.1708         0\n",
      "\n",
      "\n",
      "key : ('Second', 'female')\n",
      "number : 76\n",
      "     age     sex   class     fare  survived\n",
      "9   14.0  female  Second  30.0708         1\n",
      "15  55.0  female  Second  16.0000         1\n",
      "41  27.0  female  Second  21.0000         0\n",
      "43   3.0  female  Second  41.5792         1\n",
      "53  29.0  female  Second  26.0000         1\n",
      "\n",
      "\n",
      "key : ('Second', 'male')\n",
      "number : 108\n",
      "     age   sex   class  fare  survived\n",
      "17   NaN  male  Second  13.0         1\n",
      "20  35.0  male  Second  26.0         0\n",
      "21  34.0  male  Second  13.0         1\n",
      "33  66.0  male  Second  10.5         0\n",
      "70  32.0  male  Second  10.5         0\n",
      "\n",
      "\n",
      "key : ('Third', 'female')\n",
      "number : 144\n",
      "     age     sex  class     fare  survived\n",
      "2   26.0  female  Third   7.9250         1\n",
      "8   27.0  female  Third  11.1333         1\n",
      "10   4.0  female  Third  16.7000         1\n",
      "14  14.0  female  Third   7.8542         0\n",
      "18  31.0  female  Third  18.0000         0\n",
      "\n",
      "\n",
      "key : ('Third', 'male')\n",
      "number : 347\n",
      "     age   sex  class     fare  survived\n",
      "0   22.0  male  Third   7.2500         0\n",
      "4   35.0  male  Third   8.0500         0\n",
      "5    NaN  male  Third   8.4583         0\n",
      "7    2.0  male  Third  21.0750         0\n",
      "12  20.0  male  Third   8.0500         0\n",
      "\n",
      "\n"
     ]
    }
   ],
   "source": [
    "grouped_two = df.groupby(['class','sex'])\n",
    "\n",
    "\n",
    "for key, group in grouped_two:\n",
    "    print('key :', key)\n",
    "    print('number :', len(group))\n",
    "    print(group.head())\n",
    "    print('\\n')"
   ]
  },
  {
   "cell_type": "markdown",
   "id": "fc0a2acb-66c1-4c9f-ba7b-acaf71ffa16a",
   "metadata": {},
   "source": [
    "grouped_two 객체의 각 그룹에 mean()  메소드를 적용하면 어떻게 될까?    \n",
    "이때 데이터프레임이 반환이 되는데, 키가 되는 2개의 열의 값으로 부터 2중 멀티 인덱스가 지정된다."
   ]
  },
  {
   "cell_type": "code",
   "execution_count": 12,
   "id": "237ccb56-5b4f-42a6-9f93-f0f78f9ffd49",
   "metadata": {},
   "outputs": [
    {
     "name": "stdout",
     "output_type": "stream",
     "text": [
      "                     age        fare  survived\n",
      "class  sex                                    \n",
      "First  female  34.611765  106.125798  0.968085\n",
      "       male    41.281386   67.226127  0.368852\n",
      "Second female  28.722973   21.970121  0.921053\n",
      "       male    30.740707   19.741782  0.157407\n",
      "Third  female  21.750000   16.118810  0.500000\n",
      "       male    26.507589   12.661633  0.135447\n",
      "\n",
      "\n",
      "<class 'pandas.core.frame.DataFrame'>\n"
     ]
    }
   ],
   "source": [
    "average_two = grouped_two.mean()\n",
    "print(average_two)\n",
    "print('\\n')\n",
    "print(type(average_two))"
   ]
  },
  {
   "cell_type": "markdown",
   "id": "82748f08-913e-4923-8784-bd530fe4fa09",
   "metadata": {},
   "source": [
    "전체적으로 성별에서 어느클래스든 여자가 월등히 생존율이 높다. 그리고 first클래스의 여성이 가장 생존율이 높다.   \n",
    "get_group() 메소드를 활용하여 멀티 인덱스를 이용하여 특정 그룹만을 골라서 추출하는 방법이다.    \n",
    "인자로 전달하는 키는 튜플로 입력한다. 예로 grouped_two 객체의 6개의 그룹 중 키가 ('Thrid', 'female')인 그룹을 추출해보자.\n"
   ]
  },
  {
   "cell_type": "code",
   "execution_count": 14,
   "id": "eb571de5-10f3-4993-846d-c07be8444250",
   "metadata": {},
   "outputs": [
    {
     "name": "stdout",
     "output_type": "stream",
     "text": [
      "      age     sex  class     fare  survived\n",
      "2    26.0  female  Third   7.9250         1\n",
      "8    27.0  female  Third  11.1333         1\n",
      "10    4.0  female  Third  16.7000         1\n",
      "14   14.0  female  Third   7.8542         0\n",
      "18   31.0  female  Third  18.0000         0\n",
      "..    ...     ...    ...      ...       ...\n",
      "863   NaN  female  Third  69.5500         0\n",
      "875  15.0  female  Third   7.2250         1\n",
      "882  22.0  female  Third  10.5167         0\n",
      "885  39.0  female  Third  29.1250         0\n",
      "888   NaN  female  Third  23.4500         0\n",
      "\n",
      "[144 rows x 5 columns]\n"
     ]
    }
   ],
   "source": [
    "groupTf = grouped_two.get_group(('Third', 'female'))\n",
    "print(groupTf)"
   ]
  },
  {
   "cell_type": "markdown",
   "id": "89d2f207-04ba-4021-bdce-ca4a7fd371ef",
   "metadata": {},
   "source": [
    "총 144개의 데이터를 볼 수 있다."
   ]
  },
  {
   "cell_type": "markdown",
   "id": "5d5b4df6-f3a1-4c09-a39d-a20eeb7f9223",
   "metadata": {},
   "source": [
    "### 2. 그룹연산 메소드(적용-결합단계)"
   ]
  },
  {
   "cell_type": "markdown",
   "id": "454331ac-bc7a-4a9e-9256-9703812049b6",
   "metadata": {},
   "source": [
    "- 앞에서 분할한 그룹 객체에 대해서 각 그룹별 평균을 계산한 것처럼, 그룹 객체에 다양한 연산을 적용할 수 있다. 이 과정을 데이터 집계(aggreagtion)라고 부른다.\n",
    "- 집계 기능을 내장하고 있는 판다스 기본 함수에는 mean(), max(), min(), sum(), count(), size(), var(), std(), decribe(), info(), first(), last()등이 있다."
   ]
  },
  {
   "cell_type": "markdown",
   "id": "db303d56-830c-4791-8f34-0ceac2edcaa0",
   "metadata": {},
   "source": [
    "예로 그룹 객체의 표준편차를 구해보자 일단 판다스 객체에 std() 메소드를 사용하면 된다."
   ]
  },
  {
   "cell_type": "code",
   "execution_count": 17,
   "id": "fdaf6987-27e3-4bb5-886a-2b65f02c5e9f",
   "metadata": {},
   "outputs": [
    {
     "name": "stdout",
     "output_type": "stream",
     "text": [
      "              age       fare  survived\n",
      "class                                 \n",
      "First   14.802856  78.380373  0.484026\n",
      "Second  14.001077  13.417399  0.500623\n",
      "Third   12.495398  11.778142  0.428949\n",
      "<class 'pandas.core.frame.DataFrame'>\n",
      "\n",
      "\n",
      "class\n",
      "First     78.380373\n",
      "Second    13.417399\n",
      "Third     11.778142\n",
      "Name: fare, dtype: float64\n",
      "<class 'pandas.core.series.Series'>\n"
     ]
    }
   ],
   "source": [
    "titatic = sns.load_dataset('titanic')\n",
    "df = titanic.loc[:, ['age','sex','class','fare','survived']]\n",
    "\n",
    "# class열을 기준으로 분할\n",
    "grouped = df.groupby(['class'])\n",
    "\n",
    "# 그룹에 대한 연산 std() 적용\n",
    "group_std_all = grouped.std()\n",
    "print(group_std_all)\n",
    "print(type(group_std_all))\n",
    "print('\\n')\n",
    "\n",
    "# 각 그룹에 대한 fare열의 표준편차를 집계하여 시리즈로 변환\n",
    "group_fare_std = grouped['fare'].std()\n",
    "print(group_fare_std)\n",
    "print(type(group_fare_std))"
   ]
  },
  {
   "cell_type": "markdown",
   "id": "3acae008-35bf-4f6f-ad15-3fd566653986",
   "metadata": {},
   "source": [
    "집계 연산을 처리하는 사용자 정의 함수를 그룹 객체에 적용하려면 agg() 메소드를 사용한다.\n",
    "다음 예제는 최대값과 최소값의 차를 계산하는 함수를 정의하여 사용한다."
   ]
  },
  {
   "cell_type": "code",
   "execution_count": 18,
   "id": "9572e5f7-39fc-437c-b97c-f9693a6a726f",
   "metadata": {},
   "outputs": [
    {
     "name": "stdout",
     "output_type": "stream",
     "text": [
      "          age      fare  survived\n",
      "class                            \n",
      "First   79.08  512.3292         1\n",
      "Second  69.33   73.5000         1\n",
      "Third   73.58   69.5500         1\n"
     ]
    },
    {
     "name": "stderr",
     "output_type": "stream",
     "text": [
      "/tmp/ipykernel_1130/1447101471.py:6: FutureWarning: ['sex'] did not aggregate successfully. If any error is raised this will raise in a future version of pandas. Drop these columns/ops to avoid this warning.\n",
      "  agg_minmax = grouped.agg(min_max)\n"
     ]
    }
   ],
   "source": [
    "# 그룹 객체에 agg() 메소드를 적용 - 사용자 정의 함수를 인자로 전달\n",
    "def min_max(x):\n",
    "    return x.max()-x.min()\n",
    "\n",
    "# 각 그룹의 최대값과 최소값의 차이를 계산하여 그룹별로 집계\n",
    "agg_minmax = grouped.agg(min_max)\n",
    "print(agg_minmax)"
   ]
  },
  {
   "cell_type": "markdown",
   "id": "7604c676-adf4-4c4b-a143-fd33f8f068bb",
   "metadata": {},
   "source": [
    "위에 경고는 범주형 변수인 sex열이 집계가 되지 않았다는 경고이다. 당연히 집계는 열 데이터가 number로 되어 있는 데이터만 계산이 된다."
   ]
  },
  {
   "cell_type": "markdown",
   "id": "218142eb-68d3-467f-a4c6-d199a5a56523",
   "metadata": {},
   "source": [
    "동시에 여러 개의 함수를 사용하여 각 그룹별 데이터에 대한 집계 연산을 처리할 수 있다. 각각의 열에 여러 개의 함수를 일괄 적용할 때는 리스트 형태로 인수를 전달하고, 열마다 다른 종류의 함수를 적용하려면 {열: 함수} 형태로 전달한다."
   ]
  },
  {
   "cell_type": "code",
   "execution_count": 19,
   "id": "8d3db032-d824-4d8e-b820-aea75efb7612",
   "metadata": {},
   "outputs": [
    {
     "name": "stdout",
     "output_type": "stream",
     "text": [
      "         age           sex       fare           survived    \n",
      "         min   max     min   max  min       max      min max\n",
      "class                                                       \n",
      "First   0.92  80.0  female  male  0.0  512.3292        0   1\n",
      "Second  0.67  70.0  female  male  0.0   73.5000        0   1\n",
      "Third   0.42  74.0  female  male  0.0   69.5500        0   1\n",
      "\n",
      "\n",
      "       fare                  age\n",
      "        min       max       mean\n",
      "class                           \n",
      "First   0.0  512.3292  38.233441\n",
      "Second  0.0   73.5000  29.877630\n",
      "Third   0.0   69.5500  25.140620\n"
     ]
    }
   ],
   "source": [
    "# 여러 함수를 각 열에 동일하게 적용하여 집계\n",
    "agg_all = grouped.agg(['min','max'])\n",
    "print(agg_all)\n",
    "print('\\n')\n",
    "\n",
    "# 각 열마다 다른 함수를 적용하여 집계\n",
    "agg_sep = grouped.agg({'fare':['min', 'max'], 'age':'mean'})\n",
    "print(agg_sep)"
   ]
  },
  {
   "cell_type": "markdown",
   "id": "7972bd7d-96f2-453a-a1d6-df14e750a4e7",
   "metadata": {},
   "source": [
    "앞에서 2개의 함수를 리스트 형태로 입력하면 각 열에 대하여 2개의 함수의 연산 결과를 각각 집계하여 다른 열로 구분하여 표시한다. 이때 함수명을 열이름에 추가하여 2중 열 구조를 만든다."
   ]
  },
  {
   "cell_type": "markdown",
   "id": "5da578c6-69d1-4719-b638-cd5b56c68223",
   "metadata": {},
   "source": [
    "### 그룹 연산 데이터 변환"
   ]
  },
  {
   "cell_type": "markdown",
   "id": "d58492a4-4343-4e58-9217-e3dcaf9692f0",
   "metadata": {},
   "source": [
    "- 앞에서 살펴본 agg() 메소드는 각 그룹별 데이터에 연산을 위한 함수를 구분 적용하고, 그룹별로 연산 결과를 집계하여 반환한다.\n",
    "- transform() 메소드는 그룹별로 구분하는 각 원소에 함수를 적용하지만 그룹별 집계 대신 각 원소의 본래 행 인덱스와 열이름 기준으로 연산 결과를 반환한다. 즉, 그룹 연산의 결괄르 원본 데이터프레임과 같은 형태로 변형하여 정리하는 것이다."
   ]
  },
  {
   "cell_type": "markdown",
   "id": "19d9cbfc-4372-40a4-b002-456daecd749a",
   "metadata": {},
   "source": [
    "예제로 'age'열에 포함된 개별 데이터의 z-score를 과정을 살펴보자."
   ]
  },
  {
   "cell_type": "code",
   "execution_count": 20,
   "id": "9931769a-ee9e-4dde-a72b-86cf8ef91145",
   "metadata": {},
   "outputs": [
    {
     "name": "stdout",
     "output_type": "stream",
     "text": [
      "class\n",
      "First     38.233441\n",
      "Second    29.877630\n",
      "Third     25.140620\n",
      "Name: age, dtype: float64\n",
      "\n",
      "\n",
      "class\n",
      "First     14.802856\n",
      "Second    14.001077\n",
      "Third     12.495398\n",
      "Name: age, dtype: float64\n",
      "\n",
      "\n",
      "origin:  First\n",
      "1     -0.015770\n",
      "3     -0.218434\n",
      "6      1.065103\n",
      "11     1.335321\n",
      "23    -0.691315\n",
      "         ...   \n",
      "871    0.592221\n",
      "872   -0.353543\n",
      "879    1.200212\n",
      "887   -1.299306\n",
      "889   -0.826424\n",
      "Name: age, Length: 216, dtype: float64\n",
      "\n",
      "\n",
      "origin:  Second\n",
      "9     -1.134029\n",
      "15     1.794317\n",
      "17          NaN\n",
      "20     0.365855\n",
      "21     0.294432\n",
      "         ...   \n",
      "866   -0.205529\n",
      "874   -0.134106\n",
      "880   -0.348375\n",
      "883   -0.134106\n",
      "886   -0.205529\n",
      "Name: age, Length: 184, dtype: float64\n",
      "\n",
      "\n",
      "origin:  Third\n",
      "0     -0.251342\n",
      "2      0.068776\n",
      "4      0.789041\n",
      "5           NaN\n",
      "7     -1.851931\n",
      "         ...   \n",
      "882   -0.251342\n",
      "884   -0.011254\n",
      "885    1.109159\n",
      "888         NaN\n",
      "890    0.548953\n",
      "Name: age, Length: 491, dtype: float64\n",
      "\n",
      "\n"
     ]
    }
   ],
   "source": [
    "# 그룹별 age열의 평균 집계 연산\n",
    "age_mean = grouped.age.mean()\n",
    "print(age_mean)\n",
    "print('\\n')\n",
    "\n",
    "# 그룹별 age 열의 표준편차 집계 연산\n",
    "age_std = grouped.age.std()\n",
    "print(age_std)\n",
    "print('\\n')\n",
    "\n",
    "# 그룹 객체의 age열을 iteration으로 z-score를 계산하여 출력\n",
    "for key, group in grouped.age:\n",
    "    group_zscore = (group- age_mean.loc[key])/age_std.loc[key] #그룹의 각 레코드를 돌면서 그에 맞는 age열의 평균값을 빼고 표준편차를 나눠준다.\n",
    "    print('origin: ', key)\n",
    "    print(group_zscore)\n",
    "    print('\\n')"
   ]
  },
  {
   "cell_type": "markdown",
   "id": "8eba3ae1-7b2d-4ae7-ad8c-9ad39b3bdb56",
   "metadata": {},
   "source": [
    "이번에는 transform() 메소드를 사용하여 z-score를 직접 변환해보자.\n",
    "z-score를 계산하는 사용자 함수를 정의하고 transform() 메소드의 인자로 전달한다. 각 그룹별 평균과 표준편차를 이용하여 각 원소의 z-score를 계산하지만, 반환되는 객체는 그룹별로 나누지 않고 원래 행 인덱스 순서로 정렬된다."
   ]
  },
  {
   "cell_type": "code",
   "execution_count": 23,
   "id": "c8c07db6-abe3-4d61-92c5-effe75c42647",
   "metadata": {},
   "outputs": [
    {
     "name": "stdout",
     "output_type": "stream",
     "text": [
      "1   -0.015770\n",
      "9   -1.134029\n",
      "0   -0.251342\n",
      "Name: age, dtype: float64\n",
      "\n",
      "\n",
      "891\n",
      "\n",
      "\n",
      "0   -0.251342\n",
      "1   -0.015770\n",
      "2    0.068776\n",
      "3   -0.218434\n",
      "4    0.789041\n",
      "5         NaN\n",
      "6    1.065103\n",
      "7   -1.851931\n",
      "8    0.148805\n",
      "9   -1.134029\n",
      "Name: age, dtype: float64\n",
      "\n",
      "\n",
      "<class 'pandas.core.series.Series'>\n"
     ]
    }
   ],
   "source": [
    "# zscore를 계산하는 사용자 함수 정의\n",
    "def z_score(x):\n",
    "    return (x- x.mean())/x.std()\n",
    "\n",
    "# transform() 메소드를 이용하여 age열의 데이터를 zscore화\n",
    "age_zscore = grouped.age.transform(z_score)\n",
    "print(age_zscore.iloc[[1,9,0]]) #1,2,3그룹의 첫 데이터 확인\n",
    "print('\\n')\n",
    "print(len(age_zscore))\n",
    "print('\\n')\n",
    "print(age_zscore.loc[0:9]) # transform 메소드 변환 값 출력(첫10개)\n",
    "print('\\n')\n",
    "print(type(age_zscore))"
   ]
  },
  {
   "cell_type": "markdown",
   "id": "173d9280-1e61-40e7-b036-ba49185d68ba",
   "metadata": {},
   "source": [
    "### 그룹 객체 필터링"
   ]
  },
  {
   "cell_type": "markdown",
   "id": "751c1c2e-002a-4800-8666-52a0eb14d9b5",
   "metadata": {},
   "source": [
    "- 그룹 객체에 그룹객체.filter(조건식 함수) 메소드를 적용할 때 조건식을 가진 함수를 전달하면 조건이 참인 그룹만을 남긴다.\n"
   ]
  },
  {
   "cell_type": "markdown",
   "id": "7eb3e667-9b86-4901-8760-bbc96c0bfcc3",
   "metadata": {},
   "source": [
    "예제로는 그룹별로 데이터 개수가 200개 이상인 그룹만을 따로 필터링하는 것이다."
   ]
  },
  {
   "cell_type": "code",
   "execution_count": 27,
   "id": "306fba48-6aa4-48b4-937c-150115332ed6",
   "metadata": {},
   "outputs": [
    {
     "name": "stdout",
     "output_type": "stream",
     "text": [
      "    age     sex  class     fare  survived\n",
      "0  22.0    male  Third   7.2500         0\n",
      "1  38.0  female  First  71.2833         1\n",
      "2  26.0  female  Third   7.9250         1\n",
      "3  35.0  female  First  53.1000         1\n",
      "4  35.0    male  Third   8.0500         0\n",
      "\n",
      "\n",
      "<class 'pandas.core.frame.DataFrame'>\n",
      "\n",
      "\n",
      "Third     491\n",
      "First     216\n",
      "Second      0\n",
      "Name: class, dtype: int64\n"
     ]
    }
   ],
   "source": [
    "grouped_filter = grouped.filter(lambda x: len(x) >=200)\n",
    "print(grouped_filter.head())\n",
    "print('\\n')\n",
    "print(type(grouped_filter))\n",
    "print('\\n')\n",
    "print(grouped_filter['class'].value_counts())"
   ]
  },
  {
   "cell_type": "markdown",
   "id": "52eaa4cf-1082-4d10-ad86-bcde05331418",
   "metadata": {},
   "source": [
    "해당 필터링 된 데이터에서는 Third 와 First 데이터만 존재한다."
   ]
  },
  {
   "cell_type": "markdown",
   "id": "7419ead6-e287-4e8d-81fc-6ec8cdb8ccfc",
   "metadata": {},
   "source": [
    "이번에는 age 열의 평균값이 30보다 작은 그룹만을 따로 선택한다."
   ]
  },
  {
   "cell_type": "code",
   "execution_count": 29,
   "id": "16cd2057-5f38-4db1-bc42-d75809d48cb5",
   "metadata": {},
   "outputs": [
    {
     "name": "stdout",
     "output_type": "stream",
     "text": [
      "      age     sex   class    fare  survived\n",
      "884  25.0    male   Third   7.050         0\n",
      "885  39.0  female   Third  29.125         0\n",
      "886  27.0    male  Second  13.000         0\n",
      "888   NaN  female   Third  23.450         0\n",
      "890  32.0    male   Third   7.750         0\n",
      "\n",
      "\n",
      "<class 'pandas.core.frame.DataFrame'>\n",
      "\n",
      "\n",
      "Third     491\n",
      "Second    184\n",
      "First       0\n",
      "Name: class, dtype: int64\n"
     ]
    }
   ],
   "source": [
    "age_filter = grouped.filter(lambda x: x['age'].mean() < 30)\n",
    "print(age_filter.tail())\n",
    "print('\\n')\n",
    "print(type(age_filter))\n",
    "print('\\n')\n",
    "print(age_filter['class'].value_counts())"
   ]
  },
  {
   "cell_type": "markdown",
   "id": "b725e7b3-b6bc-406b-ace6-68c2abb89208",
   "metadata": {},
   "source": [
    "평균 나이가 30세보다 낮은 그룹은 Third ,Second 그룹이 해당이 된다."
   ]
  },
  {
   "cell_type": "markdown",
   "id": "a6d11390-ebb2-4cfa-9e4a-f941c6852f73",
   "metadata": {},
   "source": [
    "### 그룹 객체에 함수 매핑"
   ]
  },
  {
   "cell_type": "markdown",
   "id": "89c541d1-12a1-4ee6-9528-67b1902f58f9",
   "metadata": {},
   "source": [
    "그룹객체.apply(매핑함수) 메소드는 판다스 객체의 개별 원소를 특정 함수를 일대일로 매핑한다. 사용자가 원하는 대부분의 연산을 그룹 객체에서 적용할 수 있다.   \n"
   ]
  },
  {
   "cell_type": "markdown",
   "id": "078e4f61-5957-4fa0-afb6-2d3ebc87c9fe",
   "metadata": {},
   "source": [
    "class열을 기준으로 구분한 3개의 그룹에 요약통계 정보를 나타내는 describe()메소드를 적용해보자."
   ]
  },
  {
   "cell_type": "code",
   "execution_count": 31,
   "id": "e7baf37e-8d49-4106-898b-6b32a2ef71c7",
   "metadata": {},
   "outputs": [
    {
     "name": "stdout",
     "output_type": "stream",
     "text": [
      "                     age        fare    survived\n",
      "class                                           \n",
      "First  count  186.000000  216.000000  216.000000\n",
      "       mean    38.233441   84.154687    0.629630\n",
      "       std     14.802856   78.380373    0.484026\n",
      "       min      0.920000    0.000000    0.000000\n",
      "       25%     27.000000   30.923950    0.000000\n",
      "       50%     37.000000   60.287500    1.000000\n",
      "       75%     49.000000   93.500000    1.000000\n",
      "       max     80.000000  512.329200    1.000000\n",
      "Second count  173.000000  184.000000  184.000000\n",
      "       mean    29.877630   20.662183    0.472826\n",
      "       std     14.001077   13.417399    0.500623\n",
      "       min      0.670000    0.000000    0.000000\n",
      "       25%     23.000000   13.000000    0.000000\n",
      "       50%     29.000000   14.250000    0.000000\n",
      "       75%     36.000000   26.000000    1.000000\n",
      "       max     70.000000   73.500000    1.000000\n",
      "Third  count  355.000000  491.000000  491.000000\n",
      "       mean    25.140620   13.675550    0.242363\n",
      "       std     12.495398   11.778142    0.428949\n",
      "       min      0.420000    0.000000    0.000000\n",
      "       25%     18.000000    7.750000    0.000000\n",
      "       50%     24.000000    8.050000    0.000000\n",
      "       75%     32.000000   15.500000    0.000000\n",
      "       max     74.000000   69.550000    1.000000\n"
     ]
    }
   ],
   "source": [
    "agg_grouped = grouped.apply(lambda x: x.describe())\n",
    "print(agg_grouped)"
   ]
  },
  {
   "cell_type": "markdown",
   "id": "06953a7a-76e0-41b0-9999-f4221d07f91a",
   "metadata": {},
   "source": [
    "앞서 transform() 메소드를 사용하여 age의 열데이터에 사용자 정의함수 z-score함수를 적용한것 처럼 apply() 메소드에도 가능하다."
   ]
  },
  {
   "cell_type": "code",
   "execution_count": 32,
   "id": "5f7e6a90-c3d6-461d-a090-f839c63cd458",
   "metadata": {},
   "outputs": [
    {
     "name": "stdout",
     "output_type": "stream",
     "text": [
      "0   -0.251342\n",
      "1   -0.015770\n",
      "2    0.068776\n",
      "3   -0.218434\n",
      "4    0.789041\n",
      "Name: age, dtype: float64\n",
      "\n",
      "\n",
      "0   -0.251342\n",
      "1   -0.015770\n",
      "2    0.068776\n",
      "3   -0.218434\n",
      "4    0.789041\n",
      "Name: age, dtype: float64\n"
     ]
    }
   ],
   "source": [
    "age_zscore_apply = grouped.age.apply(z_score)\n",
    "print(age_zscore_apply.head())\n",
    "print('\\n')\n",
    "print(age_zscore.head())"
   ]
  },
  {
   "cell_type": "markdown",
   "id": "a8bd9915-b4ac-4d10-be59-b8a01dad49c8",
   "metadata": {},
   "source": [
    "앞서 filter() 메서드를 사용해서 age열에 평균 30이상인 데이터를 필터링하는 것도 apply() 메소드로 적용이 가능하다.\n"
   ]
  },
  {
   "cell_type": "code",
   "execution_count": 33,
   "id": "7173748b-1ad5-4cdc-812f-b54a4f935663",
   "metadata": {},
   "outputs": [
    {
     "name": "stdout",
     "output_type": "stream",
     "text": [
      "class\n",
      "First     False\n",
      "Second     True\n",
      "Third      True\n",
      "dtype: bool\n",
      "\n",
      "\n",
      "     age     sex   class     fare  survived\n",
      "9   14.0  female  Second  30.0708         1\n",
      "15  55.0  female  Second  16.0000         1\n",
      "17   NaN    male  Second  13.0000         1\n",
      "20  35.0    male  Second  26.0000         0\n",
      "21  34.0    male  Second  13.0000         1\n",
      "\n",
      "\n",
      "    age     sex  class     fare  survived\n",
      "0  22.0    male  Third   7.2500         0\n",
      "2  26.0  female  Third   7.9250         1\n",
      "4  35.0    male  Third   8.0500         0\n",
      "5   NaN    male  Third   8.4583         0\n",
      "7   2.0    male  Third  21.0750         0\n",
      "\n",
      "\n"
     ]
    }
   ],
   "source": [
    "age_filter_apply = grouped.apply(lambda x: x.age.mean() < 30)\n",
    "print(age_filter_apply)\n",
    "print('\\n')\n",
    "\n",
    "for x in age_filter_apply.index:\n",
    "    if age_filter_apply[x] == True:\n",
    "        age_filter_apply_df = grouped.get_group(x)\n",
    "        print(age_filter_apply_df.head())\n",
    "        print('\\n')"
   ]
  },
  {
   "cell_type": "markdown",
   "id": "9576270c-d45f-43c9-a17d-36061a95c149",
   "metadata": {},
   "source": [
    "filter() 메소드를 적용하면 데이터프레임이 반환이 되고, apply() 메소드를 적용하면 조건이 맞는 참 혹은 거짓 값을 나오므로 값을 보고 싶다면 반복문을 통해서 값을 출력해야한다."
   ]
  },
  {
   "cell_type": "markdown",
   "id": "586fef35-acaf-4b0b-85a4-8f0c8db86e37",
   "metadata": {},
   "source": [
    "## 멀티 인덱스"
   ]
  },
  {
   "cell_type": "markdown",
   "id": "fe24d4ce-3eae-4e94-ba98-8228274873c9",
   "metadata": {},
   "source": [
    "- groupby() 메소드에 여러 열을 리스트 형태로 전달하면 각 열들이 다중으로 행 인덱스를 구성하는 것을 보았다.\n",
    "- 이처럼 판다스는 행 인덱스를 여러 레벨로 구현할 수 있도록 멀티 인덱스 클래스를 지원한다."
   ]
  },
  {
   "cell_type": "markdown",
   "id": "d9ce21e8-04fd-4912-b585-5b7ccc130df8",
   "metadata": {},
   "source": [
    "먼저 'class', 'sex' 열에 들어 있는 객실의 등급과 남녀 성별을 기준으로 그룹화하는 예시를 들어보자. 그리고 그룹 객체에 mean() 메소드를 적용하면 그룹별로 각 열의 평균값을 정리하여 반환한다. 이때 반환되는 객체는 멀티 인덱스를 가진 데이터프레임이다."
   ]
  },
  {
   "cell_type": "code",
   "execution_count": 34,
   "id": "f63f9a9e-08b7-4ad7-a0a5-4f565adb432f",
   "metadata": {},
   "outputs": [
    {
     "name": "stdout",
     "output_type": "stream",
     "text": [
      "                     age        fare  survived\n",
      "class  sex                                    \n",
      "First  female  34.611765  106.125798  0.968085\n",
      "       male    41.281386   67.226127  0.368852\n",
      "Second female  28.722973   21.970121  0.921053\n",
      "       male    30.740707   19.741782  0.157407\n",
      "Third  female  21.750000   16.118810  0.500000\n",
      "       male    26.507589   12.661633  0.135447\n",
      "\n",
      "\n",
      "<class 'pandas.core.frame.DataFrame'>\n"
     ]
    }
   ],
   "source": [
    "# 그룹화\n",
    "grouped = df.groupby(['class','sex'])\n",
    "\n",
    "# 그룹객체에 집계연산 mean() 적용\n",
    "gdf = grouped.mean()\n",
    "print(gdf)\n",
    "print('\\n')\n",
    "print(type(gdf))"
   ]
  },
  {
   "cell_type": "markdown",
   "id": "536f03fc-9b29-4fcd-aad4-65fb557b27bb",
   "metadata": {},
   "source": [
    "데이터프레임 gdf의 멀티 인덱스에서 하나의 인덱스만 사용하는 방법을 알아보자. loc 행인덱서를 사용하여 class인덱스에서 First라는 값을 가진 행을 선택하자."
   ]
  },
  {
   "cell_type": "code",
   "execution_count": 35,
   "id": "afe6fb5e-bdd7-4e03-ad21-f1b6070f64ba",
   "metadata": {},
   "outputs": [
    {
     "name": "stdout",
     "output_type": "stream",
     "text": [
      "              age        fare  survived\n",
      "sex                                    \n",
      "female  34.611765  106.125798  0.968085\n",
      "male    41.281386   67.226127  0.368852\n"
     ]
    }
   ],
   "source": [
    "print(gdf.loc['First'])"
   ]
  },
  {
   "cell_type": "markdown",
   "id": "5c822637-7f41-42f4-8238-797b086fa4bb",
   "metadata": {},
   "source": [
    "이번에는 멀티인덱스에서 두개의 인덱스를 사용하는 방법이다. loc 인덱서를 시용하고 인자로 튜플 형태로 각 인덱스에서 찾는 값을 전달한다.ㅡ"
   ]
  },
  {
   "cell_type": "code",
   "execution_count": 37,
   "id": "d94db176-f886-4af1-b411-c739b401f21f",
   "metadata": {},
   "outputs": [
    {
     "name": "stdout",
     "output_type": "stream",
     "text": [
      "age          34.611765\n",
      "fare        106.125798\n",
      "survived      0.968085\n",
      "Name: (First, female), dtype: float64\n"
     ]
    }
   ],
   "source": [
    "print(gdf.loc[('First','female')])"
   ]
  },
  {
   "cell_type": "markdown",
   "id": "55fc28eb-6201-448f-8d05-2ebdc624fbfa",
   "metadata": {},
   "source": [
    "이번에는 새롭게 loc인덱서가 아닌 xs인덱서를 사용해서 인덱싱을 해보자. 다음 예제는 sex인덱스에서 male값을 갖는 행을 추출한다. 남성 승객에 한정하여 객실 등급별로 그룹을 만들어서 분석이 가능."
   ]
  },
  {
   "cell_type": "code",
   "execution_count": 38,
   "id": "0fb4b23a-6caf-454d-b022-a836ba25104d",
   "metadata": {},
   "outputs": [
    {
     "name": "stdout",
     "output_type": "stream",
     "text": [
      "              age       fare  survived\n",
      "class                                 \n",
      "First   41.281386  67.226127  0.368852\n",
      "Second  30.740707  19.741782  0.157407\n",
      "Third   26.507589  12.661633  0.135447\n"
     ]
    }
   ],
   "source": [
    "print(gdf.xs('male',level='sex'))"
   ]
  },
  {
   "cell_type": "markdown",
   "id": "0d5696eb-02c2-47c1-a38e-b513cc7f3973",
   "metadata": {},
   "source": [
    "## 피벗"
   ]
  },
  {
   "cell_type": "markdown",
   "id": "4b96c4d1-5b8c-4dba-917e-f350a58d1d18",
   "metadata": {},
   "source": [
    "- 판다스 pivot_table() 함수는 엑셀에서 사용하는 피벗테이블과 비슷한 기능을 처리한다.\n",
    "- 피벗테이블을 구성하는 4가지요소 (행 인덱스, 열 인덱스, 데이터 값, 데이터 집계함수)에 적용할 데이터프레임 열을 각각 지정하여 함수의 인자로 전달한다."
   ]
  },
  {
   "cell_type": "markdown",
   "id": "b00bfd58-5241-43de-b98d-8e32bfe5348f",
   "metadata": {},
   "source": [
    "다음 예제는 titanic 데이터셋을 활용하여 5개의 열을 추출하여 데이터프레임을 다시 만들고, pivot_table() 함수를 이용하여 데이터프레임의 형태를 피벗테이블로 변환한다. 5개 열 중에서 행 인덱스로 class열을 지정하고, 열 인덱스에는 sex열을 지정한다.   \n",
    "age열을 피벗의 데이터 값으로 사용하고 데이터를 집계하는 함수는 평균값을 계산하는 mean 함수로 설정한다."
   ]
  },
  {
   "cell_type": "code",
   "execution_count": 40,
   "id": "493ede4f-adf3-41a7-adc3-2b880c7ab1dc",
   "metadata": {},
   "outputs": [
    {
     "name": "stdout",
     "output_type": "stream",
     "text": [
      "    age     sex  class     fare  survived\n",
      "0  22.0    male  Third   7.2500         0\n",
      "1  38.0  female  First  71.2833         1\n",
      "2  26.0  female  Third   7.9250         1\n",
      "3  35.0  female  First  53.1000         1\n",
      "4  35.0    male  Third   8.0500         0\n",
      "\n",
      "\n"
     ]
    }
   ],
   "source": [
    "# IPyhton 디스플레이 설정 변경 \n",
    "pd.set_option('display.max_columns', 10)    # 출력할 최대 열의 개수\n",
    "pd.set_option('display.max_colwidth', 20)    # 출력할 열의 너비\n",
    "\n",
    "# titanic 데이터셋에서 age, sex 등 5개 열을 선택하여 데이터프레임 만들기\n",
    "titanic = sns.load_dataset('titanic')\n",
    "df = titanic.loc[:, ['age','sex', 'class', 'fare', 'survived']]\n",
    "print(df.head())\n",
    "print('\\n')"
   ]
  },
  {
   "cell_type": "code",
   "execution_count": 41,
   "id": "f1f5b5fe-2c65-40cc-b38e-fabf472c22a1",
   "metadata": {},
   "outputs": [
    {
     "name": "stdout",
     "output_type": "stream",
     "text": [
      "sex        female       male\n",
      "class                       \n",
      "First   34.611765  41.281386\n",
      "Second  28.722973  30.740707\n",
      "Third   21.750000  26.507589\n"
     ]
    }
   ],
   "source": [
    "# 행, 열, 값, 집계에 사용할 열을 1개씩 저장\n",
    "pdf1 = pd.pivot_table(df,\n",
    "                      index='class',\n",
    "                      columns='sex',\n",
    "                      values='age',\n",
    "                      aggfunc='mean',)\n",
    "print(pdf1.head())"
   ]
  },
  {
   "cell_type": "markdown",
   "id": "3c40080d-19c7-4b0c-ab7e-d5aa037b8beb",
   "metadata": {},
   "source": [
    "다음 예제로는 age열 대신 survived열을 피벗의 데이터 값으로 사용하고, 데이터를 집계하는 함수를 2개를 사용하자. mean, sum함수를 리스트 형태로 입력한다. 그렇게 되면 행인덱스로는 class열의 3가지 값이 표시되고, 열 구조는 2중 멀티 인덱스가 된다."
   ]
  },
  {
   "cell_type": "code",
   "execution_count": 42,
   "id": "cfe00b31-3f4b-4e32-9a9d-b8325ec7d5fa",
   "metadata": {},
   "outputs": [
    {
     "name": "stdout",
     "output_type": "stream",
     "text": [
      "            mean              sum     \n",
      "sex       female      male female male\n",
      "class                                 \n",
      "First   0.968085  0.368852     91   45\n",
      "Second  0.921053  0.157407     70   17\n",
      "Third   0.500000  0.135447     72   47\n"
     ]
    }
   ],
   "source": [
    "pdf2 = pd.pivot_table(df,\n",
    "                      index='class',\n",
    "                      columns='sex',\n",
    "                      values='survived',\n",
    "                      aggfunc=['mean','sum'])\n",
    "print(pdf2)"
   ]
  },
  {
   "cell_type": "markdown",
   "id": "822f91dd-5416-409f-854d-a93a68a441d8",
   "metadata": {},
   "source": [
    "여기서 mean함수 계산 결과는 여자와 남자의 각각의 클래스의 생존률을 나타내고, sum은 생존자수를 나타낸다."
   ]
  },
  {
   "cell_type": "markdown",
   "id": "18f8a3cf-7cef-4338-8c3e-46b7abb14870",
   "metadata": {},
   "source": [
    "이제 피벗테이블 함수에 전달할 인자에 대해 각각 2개 이상의 열을 입력해보자."
   ]
  },
  {
   "cell_type": "code",
   "execution_count": 43,
   "id": "7f93b91a-b2f5-4d26-8f1c-2185324d9921",
   "metadata": {},
   "outputs": [
    {
     "name": "stdout",
     "output_type": "stream",
     "text": [
      "                    mean                                      max        \\\n",
      "                     age                   fare               age         \n",
      "survived               0          1           0           1     0     1   \n",
      "class  sex                                                                \n",
      "First  female  25.666667  34.939024  110.604167  105.978159  50.0  63.0   \n",
      "       male    44.581967  36.248000   62.894910   74.637320  71.0  80.0   \n",
      "Second female  36.000000  28.080882   18.250000   22.288989  57.0  55.0   \n",
      "       male    33.369048  16.022000   19.488965   21.095100  70.0  62.0   \n",
      "Third  female  23.818182  19.329787   19.773093   12.464526  48.0  63.0   \n",
      "\n",
      "                                 \n",
      "                 fare            \n",
      "survived            0         1  \n",
      "class  sex                       \n",
      "First  female  151.55  512.3292  \n",
      "       male    263.00  512.3292  \n",
      "Second female   26.00   65.0000  \n",
      "       male     73.50   39.0000  \n",
      "Third  female   69.55   31.3875  \n",
      "\n",
      "\n"
     ]
    }
   ],
   "source": [
    "pdf3 = pd.pivot_table(df,\n",
    "                      index=['class', 'sex'],\n",
    "                      columns='survived',\n",
    "                      values=['age','fare'],\n",
    "                      aggfunc=['mean', 'max'])\n",
    "# IPython Console 디스플레이 옵션 설정\n",
    "pd.set_option('display.max_columns', 10)        # 출력할 열의 개수 한도\n",
    "print(pdf3.head())\n",
    "print('\\n')"
   ]
  },
  {
   "cell_type": "code",
   "execution_count": 44,
   "id": "3f4fdd2b-168e-46e9-a761-0af53210bc36",
   "metadata": {},
   "outputs": [
    {
     "name": "stdout",
     "output_type": "stream",
     "text": [
      "MultiIndex([( 'First', 'female'),\n",
      "            ( 'First',   'male'),\n",
      "            ('Second', 'female'),\n",
      "            ('Second',   'male'),\n",
      "            ( 'Third', 'female'),\n",
      "            ( 'Third',   'male')],\n",
      "           names=['class', 'sex'])\n",
      "MultiIndex([('mean',  'age', 0),\n",
      "            ('mean',  'age', 1),\n",
      "            ('mean', 'fare', 0),\n",
      "            ('mean', 'fare', 1),\n",
      "            ( 'max',  'age', 0),\n",
      "            ( 'max',  'age', 1),\n",
      "            ( 'max', 'fare', 0),\n",
      "            ( 'max', 'fare', 1)],\n",
      "           names=[None, None, 'survived'])\n",
      "\n",
      "\n"
     ]
    }
   ],
   "source": [
    "# 행, 열 구조 살펴보기\n",
    "print(pdf3.index)\n",
    "print(pdf3.columns)\n",
    "print('\\n')"
   ]
  },
  {
   "cell_type": "markdown",
   "id": "49a54536-d24b-4f5c-aa1c-0b6823669d05",
   "metadata": {},
   "source": [
    "행 인덱스와 데이터값에 해당하는 열을 각각 2개 지정하고, 열 위치에 해당하는 열은 1개를 지정했다. 또한 집계함수를 2개 지정했다. 데이터프레임 pdf3 index속성과 columns속성을 출력한 값을 보았을때 행인덱스는 (class, sex) 2개의 열이 사용되어 2중 인덱스 구조이다. 그리고 열은 3중 구조이다. 데이터 집계함수인 mean과 max가 한층을 이루고 데이터 값을 구분하는 age, fare열이 다음 층을 이룬다. 마지막으로 구조 여부를 나타내는 survived열이 위치한다."
   ]
  },
  {
   "cell_type": "markdown",
   "id": "94195dbd-cde4-4d32-8611-074766e0c7ac",
   "metadata": {},
   "source": [
    "이제 pdf3의 행을 선택하기 위해 xs 인덱서를 사용하는 방법을 익혀보자. xs 인덱서는 기본값으로 행 인덱스에 접근하고, 축 값은 axis=0으로 자동 설정된다. 먼저 First승객 데이터를 추출해보자."
   ]
  },
  {
   "cell_type": "code",
   "execution_count": 45,
   "id": "964a0768-a7da-4578-bd24-a440a1f7374a",
   "metadata": {},
   "outputs": [
    {
     "name": "stdout",
     "output_type": "stream",
     "text": [
      "               mean                                      max                \\\n",
      "                age                   fare               age          fare   \n",
      "survived          0          1           0           1     0     1       0   \n",
      "sex                                                                          \n",
      "female    25.666667  34.939024  110.604167  105.978159  50.0  63.0  151.55   \n",
      "male      44.581967  36.248000   62.894910   74.637320  71.0  80.0  263.00   \n",
      "\n",
      "                    \n",
      "                    \n",
      "survived         1  \n",
      "sex                 \n",
      "female    512.3292  \n",
      "male      512.3292  \n"
     ]
    }
   ],
   "source": [
    "print(pdf3.xs('First'))"
   ]
  },
  {
   "cell_type": "markdown",
   "id": "26d0f5cd-7314-4e16-ad59-d6c78d343543",
   "metadata": {},
   "source": [
    "다음으로 행인덱스 레벨 0에서 First를 가져오고 행 인덱스는 female을 가져와서 해당하는 데이터를 추출해보자."
   ]
  },
  {
   "cell_type": "code",
   "execution_count": 48,
   "id": "e18e53f8-cdbe-4a76-81e3-990a7bce56b8",
   "metadata": {},
   "outputs": [
    {
     "name": "stdout",
     "output_type": "stream",
     "text": [
      "            survived\n",
      "mean  age   0            25.666667\n",
      "            1            34.939024\n",
      "      fare  0           110.604167\n",
      "            1           105.978159\n",
      "max   age   0            50.000000\n",
      "            1            63.000000\n",
      "      fare  0           151.550000\n",
      "            1           512.329200\n",
      "Name: (First, female), dtype: float64\n"
     ]
    }
   ],
   "source": [
    "print(pdf3.xs(('First','female')))"
   ]
  },
  {
   "cell_type": "markdown",
   "id": "c1123e5b-bda1-4159-92da-be16e1efd73a",
   "metadata": {},
   "source": [
    "이번에는 행 인덱스 레벨을 직접 지정하는 방법을 익혀보자. sex 레벨에서 남성 승객을 나타내는 male에 해당하는 데이터만 추출해보자."
   ]
  },
  {
   "cell_type": "code",
   "execution_count": 49,
   "id": "6dc0491f-0a7d-43db-850f-f771bf39f906",
   "metadata": {},
   "outputs": [
    {
     "name": "stdout",
     "output_type": "stream",
     "text": [
      "               mean                                    max                \\\n",
      "                age                  fare              age          fare   \n",
      "survived          0          1          0          1     0     1       0   \n",
      "class                                                                      \n",
      "First     44.581967  36.248000  62.894910  74.637320  71.0  80.0  263.00   \n",
      "Second    33.369048  16.022000  19.488965  21.095100  70.0  62.0   73.50   \n",
      "Third     27.255814  22.274211  12.204469  15.579696  74.0  45.0   69.55   \n",
      "\n",
      "                    \n",
      "                    \n",
      "survived         1  \n",
      "class               \n",
      "First     512.3292  \n",
      "Second     39.0000  \n",
      "Third      56.4958  \n"
     ]
    }
   ],
   "source": [
    "print(pdf3.xs('male',level='sex'))"
   ]
  },
  {
   "cell_type": "markdown",
   "id": "a849f7ed-e29f-4f33-a94c-4398f39fb138",
   "metadata": {},
   "source": [
    "행 인덱스 레벨 0에서 Second를 가져오고, 행 인덱스 레벨 sex에서 male을 가져와보자."
   ]
  },
  {
   "cell_type": "code",
   "execution_count": 50,
   "id": "607957f4-74f6-4392-b072-de26dea9199c",
   "metadata": {},
   "outputs": [
    {
     "name": "stdout",
     "output_type": "stream",
     "text": [
      "                  mean                               max                  \n",
      "                   age               fare            age        fare      \n",
      "survived             0       1          0        1     0     1     0     1\n",
      "class  sex                                                                \n",
      "Second male  33.369048  16.022  19.488965  21.0951  70.0  62.0  73.5  39.0\n"
     ]
    }
   ],
   "source": [
    "print(pdf3.xs(('Second','male'), level=[0,'sex'])) # 레벨을 0 또는 'class'로 숫자형 혹은 이름으로 레벨지정이 가능하다."
   ]
  },
  {
   "cell_type": "markdown",
   "id": "2eb88cbb-0160-430d-abb3-26624426793f",
   "metadata": {},
   "source": [
    "이제 열 접근을 해보자. xs 인덱서는 기본 설정이 axis=0으로 되어있다고 앞서 서술했으니 열을 추출하려면 axis=1로 설정해야한다.   \n",
    "먼저 pdf3의 mean열을 평균값 데이터를 추출해보자."
   ]
  },
  {
   "cell_type": "code",
   "execution_count": 52,
   "id": "70e33b26-c924-4897-8523-f1089b49c15a",
   "metadata": {},
   "outputs": [
    {
     "name": "stdout",
     "output_type": "stream",
     "text": [
      "                     age                   fare            \n",
      "survived               0          1           0           1\n",
      "class  sex                                                 \n",
      "First  female  25.666667  34.939024  110.604167  105.978159\n",
      "       male    44.581967  36.248000   62.894910   74.637320\n",
      "Second female  36.000000  28.080882   18.250000   22.288989\n",
      "       male    33.369048  16.022000   19.488965   21.095100\n",
      "Third  female  23.818182  19.329787   19.773093   12.464526\n",
      "       male    27.255814  22.274211   12.204469   15.579696\n"
     ]
    }
   ],
   "source": [
    "print(pdf3.xs('mean',axis=1))"
   ]
  },
  {
   "cell_type": "markdown",
   "id": "ee392b0f-400f-4558-99ea-60ed4a333cc7",
   "metadata": {},
   "source": [
    "다음으로 열 인덱스 레벨 0에서 평균값을 나타내는 mean을 지정하고, 열 인덱스 레벨 1에서 나이를 나타내는 age를 지정해보자."
   ]
  },
  {
   "cell_type": "code",
   "execution_count": 54,
   "id": "8bffbd88-9d45-4c2a-a3d2-cb6545e52c49",
   "metadata": {},
   "outputs": [
    {
     "name": "stdout",
     "output_type": "stream",
     "text": [
      "survived               0          1\n",
      "class  sex                         \n",
      "First  female  25.666667  34.939024\n",
      "       male    44.581967  36.248000\n",
      "Second female  36.000000  28.080882\n",
      "       male    33.369048  16.022000\n",
      "Third  female  23.818182  19.329787\n",
      "       male    27.255814  22.274211\n"
     ]
    }
   ],
   "source": [
    "print(pdf3.xs(('mean','age'),axis=1, level=[0,1]))"
   ]
  },
  {
   "cell_type": "markdown",
   "id": "91507322-5ce9-425a-ace7-b0929aeeffca",
   "metadata": {},
   "source": [
    "열 인덱스 레벨을 직접 지정할 수 있다. survived 레벨의 값이 1에 해당하는 데이터만 추출한다."
   ]
  },
  {
   "cell_type": "code",
   "execution_count": 55,
   "id": "35d71710-820a-457b-822b-35df61d50147",
   "metadata": {},
   "outputs": [
    {
     "name": "stdout",
     "output_type": "stream",
     "text": [
      "                    mean               max          \n",
      "                     age        fare   age      fare\n",
      "class  sex                                          \n",
      "First  female  34.939024  105.978159  63.0  512.3292\n",
      "       male    36.248000   74.637320  80.0  512.3292\n",
      "Second female  28.080882   22.288989  55.0   65.0000\n",
      "       male    16.022000   21.095100  62.0   39.0000\n",
      "Third  female  19.329787   12.464526  63.0   31.3875\n",
      "       male    22.274211   15.579696  45.0   56.4958\n"
     ]
    }
   ],
   "source": [
    "print(pdf3.xs(1,level='survived', axis=1))"
   ]
  },
  {
   "cell_type": "markdown",
   "id": "106fb5b5-cccd-4ff6-a336-906473f6f4cb",
   "metadata": {},
   "source": [
    "마지막으로 열 인덱스 레벨에서 최대값을 나타내는 max를 가져오고, 레벨 1에서 객실 요금을 나타내는 fare를 가져온다. survived 열을 나타내는 레벨 2에서 구조박지 못한 승객을 나타내는 0을 가져온다. 이때 반환되는 데이터는 구조 받지 못한 승객들의 요금 최대값이다."
   ]
  },
  {
   "cell_type": "code",
   "execution_count": 56,
   "id": "7d6a6501-9bef-403e-aeb2-2e258714251c",
   "metadata": {},
   "outputs": [
    {
     "name": "stdout",
     "output_type": "stream",
     "text": [
      "                  max\n",
      "                 fare\n",
      "survived            0\n",
      "class  sex           \n",
      "First  female  151.55\n",
      "       male    263.00\n",
      "Second female   26.00\n",
      "       male     73.50\n",
      "Third  female   69.55\n",
      "       male     69.55\n"
     ]
    }
   ],
   "source": [
    "print(pdf3.xs(('max', 'fare', 0),\n",
    "              level=[0,1,2], axis=1))"
   ]
  },
  {
   "cell_type": "code",
   "execution_count": null,
   "id": "e0646321-9214-4b42-9c83-10a0f86dbc26",
   "metadata": {},
   "outputs": [],
   "source": []
  }
 ],
 "metadata": {
  "kernelspec": {
   "display_name": "Python 3 (ipykernel)",
   "language": "python",
   "name": "python3"
  },
  "language_info": {
   "codemirror_mode": {
    "name": "ipython",
    "version": 3
   },
   "file_extension": ".py",
   "mimetype": "text/x-python",
   "name": "python",
   "nbconvert_exporter": "python",
   "pygments_lexer": "ipython3",
   "version": "3.9.12"
  }
 },
 "nbformat": 4,
 "nbformat_minor": 5
}
