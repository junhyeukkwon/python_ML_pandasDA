{
 "cells": [
  {
   "cell_type": "markdown",
   "id": "440c9feb-22c7-4aea-865a-ecfae9f5f3ad",
   "metadata": {},
   "source": [
    "## 그룹연산"
   ]
  },
  {
   "cell_type": "markdown",
   "id": "a465f809-f630-4d32-94ae-cc35329510d3",
   "metadata": {},
   "source": [
    "- 복잡한 데이터를 어떤 기준에 따라 여러 그룹으로 나눠서 관찰하는 것도 좋은 방법이다.\n",
    "- 특정 기준을 적용하여 몇개의 그룹으로 분할하여 처리하는 것을 그룹연산이라고 부른다.\n",
    "- 특히 그룹연산은 데이터를 집계, 변환, 필터링하는데 효율적이다. 데이터 그룹을 분할하는 1단계 과정은 판다스 groupby() 메소드를 사용한다.\n",
    "1. 분할(split): 데이터를 특정 조건에 의해 분할\n",
    "2. 적용(apply): 데이터를 집계, 변환, 필터링하는데 필요한 메소드를 적용\n",
    "3. 결합(combine): 2단계의 처리 결과를 하나로 결합"
   ]
  },
  {
   "cell_type": "markdown",
   "id": "4c773d2c-02cc-4209-8593-71b49554636e",
   "metadata": {},
   "source": [
    "### 1. 그룹 객체 만들기(분할 단계)"
   ]
  },
  {
   "cell_type": "markdown",
   "id": "6c8942c7-c265-4f77-a603-1956c4b1afe9",
   "metadata": {},
   "source": [
    "1개의 열을 기준으로 그룹화 : DataFrame.groupby(기준이되는열)"
   ]
  },
  {
   "cell_type": "markdown",
   "id": "2bbcb7e9-e86a-466c-bc87-37a3f4ea60f8",
   "metadata": {},
   "source": [
    "titanic 데이터셋에서 class열을 기준으로 하여 그룹으로 나눈다."
   ]
  },
  {
   "cell_type": "code",
   "execution_count": 1,
   "id": "173edc03-7da8-4973-8e6d-4c0e3fdcaa2a",
   "metadata": {},
   "outputs": [],
   "source": [
    "import pandas as pd\n",
    "import seaborn as sns"
   ]
  },
  {
   "cell_type": "code",
   "execution_count": 2,
   "id": "4c54df6d-1bdc-4ad9-ae37-6d62fe1e6a55",
   "metadata": {},
   "outputs": [
    {
     "name": "stdout",
     "output_type": "stream",
     "text": [
      "승객수: 891\n"
     ]
    }
   ],
   "source": [
    "titanic = sns.load_dataset('titanic')\n",
    "df = titanic.loc[:,['age','sex','class','fare','survived']]\n",
    "\n",
    "print('승객수:', len(df))"
   ]
  },
  {
   "cell_type": "code",
   "execution_count": 3,
   "id": "91189513-96ed-43d6-bf7a-8f1173df595d",
   "metadata": {},
   "outputs": [
    {
     "data": {
      "text/html": [
       "<div>\n",
       "<style scoped>\n",
       "    .dataframe tbody tr th:only-of-type {\n",
       "        vertical-align: middle;\n",
       "    }\n",
       "\n",
       "    .dataframe tbody tr th {\n",
       "        vertical-align: top;\n",
       "    }\n",
       "\n",
       "    .dataframe thead th {\n",
       "        text-align: right;\n",
       "    }\n",
       "</style>\n",
       "<table border=\"1\" class=\"dataframe\">\n",
       "  <thead>\n",
       "    <tr style=\"text-align: right;\">\n",
       "      <th></th>\n",
       "      <th>age</th>\n",
       "      <th>sex</th>\n",
       "      <th>class</th>\n",
       "      <th>fare</th>\n",
       "      <th>survived</th>\n",
       "    </tr>\n",
       "  </thead>\n",
       "  <tbody>\n",
       "    <tr>\n",
       "      <th>0</th>\n",
       "      <td>22.0</td>\n",
       "      <td>male</td>\n",
       "      <td>Third</td>\n",
       "      <td>7.2500</td>\n",
       "      <td>0</td>\n",
       "    </tr>\n",
       "    <tr>\n",
       "      <th>1</th>\n",
       "      <td>38.0</td>\n",
       "      <td>female</td>\n",
       "      <td>First</td>\n",
       "      <td>71.2833</td>\n",
       "      <td>1</td>\n",
       "    </tr>\n",
       "    <tr>\n",
       "      <th>2</th>\n",
       "      <td>26.0</td>\n",
       "      <td>female</td>\n",
       "      <td>Third</td>\n",
       "      <td>7.9250</td>\n",
       "      <td>1</td>\n",
       "    </tr>\n",
       "    <tr>\n",
       "      <th>3</th>\n",
       "      <td>35.0</td>\n",
       "      <td>female</td>\n",
       "      <td>First</td>\n",
       "      <td>53.1000</td>\n",
       "      <td>1</td>\n",
       "    </tr>\n",
       "    <tr>\n",
       "      <th>4</th>\n",
       "      <td>35.0</td>\n",
       "      <td>male</td>\n",
       "      <td>Third</td>\n",
       "      <td>8.0500</td>\n",
       "      <td>0</td>\n",
       "    </tr>\n",
       "  </tbody>\n",
       "</table>\n",
       "</div>"
      ],
      "text/plain": [
       "    age     sex  class     fare  survived\n",
       "0  22.0    male  Third   7.2500         0\n",
       "1  38.0  female  First  71.2833         1\n",
       "2  26.0  female  Third   7.9250         1\n",
       "3  35.0  female  First  53.1000         1\n",
       "4  35.0    male  Third   8.0500         0"
      ]
     },
     "execution_count": 3,
     "metadata": {},
     "output_type": "execute_result"
    }
   ],
   "source": [
    "df.head()"
   ]
  },
  {
   "cell_type": "code",
   "execution_count": 7,
   "id": "577b7e92-a86e-411b-9b70-7e465c114e14",
   "metadata": {},
   "outputs": [],
   "source": [
    "grouped = df.groupby(['class'])"
   ]
  },
  {
   "cell_type": "markdown",
   "id": "dd77d928-4dea-4990-838e-e3c67ac85097",
   "metadata": {},
   "source": [
    "df_cls 그룹객체에서 반복문을 통해 first, second, third 데이터 값의 개수를 알수있다."
   ]
  },
  {
   "cell_type": "code",
   "execution_count": 9,
   "id": "eac55ab2-b267-4885-9338-85e4e46e211e",
   "metadata": {},
   "outputs": [
    {
     "name": "stdout",
     "output_type": "stream",
     "text": [
      "key: First\n",
      "number: 216\n",
      "     age     sex  class     fare  survived\n",
      "1   38.0  female  First  71.2833         1\n",
      "3   35.0  female  First  53.1000         1\n",
      "6   54.0    male  First  51.8625         0\n",
      "11  58.0  female  First  26.5500         1\n",
      "23  28.0    male  First  35.5000         1\n",
      "\n",
      "\n",
      "key: Second\n",
      "number: 184\n",
      "     age     sex   class     fare  survived\n",
      "9   14.0  female  Second  30.0708         1\n",
      "15  55.0  female  Second  16.0000         1\n",
      "17   NaN    male  Second  13.0000         1\n",
      "20  35.0    male  Second  26.0000         0\n",
      "21  34.0    male  Second  13.0000         1\n",
      "\n",
      "\n",
      "key: Third\n",
      "number: 491\n",
      "    age     sex  class     fare  survived\n",
      "0  22.0    male  Third   7.2500         0\n",
      "2  26.0  female  Third   7.9250         1\n",
      "4  35.0    male  Third   8.0500         0\n",
      "5   NaN    male  Third   8.4583         0\n",
      "7   2.0    male  Third  21.0750         0\n",
      "\n",
      "\n"
     ]
    }
   ],
   "source": [
    "for key, group in grouped:\n",
    "    print('key:', key)\n",
    "    print('number:', len(group))\n",
    "    print(group.head())\n",
    "    print('\\n')"
   ]
  },
  {
   "cell_type": "markdown",
   "id": "033451f6-bf91-4b2e-b61c-50e9b9358b77",
   "metadata": {},
   "source": [
    "앞서 생성한 그룹 객체인 grouped에 연산 메소드를 적용할 수 있다. 그룹별 평균값을 구하기 위해 mean() 메소드를 적용하자."
   ]
  },
  {
   "cell_type": "code",
   "execution_count": 12,
   "id": "33da7a49-28ce-4cd3-afff-278306ea61ad",
   "metadata": {},
   "outputs": [
    {
     "name": "stdout",
     "output_type": "stream",
     "text": [
      "              age       fare  survived\n",
      "class                                 \n",
      "First   38.233441  84.154687  0.629630\n",
      "Second  29.877630  20.662183  0.472826\n",
      "Third   25.140620  13.675550  0.242363\n"
     ]
    }
   ],
   "source": [
    "average = grouped.mean()\n",
    "print(average) # 범주형 컬럼은 제외"
   ]
  },
  {
   "cell_type": "code",
   "execution_count": null,
   "id": "6d72651e-a900-44e4-8d22-9e27ee29bb57",
   "metadata": {},
   "outputs": [],
   "source": []
  }
 ],
 "metadata": {
  "kernelspec": {
   "display_name": "Python 3 (ipykernel)",
   "language": "python",
   "name": "python3"
  },
  "language_info": {
   "codemirror_mode": {
    "name": "ipython",
    "version": 3
   },
   "file_extension": ".py",
   "mimetype": "text/x-python",
   "name": "python",
   "nbconvert_exporter": "python",
   "pygments_lexer": "ipython3",
   "version": "3.9.12"
  }
 },
 "nbformat": 4,
 "nbformat_minor": 5
}
