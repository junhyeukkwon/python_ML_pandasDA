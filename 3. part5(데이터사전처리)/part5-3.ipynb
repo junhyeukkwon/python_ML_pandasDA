{
 "cells": [
  {
   "cell_type": "markdown",
   "id": "9cf3fdf2-f20d-42a2-9b5f-55f89ca664ad",
   "metadata": {},
   "source": [
    "## 정규화"
   ]
  },
  {
   "cell_type": "markdown",
   "id": "b7a524ed-e1f6-4a9d-9a3e-dddf9920e891",
   "metadata": {},
   "source": [
    "- 각 변수(데이터프레임의 열)에 들어 있는 숫자 데이터의 상대적 크기 차이 때문에 머신러닝 분석결과가 달라질 수 있다.\n",
    "- 범위의 차이에 의해 범위크기 값이 큰 변수의 영향이 커지는 경향이 있다.\n",
    "- 데이터값을 동일한 수준으로 맞춰 주어 중요도를 균일하게 하는 것이 정규화이다.\n",
    "- 정규화를 거친 데이터의 범위는 0 ~ 1, -1 ~ 1 사이를 갖는다.\n"
   ]
  },
  {
   "cell_type": "markdown",
   "id": "2289ca65-685b-4c40-9266-7b946db7e0f4",
   "metadata": {},
   "source": [
    "각 열의 데이터를 해당 열의 최대값으로 나누는 방법이 있다."
   ]
  },
  {
   "cell_type": "code",
   "execution_count": 1,
   "id": "63339003-bedf-4df1-8548-ef34a7030303",
   "metadata": {},
   "outputs": [],
   "source": [
    "import pandas as pd\n",
    "import numpy as np"
   ]
  },
  {
   "cell_type": "code",
   "execution_count": 24,
   "id": "32d35923-e51e-4ab1-a535-36f58cccf42d",
   "metadata": {},
   "outputs": [],
   "source": [
    "import warnings\n",
    "warnings.filterwarnings('ignore') # 각종 warning 무시하기"
   ]
  },
  {
   "cell_type": "code",
   "execution_count": 5,
   "id": "d7c1b03c-e9c8-492e-9503-05b877bd6c21",
   "metadata": {},
   "outputs": [
    {
     "name": "stdout",
     "output_type": "stream",
     "text": [
      "230.0\n",
      "\n",
      "\n",
      "0    0.565217\n",
      "1    0.717391\n",
      "2    0.652174\n",
      "3    0.652174\n",
      "4    0.608696\n",
      "Name: horsepower, dtype: float64\n"
     ]
    }
   ],
   "source": [
    "df = pd.read_csv('./auto-mpg.csv')\n",
    "\n",
    "# horsepower 데이터 형태를 실수형을 변환 그전의 값 ? 삭제\n",
    "df['horsepower'].replace('?', np.nan, inplace=True)\n",
    "df.dropna(subset=['horsepower'], axis=0, inplace=True)\n",
    "df['horsepower'] = df['horsepower'].astype('float')\n",
    "\n",
    "# horsepower 열 최대값 확인\n",
    "print(df['horsepower'].max())\n",
    "print('\\n')\n",
    "\n",
    "df.horsepower = df.horsepower/abs(df.horsepower.max())\n",
    "print(df.horsepower.head())"
   ]
  },
  {
   "cell_type": "markdown",
   "id": "24cecf01-0f98-40a3-826e-5c9a5cc4321f",
   "metadata": {},
   "source": [
    "또한 각 열의 데이터 중에서 최대값과 최소값으로 뺀 값으로 나누는 방법이 있다. 각 열데이터에서 해당 열의 최소값을 뺀 값을 분자로 하고, 해당 열의 최대값과 최소값의 차를 분모로 하는 수를 계산하면 가장 큰값은 역시 1이 된다. 이것이 Min-Max 정규화이다."
   ]
  },
  {
   "cell_type": "code",
   "execution_count": 6,
   "id": "857670e6-6f66-4e65-8372-7e69c357f0c4",
   "metadata": {},
   "outputs": [
    {
     "name": "stdout",
     "output_type": "stream",
     "text": [
      "count    392.000000\n",
      "mean     104.469388\n",
      "std       38.491160\n",
      "min       46.000000\n",
      "25%       75.000000\n",
      "50%       93.500000\n",
      "75%      126.000000\n",
      "max      230.000000\n",
      "Name: horsepower, dtype: float64\n",
      "\n",
      "\n",
      "0    0.456522\n",
      "1    0.646739\n",
      "2    0.565217\n",
      "3    0.565217\n",
      "4    0.510870\n",
      "Name: horsepower, dtype: float64\n",
      "\n",
      "\n",
      "count    392.000000\n",
      "mean       0.317768\n",
      "std        0.209191\n",
      "min        0.000000\n",
      "25%        0.157609\n",
      "50%        0.258152\n",
      "75%        0.434783\n",
      "max        1.000000\n",
      "Name: horsepower, dtype: float64\n"
     ]
    }
   ],
   "source": [
    "df = pd.read_csv('./auto-mpg.csv')\n",
    "\n",
    "# horsepower 열의 누락 데이터('?') 삭제하고 실수형으로 변환\n",
    "df['horsepower'].replace('?', np.nan, inplace=True)      # '?'을 np.nan으로 변경\n",
    "df.dropna(subset=['horsepower'], axis=0, inplace=True)   # 누락데이터 행을 삭제\n",
    "df['horsepower'] = df['horsepower'].astype('float')      # 문자열을 실수형으로 변환\n",
    "\n",
    "# horsepower 열의 통계 요약정보로 최대값(max)과 최소값(min)을 확인\n",
    "print(df.horsepower.describe())\n",
    "print('\\n')\n",
    "\n",
    "# horsepower 열의 최대값의 절대값으로 모든 데이터를 나눠서 저장\n",
    "min_x = df.horsepower - df.horsepower.min()\n",
    "min_max = df.horsepower.max() - df.horsepower.min()\n",
    "df.horsepower = min_x / min_max\n",
    "\n",
    "print(df.horsepower.head())\n",
    "print('\\n')\n",
    "print(df.horsepower.describe())"
   ]
  },
  {
   "cell_type": "markdown",
   "id": "8f59651e-d29d-40ec-bfac-39d374e73ec8",
   "metadata": {},
   "source": [
    "## 시계열 데이터"
   ]
  },
  {
   "cell_type": "markdown",
   "id": "d335ed42-34ea-4710-bb7c-5889bb1e0ae8",
   "metadata": {},
   "source": [
    "- 주식, 환율 등 금융데이터를 다루기 위해 개발된 판다스는 시계열데이터(time series) 데이터를 다루는 여러 가지 유용한 기능을 제공한다. \n",
    "- 특시 시계열 데이터를 데이터프레임의 행 인덱스로 사용한다면 시간으로 기록된 데이터를 분석하는 것이 매우 편리하다.\n",
    "- 판다스 시간 표현 방식 중에서 시계열 데이터 표현에 자주 사용되는 Timestamp, Period 가 있다. 말그대로 Timestamp 는 특정 시점, period 는 기간을 의미한다."
   ]
  },
  {
   "cell_type": "markdown",
   "id": "fc2f8c20-e266-42f6-be3f-54babf3cbf59",
   "metadata": {},
   "source": [
    "## 시계열 객체로 변환"
   ]
  },
  {
   "cell_type": "markdown",
   "id": "c78e96b8-58d3-4902-baaf-2240c0baa898",
   "metadata": {},
   "source": [
    "- 우리가 접하는 많은 시간 데이터는 별도의 시간 자료형으로 기록되지 않고, 문자열 또는 숫자로 저장되는 경우가 많다. 이를 변환하는 함수를 알아볼 것이다."
   ]
  },
  {
   "cell_type": "markdown",
   "id": "219c3360-a779-4bcf-acc2-1537a752969d",
   "metadata": {},
   "source": [
    "### 문자열을 Timestamp로 변환"
   ]
  },
  {
   "cell_type": "markdown",
   "id": "623e79d1-7e84-40e8-936b-feaff30e0c1e",
   "metadata": {},
   "source": [
    "판다스에서 to_datetime() 함수를 사용하면 문자열 등 다른 자료형을 판다스 Timestamp를 나타내는 datatime64자료형으로 변환이 가능"
   ]
  },
  {
   "cell_type": "markdown",
   "id": "2de0b7bd-31f7-4385-8c8f-0586f5f6b374",
   "metadata": {},
   "source": [
    "예제 데이터는 주식 시장에서 거래되는 A종목의 거래 데이터를 정리한 csv파일을 활용한다."
   ]
  },
  {
   "cell_type": "code",
   "execution_count": 9,
   "id": "0b89e797-d99c-4385-b74e-ef7026995374",
   "metadata": {},
   "outputs": [
    {
     "name": "stdout",
     "output_type": "stream",
     "text": [
      "         Date  Close  Start   High    Low  Volume\n",
      "0  2018-07-02  10100  10850  10900  10000  137977\n",
      "1  2018-06-29  10700  10550  10900   9990  170253\n",
      "2  2018-06-28  10400  10900  10950  10150  155769\n",
      "3  2018-06-27  10900  10800  11050  10500  133548\n",
      "4  2018-06-26  10800  10900  11000  10700   63039\n",
      "\n",
      "\n",
      "<class 'pandas.core.frame.DataFrame'>\n",
      "RangeIndex: 20 entries, 0 to 19\n",
      "Data columns (total 6 columns):\n",
      " #   Column  Non-Null Count  Dtype \n",
      "---  ------  --------------  ----- \n",
      " 0   Date    20 non-null     object\n",
      " 1   Close   20 non-null     int64 \n",
      " 2   Start   20 non-null     int64 \n",
      " 3   High    20 non-null     int64 \n",
      " 4   Low     20 non-null     int64 \n",
      " 5   Volume  20 non-null     int64 \n",
      "dtypes: int64(5), object(1)\n",
      "memory usage: 1.1+ KB\n",
      "None\n"
     ]
    }
   ],
   "source": [
    "df = pd.read_csv('./stock-data.csv')\n",
    "# 데이터 내용 및 자료형 확인\n",
    "print(df.head())\n",
    "print('\\n')\n",
    "print(df.info())\n"
   ]
  },
  {
   "cell_type": "markdown",
   "id": "762336fd-c4b4-4fc3-9f45-f3e1139e61f0",
   "metadata": {},
   "source": [
    "Data열이 문자열(object)임을 알 수 있다. 이제 변환을 해보자,"
   ]
  },
  {
   "cell_type": "code",
   "execution_count": 11,
   "id": "c36fd494-6213-403e-88ee-35c30e822dd6",
   "metadata": {},
   "outputs": [
    {
     "name": "stdout",
     "output_type": "stream",
     "text": [
      "         Date  Close  Start   High    Low  Volume   New_Date\n",
      "0  2018-07-02  10100  10850  10900  10000  137977 2018-07-02\n",
      "1  2018-06-29  10700  10550  10900   9990  170253 2018-06-29\n",
      "2  2018-06-28  10400  10900  10950  10150  155769 2018-06-28\n",
      "3  2018-06-27  10900  10800  11050  10500  133548 2018-06-27\n",
      "4  2018-06-26  10800  10900  11000  10700   63039 2018-06-26\n",
      "\n",
      "\n",
      "<class 'pandas.core.frame.DataFrame'>\n",
      "RangeIndex: 20 entries, 0 to 19\n",
      "Data columns (total 7 columns):\n",
      " #   Column    Non-Null Count  Dtype         \n",
      "---  ------    --------------  -----         \n",
      " 0   Date      20 non-null     object        \n",
      " 1   Close     20 non-null     int64         \n",
      " 2   Start     20 non-null     int64         \n",
      " 3   High      20 non-null     int64         \n",
      " 4   Low       20 non-null     int64         \n",
      " 5   Volume    20 non-null     int64         \n",
      " 6   New_Date  20 non-null     datetime64[ns]\n",
      "dtypes: datetime64[ns](1), int64(5), object(1)\n",
      "memory usage: 1.2+ KB\n",
      "None\n",
      "\n",
      "\n",
      "<class 'pandas._libs.tslibs.timestamps.Timestamp'>\n"
     ]
    }
   ],
   "source": [
    "df['New_Date'] = pd.to_datetime(df['Date'])\n",
    "print(df.head())\n",
    "print('\\n')\n",
    "print(df.info())\n",
    "print('\\n')\n",
    "print(type(df['New_Date'][0]))"
   ]
  },
  {
   "cell_type": "code",
   "execution_count": 12,
   "id": "d936a053-101d-4cfd-8e83-9656f3906237",
   "metadata": {},
   "outputs": [
    {
     "name": "stdout",
     "output_type": "stream",
     "text": [
      "            Close  Start   High    Low  Volume\n",
      "New_Date                                      \n",
      "2018-07-02  10100  10850  10900  10000  137977\n",
      "2018-06-29  10700  10550  10900   9990  170253\n",
      "2018-06-28  10400  10900  10950  10150  155769\n",
      "2018-06-27  10900  10800  11050  10500  133548\n",
      "2018-06-26  10800  10900  11000  10700   63039\n",
      "\n",
      "\n",
      "<class 'pandas.core.frame.DataFrame'>\n",
      "DatetimeIndex: 20 entries, 2018-07-02 to 2018-06-01\n",
      "Data columns (total 5 columns):\n",
      " #   Column  Non-Null Count  Dtype\n",
      "---  ------  --------------  -----\n",
      " 0   Close   20 non-null     int64\n",
      " 1   Start   20 non-null     int64\n",
      " 2   High    20 non-null     int64\n",
      " 3   Low     20 non-null     int64\n",
      " 4   Volume  20 non-null     int64\n",
      "dtypes: int64(5)\n",
      "memory usage: 960.0 bytes\n",
      "None\n"
     ]
    }
   ],
   "source": [
    "df.set_index('New_Date', inplace=True)\n",
    "df.drop('Date', axis=1, inplace=True)\n",
    "\n",
    "# 데이터 내용 및 자료형 확인\n",
    "print(df.head())\n",
    "print('\\n')\n",
    "print(df.info())"
   ]
  },
  {
   "cell_type": "markdown",
   "id": "fb14a095-e86e-4d38-8cb5-a04131454863",
   "metadata": {},
   "source": [
    "이렇게 시계열 값을 행인덱스로 지정하면 판다스는 DatetimeIndex로 저장해서 시계열 인덱스 클래스를 지원해 시간 순서에 맞춰 인덱스 또는 슬라이싱 하기 편리하다."
   ]
  },
  {
   "cell_type": "code",
   "execution_count": 15,
   "id": "959f0ae2-401f-4d47-a599-8ff12ebe63f1",
   "metadata": {},
   "outputs": [
    {
     "name": "stderr",
     "output_type": "stream",
     "text": [
      "/tmp/ipykernel_203/3399953645.py:1: FutureWarning: Value based partial slicing on non-monotonic DatetimeIndexes with non-existing keys is deprecated and will raise a KeyError in a future Version.\n",
      "  df.loc['2018-06-02':'2018-06-26']\n"
     ]
    },
    {
     "data": {
      "text/html": [
       "<div>\n",
       "<style scoped>\n",
       "    .dataframe tbody tr th:only-of-type {\n",
       "        vertical-align: middle;\n",
       "    }\n",
       "\n",
       "    .dataframe tbody tr th {\n",
       "        vertical-align: top;\n",
       "    }\n",
       "\n",
       "    .dataframe thead th {\n",
       "        text-align: right;\n",
       "    }\n",
       "</style>\n",
       "<table border=\"1\" class=\"dataframe\">\n",
       "  <thead>\n",
       "    <tr style=\"text-align: right;\">\n",
       "      <th></th>\n",
       "      <th>Close</th>\n",
       "      <th>Start</th>\n",
       "      <th>High</th>\n",
       "      <th>Low</th>\n",
       "      <th>Volume</th>\n",
       "    </tr>\n",
       "    <tr>\n",
       "      <th>New_Date</th>\n",
       "      <th></th>\n",
       "      <th></th>\n",
       "      <th></th>\n",
       "      <th></th>\n",
       "      <th></th>\n",
       "    </tr>\n",
       "  </thead>\n",
       "  <tbody>\n",
       "    <tr>\n",
       "      <th>2018-06-26</th>\n",
       "      <td>10800</td>\n",
       "      <td>10900</td>\n",
       "      <td>11000</td>\n",
       "      <td>10700</td>\n",
       "      <td>63039</td>\n",
       "    </tr>\n",
       "    <tr>\n",
       "      <th>2018-06-25</th>\n",
       "      <td>11150</td>\n",
       "      <td>11400</td>\n",
       "      <td>11450</td>\n",
       "      <td>11000</td>\n",
       "      <td>55519</td>\n",
       "    </tr>\n",
       "    <tr>\n",
       "      <th>2018-06-22</th>\n",
       "      <td>11300</td>\n",
       "      <td>11250</td>\n",
       "      <td>11450</td>\n",
       "      <td>10750</td>\n",
       "      <td>134805</td>\n",
       "    </tr>\n",
       "    <tr>\n",
       "      <th>2018-06-21</th>\n",
       "      <td>11200</td>\n",
       "      <td>11350</td>\n",
       "      <td>11750</td>\n",
       "      <td>11200</td>\n",
       "      <td>133002</td>\n",
       "    </tr>\n",
       "    <tr>\n",
       "      <th>2018-06-20</th>\n",
       "      <td>11550</td>\n",
       "      <td>11200</td>\n",
       "      <td>11600</td>\n",
       "      <td>10900</td>\n",
       "      <td>308596</td>\n",
       "    </tr>\n",
       "    <tr>\n",
       "      <th>2018-06-19</th>\n",
       "      <td>11300</td>\n",
       "      <td>11850</td>\n",
       "      <td>11950</td>\n",
       "      <td>11300</td>\n",
       "      <td>180656</td>\n",
       "    </tr>\n",
       "    <tr>\n",
       "      <th>2018-06-18</th>\n",
       "      <td>12000</td>\n",
       "      <td>13400</td>\n",
       "      <td>13400</td>\n",
       "      <td>12000</td>\n",
       "      <td>309787</td>\n",
       "    </tr>\n",
       "    <tr>\n",
       "      <th>2018-06-15</th>\n",
       "      <td>13400</td>\n",
       "      <td>13600</td>\n",
       "      <td>13600</td>\n",
       "      <td>12900</td>\n",
       "      <td>201376</td>\n",
       "    </tr>\n",
       "    <tr>\n",
       "      <th>2018-06-14</th>\n",
       "      <td>13450</td>\n",
       "      <td>13200</td>\n",
       "      <td>13700</td>\n",
       "      <td>13150</td>\n",
       "      <td>347451</td>\n",
       "    </tr>\n",
       "    <tr>\n",
       "      <th>2018-06-12</th>\n",
       "      <td>13200</td>\n",
       "      <td>12200</td>\n",
       "      <td>13300</td>\n",
       "      <td>12050</td>\n",
       "      <td>558148</td>\n",
       "    </tr>\n",
       "    <tr>\n",
       "      <th>2018-06-11</th>\n",
       "      <td>11950</td>\n",
       "      <td>12000</td>\n",
       "      <td>12250</td>\n",
       "      <td>11950</td>\n",
       "      <td>62293</td>\n",
       "    </tr>\n",
       "    <tr>\n",
       "      <th>2018-06-08</th>\n",
       "      <td>11950</td>\n",
       "      <td>11950</td>\n",
       "      <td>12200</td>\n",
       "      <td>11800</td>\n",
       "      <td>59258</td>\n",
       "    </tr>\n",
       "    <tr>\n",
       "      <th>2018-06-07</th>\n",
       "      <td>11950</td>\n",
       "      <td>12200</td>\n",
       "      <td>12300</td>\n",
       "      <td>11900</td>\n",
       "      <td>49088</td>\n",
       "    </tr>\n",
       "    <tr>\n",
       "      <th>2018-06-05</th>\n",
       "      <td>12150</td>\n",
       "      <td>11800</td>\n",
       "      <td>12250</td>\n",
       "      <td>11800</td>\n",
       "      <td>42485</td>\n",
       "    </tr>\n",
       "    <tr>\n",
       "      <th>2018-06-04</th>\n",
       "      <td>11900</td>\n",
       "      <td>11900</td>\n",
       "      <td>12200</td>\n",
       "      <td>11700</td>\n",
       "      <td>25171</td>\n",
       "    </tr>\n",
       "  </tbody>\n",
       "</table>\n",
       "</div>"
      ],
      "text/plain": [
       "            Close  Start   High    Low  Volume\n",
       "New_Date                                      \n",
       "2018-06-26  10800  10900  11000  10700   63039\n",
       "2018-06-25  11150  11400  11450  11000   55519\n",
       "2018-06-22  11300  11250  11450  10750  134805\n",
       "2018-06-21  11200  11350  11750  11200  133002\n",
       "2018-06-20  11550  11200  11600  10900  308596\n",
       "2018-06-19  11300  11850  11950  11300  180656\n",
       "2018-06-18  12000  13400  13400  12000  309787\n",
       "2018-06-15  13400  13600  13600  12900  201376\n",
       "2018-06-14  13450  13200  13700  13150  347451\n",
       "2018-06-12  13200  12200  13300  12050  558148\n",
       "2018-06-11  11950  12000  12250  11950   62293\n",
       "2018-06-08  11950  11950  12200  11800   59258\n",
       "2018-06-07  11950  12200  12300  11900   49088\n",
       "2018-06-05  12150  11800  12250  11800   42485\n",
       "2018-06-04  11900  11900  12200  11700   25171"
      ]
     },
     "execution_count": 15,
     "metadata": {},
     "output_type": "execute_result"
    }
   ],
   "source": [
    "df.loc['2018-06-02':'2018-06-26']"
   ]
  },
  {
   "cell_type": "markdown",
   "id": "a481b342-77dc-41ba-98b7-f43103e776aa",
   "metadata": {},
   "source": [
    "### Timestamp를 Period로 변환"
   ]
  },
  {
   "cell_type": "markdown",
   "id": "d4de7f50-4347-41c5-ae1c-061fe0bc2d2f",
   "metadata": {},
   "source": [
    "- 판다스 to_period() 함수를 이용하면 일정한 기간을 나타내는  Period객체로 Timestamp 객체를 변환할 수 있다. freq 옵션에 기준이 되는 기간을 설정한다.\n",
    "- 먼저 3개의 날짜 데이터를 Timestamp로 변환하고, 기간 옵션을 달리하여 Period 객체를 지정한다.\n",
    "- freq 옵션에 'D'(1일의 기간), 'M'(1개월의 기간), 'A'(1년의 기간, 12월을 기준으로 삼는다) 이렇게 있다."
   ]
  },
  {
   "cell_type": "code",
   "execution_count": 16,
   "id": "26c52730-54f7-4c38-ba95-d093ced3d909",
   "metadata": {},
   "outputs": [
    {
     "name": "stdout",
     "output_type": "stream",
     "text": [
      "DatetimeIndex(['2019-01-01', '2020-03-01', '2021-06-01'], dtype='datetime64[ns]', freq=None)\n",
      "\n",
      "\n",
      "PeriodIndex(['2019-01-01', '2020-03-01', '2021-06-01'], dtype='period[D]')\n",
      "PeriodIndex(['2019-01', '2020-03', '2021-06'], dtype='period[M]')\n",
      "PeriodIndex(['2019', '2020', '2021'], dtype='period[A-DEC]')\n"
     ]
    }
   ],
   "source": [
    "# 날짜 형식의 문자열로 구성되는 리스트 정의\n",
    "dates = ['2019-01-01', '2020-03-01', '2021-06-01']\n",
    "\n",
    "# 문자열 데이터(시리즈 객체)를 판다스 Timestamp로 변환\n",
    "ts_dates = pd.to_datetime(dates)\n",
    "print(ts_dates)\n",
    "print('\\n')\n",
    "\n",
    "#timestamp를 period로 변환\n",
    "pr_day = ts_dates.to_period(freq='D')\n",
    "print(pr_day)\n",
    "pr_month = ts_dates.to_period(freq='M')\n",
    "print(pr_month)\n",
    "pr_year = ts_dates.to_period(freq='A')\n",
    "print(pr_year)"
   ]
  },
  {
   "cell_type": "markdown",
   "id": "2c0f6d11-f7be-4671-b014-85671fa13912",
   "metadata": {},
   "source": [
    "freq 옵션 종류\n",
    "1. D, M, A : 앞에 설명\n",
    "2. W: 1주 기준\n",
    "3. MS: 월초 기준\n",
    "4. Q, QS: 분기말, 분기초 기준\n",
    "5. AS: 연초 기준\n",
    "6. B: 휴일 제외\n",
    "7. H, T, S, L, U, N: 1시간, 1분, 1초, 1/1000초, 1/1000000초, 1/1,000,000,000초"
   ]
  },
  {
   "cell_type": "markdown",
   "id": "b7c265a6-5875-420f-be9f-2de402c623e3",
   "metadata": {},
   "source": [
    "### 시계열 데이터 만들기"
   ]
  },
  {
   "cell_type": "markdown",
   "id": "0ce4e1c2-a307-45d3-8c86-0208a2955d24",
   "metadata": {},
   "source": [
    "Timestamp 배열: 판다스 date_range() 함수를 사용하면 여러 개의 날짜가 들어 있는 배열 형태의 시계열 데이터를 만들 수 있다. 파이썬 range() 햄수로 숫자 배열을 만드는 것과 비슷하다."
   ]
  },
  {
   "cell_type": "code",
   "execution_count": 9,
   "id": "8326944b-6f10-4764-a7b4-7872075d1dd3",
   "metadata": {},
   "outputs": [
    {
     "name": "stdout",
     "output_type": "stream",
     "text": [
      "DatetimeIndex(['2022-01-01 00:00:00+09:00', '2022-02-01 00:00:00+09:00',\n",
      "               '2022-03-01 00:00:00+09:00', '2022-04-01 00:00:00+09:00',\n",
      "               '2022-05-01 00:00:00+09:00', '2022-06-01 00:00:00+09:00'],\n",
      "              dtype='datetime64[ns, Asia/Seoul]', freq='MS')\n"
     ]
    }
   ],
   "source": [
    "# Timestamp의 배열 만들기 - 월 간격, 월의 시작일 기준\n",
    "ts_ms = pd.date_range(start = '2022-01-01', #날짜 범위 시작\n",
    "                      end = None,           #날짜 범위 끝\n",
    "                      periods=6,            #생성할 Timestamp 개수\n",
    "                      freq='MS',            #시간 간격(MS: 월의 시작일)\n",
    "                      tz='Asia/Seoul')      #시간대(timezone)\n",
    "print(ts_ms)"
   ]
  },
  {
   "cell_type": "code",
   "execution_count": 10,
   "id": "6992a108-f5a5-41a1-9399-4b67bc9efa80",
   "metadata": {},
   "outputs": [
    {
     "name": "stdout",
     "output_type": "stream",
     "text": [
      "DatetimeIndex(['2019-01-01 00:00:00+09:00', '2019-02-01 00:00:00+09:00',\n",
      "               '2019-03-01 00:00:00+09:00', '2019-04-01 00:00:00+09:00',\n",
      "               '2019-05-01 00:00:00+09:00', '2019-06-01 00:00:00+09:00'],\n",
      "              dtype='datetime64[ns, Asia/Seoul]', freq='MS')\n",
      "\n",
      "\n",
      "DatetimeIndex(['2019-01-31 00:00:00+09:00', '2019-02-28 00:00:00+09:00',\n",
      "               '2019-03-31 00:00:00+09:00', '2019-04-30 00:00:00+09:00',\n",
      "               '2019-05-31 00:00:00+09:00', '2019-06-30 00:00:00+09:00'],\n",
      "              dtype='datetime64[ns, Asia/Seoul]', freq='M')\n",
      "\n",
      "\n",
      "DatetimeIndex(['2019-01-31 00:00:00+09:00', '2019-04-30 00:00:00+09:00',\n",
      "               '2019-07-31 00:00:00+09:00', '2019-10-31 00:00:00+09:00',\n",
      "               '2020-01-31 00:00:00+09:00', '2020-04-30 00:00:00+09:00'],\n",
      "              dtype='datetime64[ns, Asia/Seoul]', freq='3M')\n"
     ]
    }
   ],
   "source": [
    "# Timestamp의 배열 만들기 - 월 간격, 월의 시작일 기준\n",
    "ts_ms = pd.date_range(start='2019-01-01',    # 날짜 범위의 시작\n",
    "                   end=None,                 # 날짜 범위의 끝\n",
    "                   periods=6,                # 생성할 Timestamp의 개수\n",
    "                   freq='MS',                # 시간 간격 (MS: 월의 시작일)\n",
    "                   tz='Asia/Seoul')          # 시간대(timezone)\n",
    "print(ts_ms)\n",
    "print('\\n')\n",
    "\n",
    "# 월 간격, 월의 마지막 날 기준\n",
    "ts_me = pd.date_range('2019-01-01', periods=6, \n",
    "                   freq='M',              # 시간 간격 (M: 월의 마지막 날)\n",
    "                   tz='Asia/Seoul')       # 시간대(timezone)\n",
    "print(ts_me)\n",
    "print('\\n')\n",
    "\n",
    "# 분기(3개월) 간격, 월의 마지막 날 기준\n",
    "ts_3m = pd.date_range('2019-01-01', periods=6, \n",
    "                   freq='3M',             # 시간 간격 (3M: 3개월)\n",
    "                   tz='Asia/Seoul')       # 시간대(timezone)\n",
    "print(ts_3m)\n"
   ]
  },
  {
   "cell_type": "markdown",
   "id": "9b60253d-3ebc-46dd-bda9-fb8d7093ed0e",
   "metadata": {},
   "source": [
    "### period 배열"
   ]
  },
  {
   "cell_type": "markdown",
   "id": "9fc41246-384c-4b81-91d7-f71e15c44dc1",
   "metadata": {},
   "source": [
    "- period_range() 함수는 여러 개의 기간이 들어있는 시계열 데이터를 만든다.\n",
    "- 결과값에서 Periodindex의 원소는 해당 기간의 전체기간을 나타낸다."
   ]
  },
  {
   "cell_type": "code",
   "execution_count": 11,
   "id": "0d932794-9562-42f1-97ab-d40d1a3f315f",
   "metadata": {},
   "outputs": [
    {
     "name": "stdout",
     "output_type": "stream",
     "text": [
      "PeriodIndex(['2022-01', '2022-02', '2022-03'], dtype='period[M]')\n"
     ]
    }
   ],
   "source": [
    "pr_m = pd.period_range(start='2022-01-01',\n",
    "                       end=None,\n",
    "                       periods=3,\n",
    "                       freq='M')\n",
    "print(pr_m)"
   ]
  },
  {
   "cell_type": "markdown",
   "id": "7a66ec62-876f-4708-9522-985e7ea3d692",
   "metadata": {},
   "source": [
    "ㅡfreq옵션을 바꾸면서 기간을 다르게 설정해보자."
   ]
  },
  {
   "cell_type": "code",
   "execution_count": 17,
   "id": "873934b3-205d-4fbe-9da5-3fbd7607ad1b",
   "metadata": {},
   "outputs": [
    {
     "name": "stdout",
     "output_type": "stream",
     "text": [
      "PeriodIndex(['2022-01-01 00:00', '2022-01-01 01:00', '2022-01-01 02:00'], dtype='period[H]')\n"
     ]
    }
   ],
   "source": [
    "pr_h = pd.period_range(start='2022-01-01',\n",
    "                       end=None,\n",
    "                       periods=3,\n",
    "                       freq='H')# 1시간 간격\n",
    "print(pr_h)"
   ]
  },
  {
   "cell_type": "code",
   "execution_count": 18,
   "id": "7b437506-99dd-4980-8007-3ebc3727f0c0",
   "metadata": {},
   "outputs": [
    {
     "name": "stdout",
     "output_type": "stream",
     "text": [
      "PeriodIndex(['2022-01-01 00:00', '2022-01-01 02:00', '2022-01-01 04:00'], dtype='period[2H]')\n"
     ]
    }
   ],
   "source": [
    "pr_h = pd.period_range(start='2022-01-01',\n",
    "                       end=None,\n",
    "                       periods=3,\n",
    "                       freq='2H') #2시간 간격\n",
    "print(pr_h)"
   ]
  },
  {
   "cell_type": "markdown",
   "id": "56949fb9-ba80-44c9-9842-f99b06e4c2db",
   "metadata": {},
   "source": [
    "## 시계열 데이터 활용"
   ]
  },
  {
   "cell_type": "markdown",
   "id": "c71473ac-3e8e-4f7c-bb9d-c826943540e8",
   "metadata": {},
   "source": [
    "### 날짜 데이터 분리"
   ]
  },
  {
   "cell_type": "markdown",
   "id": "7ece3c6f-a97b-473f-8b6d-827b5c15992e",
   "metadata": {},
   "source": [
    "연-월-일 날짜 데이터에서 일부를 분리하여 추출할 수 있다. Timestamp로 변환한 객체를 **dt** 속성을 활용하여 year, month, day로 분리가 가능하다."
   ]
  },
  {
   "cell_type": "code",
   "execution_count": 20,
   "id": "e965823e-9b2c-4e24-ab5a-c8ab9a704f39",
   "metadata": {},
   "outputs": [
    {
     "name": "stdout",
     "output_type": "stream",
     "text": [
      "         Date  Close  Start   High    Low  Volume   New_Date\n",
      "0  2018-07-02  10100  10850  10900  10000  137977 2018-07-02\n",
      "1  2018-06-29  10700  10550  10900   9990  170253 2018-06-29\n",
      "2  2018-06-28  10400  10900  10950  10150  155769 2018-06-28\n",
      "3  2018-06-27  10900  10800  11050  10500  133548 2018-06-27\n",
      "4  2018-06-26  10800  10900  11000  10700   63039 2018-06-26\n",
      "         Date  Close  Start   High    Low  Volume   New_Date  Year  Month  Day\n",
      "0  2018-07-02  10100  10850  10900  10000  137977 2018-07-02  2018      7    2\n",
      "1  2018-06-29  10700  10550  10900   9990  170253 2018-06-29  2018      6   29\n",
      "2  2018-06-28  10400  10900  10950  10150  155769 2018-06-28  2018      6   28\n",
      "3  2018-06-27  10900  10800  11050  10500  133548 2018-06-27  2018      6   27\n",
      "4  2018-06-26  10800  10900  11000  10700   63039 2018-06-26  2018      6   26\n"
     ]
    }
   ],
   "source": [
    "df = pd.read_csv('./stock-data.csv')\n",
    "\n",
    "# Date 열을 Timestamp 객체로 변환\n",
    "df['New_Date'] = pd.to_datetime(df['Date'])\n",
    "print(df.head())\n",
    "\n",
    "# dt 속성을 활용해서 연,월,일로 구분\n",
    "df['Year'] = df['New_Date'].dt.year\n",
    "df['Month'] = df['New_Date'].dt.month\n",
    "df['Day'] = df['New_Date'].dt.day\n",
    "\n",
    "print(df.head())"
   ]
  },
  {
   "cell_type": "markdown",
   "id": "919ccbf7-dbe2-4866-91be-b2ef28679b91",
   "metadata": {},
   "source": [
    "Timestamp 객체를 Period 객체로 변환하는 to_period() 메소드를 적용하여, 연-월-일 중에서 연-월 또는 연도를 추출이 가능하다."
   ]
  },
  {
   "cell_type": "code",
   "execution_count": 21,
   "id": "94c7c030-d8d1-40ee-9738-9d02c66f10e5",
   "metadata": {},
   "outputs": [
    {
     "name": "stdout",
     "output_type": "stream",
     "text": [
      "         Date  Close  Start   High    Low  Volume   New_Date  Year  Month  \\\n",
      "0  2018-07-02  10100  10850  10900  10000  137977 2018-07-02  2018      7   \n",
      "1  2018-06-29  10700  10550  10900   9990  170253 2018-06-29  2018      6   \n",
      "2  2018-06-28  10400  10900  10950  10150  155769 2018-06-28  2018      6   \n",
      "3  2018-06-27  10900  10800  11050  10500  133548 2018-06-27  2018      6   \n",
      "4  2018-06-26  10800  10900  11000  10700   63039 2018-06-26  2018      6   \n",
      "\n",
      "   Day Date_yr   Date_m  \n",
      "0    2    2018  2018-07  \n",
      "1   29    2018  2018-06  \n",
      "2   28    2018  2018-06  \n",
      "3   27    2018  2018-06  \n",
      "4   26    2018  2018-06  \n"
     ]
    }
   ],
   "source": [
    "df['Date_yr'] = df['New_Date'].dt.to_period(freq='A')\n",
    "df['Date_m'] = df['New_Date'].dt.to_period(freq='M')\n",
    "print(df.head())\n"
   ]
  },
  {
   "cell_type": "markdown",
   "id": "d0443154-c170-435e-9d13-7d52c2257f9c",
   "metadata": {},
   "source": [
    "### 날짜 인덱스 활용"
   ]
  },
  {
   "cell_type": "markdown",
   "id": "cc2b33b4-18a6-4d4e-b70e-ec9480142723",
   "metadata": {},
   "source": [
    "- Timestamp로 구성된 열을 행 인덱스로 지정하면 DatetimeIndex라는 고유 속성으로 변환된다. 마찬가지로 Period로 구성된 열을 행 인덱스로 지정하면 PeriodIndex라는 속성을 갖는다.\n",
    "- 날짜 인덱스를 활용하면 시계열 데이터에 대한 인덱스과 슬라이싱이 편리하다.\n",
    "- 연-월-일 중에서 내가 필요로 하는 레벨을 선택적으로 인덱싱을 할 수 있다.(연도로만 하던가, 연-월, 연월일 기준으로 선택할 수 있다.)\n",
    "- 날짜 범위로 슬라이싱도 가능하다."
   ]
  },
  {
   "cell_type": "code",
   "execution_count": 30,
   "id": "5b106951-834a-4793-a548-c958c433b621",
   "metadata": {},
   "outputs": [
    {
     "name": "stdout",
     "output_type": "stream",
     "text": [
      "                  Date  Close  Start   High    Low  Volume\n",
      "new_Date                                                  \n",
      "2018-07-02  2018-07-02  10100  10850  10900  10000  137977\n",
      "2018-06-29  2018-06-29  10700  10550  10900   9990  170253\n",
      "2018-06-28  2018-06-28  10400  10900  10950  10150  155769\n",
      "2018-06-27  2018-06-27  10900  10800  11050  10500  133548\n",
      "2018-06-26  2018-06-26  10800  10900  11000  10700   63039\n",
      "\n",
      "\n",
      "DatetimeIndex(['2018-07-02', '2018-06-29', '2018-06-28', '2018-06-27',\n",
      "               '2018-06-26', '2018-06-25', '2018-06-22', '2018-06-21',\n",
      "               '2018-06-20', '2018-06-19', '2018-06-18', '2018-06-15',\n",
      "               '2018-06-14', '2018-06-12', '2018-06-11', '2018-06-08',\n",
      "               '2018-06-07', '2018-06-05', '2018-06-04', '2018-06-01'],\n",
      "              dtype='datetime64[ns]', name='new_Date', freq=None)\n",
      "\n",
      "\n"
     ]
    }
   ],
   "source": [
    "# read_csv() 함수로 파일 읽어와서 df로 변환\n",
    "df = pd.read_csv('./stock-data.csv')\n",
    "\n",
    "# 문자열인 날짜 데이터를 판다스 Timestamp로 변환\n",
    "df['new_Date'] = pd.to_datetime(df['Date'])   # 새로운 열에 추가\n",
    "df.sort_values('new_Date')\n",
    "df.set_index('new_Date', inplace=True)        # 행 인덱스로 지정\n",
    "\n",
    "\n",
    "print(df.head())\n",
    "print('\\n')\n",
    "print(df.index)\n",
    "print('\\n')"
   ]
  },
  {
   "cell_type": "code",
   "execution_count": 37,
   "id": "7019475c-19ce-49c6-aef4-7177f6949bed",
   "metadata": {},
   "outputs": [
    {
     "name": "stdout",
     "output_type": "stream",
     "text": [
      "                  Date  Close  Start   High    Low  Volume\n",
      "new_Date                                                  \n",
      "2018-07-02  2018-07-02  10100  10850  10900  10000  137977\n",
      "2018-06-29  2018-06-29  10700  10550  10900   9990  170253\n",
      "2018-06-28  2018-06-28  10400  10900  10950  10150  155769\n",
      "2018-06-27  2018-06-27  10900  10800  11050  10500  133548\n",
      "2018-06-26  2018-06-26  10800  10900  11000  10700   63039\n",
      "\n",
      "\n",
      "                  Date  Close  Start   High    Low  Volume\n",
      "new_Date                                                  \n",
      "2018-07-02  2018-07-02  10100  10850  10900  10000  137977\n",
      "\n",
      "\n",
      "            Start   High\n",
      "new_Date                \n",
      "2018-07-02  10850  10900\n",
      "\n",
      "\n",
      "Date      2018-07-02\n",
      "Close          10100\n",
      "Start          10850\n",
      "High           10900\n",
      "Low            10000\n",
      "Volume        137977\n",
      "Name: 2018-07-02 00:00:00, dtype: object\n",
      "\n",
      "\n",
      "                  Date  Close  Start   High    Low  Volume\n",
      "new_Date                                                  \n",
      "2018-06-25  2018-06-25  11150  11400  11450  11000   55519\n",
      "2018-06-22  2018-06-22  11300  11250  11450  10750  134805\n",
      "2018-06-21  2018-06-21  11200  11350  11750  11200  133002\n",
      "2018-06-20  2018-06-20  11550  11200  11600  10900  308596\n",
      "\n",
      "\n"
     ]
    }
   ],
   "source": [
    "# 날짜 인덱스를 이용하여 데이터 선택하기\n",
    "df_y = df['2018']\n",
    "print(df_y.head())\n",
    "print('\\n')\n",
    "df_ym = df.loc['2018-07']    # loc 인덱서 활용\n",
    "print(df_ym)\n",
    "print('\\n')\n",
    "df_ym_cols = df.loc['2018-07', 'Start':'High']    # 열 범위 슬라이싱\n",
    "print(df_ym_cols)\n",
    "print('\\n')\n",
    "df_ymd = df.loc['2018-07-02']\n",
    "print(df_ymd)\n",
    "print('\\n')\n",
    "df_ymd_range = df['2018-06-20':'2018-06-25']    # 날짜 범위 지정(날짜를 오름차순으로 슬라이싱해야한다.)\n",
    "print(df_ymd_range)\n",
    "print('\\n')"
   ]
  },
  {
   "cell_type": "markdown",
   "id": "3865ead0-903e-41df-a844-125c0f4487e2",
   "metadata": {},
   "source": [
    "Timestamp 객체로 표시된 두 날짜 사이의 시간 간격을 구할 수 있다. 어떤 날짜로 부터 경과한 날짜를 계산하여 행 인덱스를 지정하고, 데이터를 선택하는 과정을 살펴보자."
   ]
  },
  {
   "cell_type": "code",
   "execution_count": 41,
   "id": "cd5e78d3-1fbf-42bf-ba60-95bee721c4f7",
   "metadata": {},
   "outputs": [
    {
     "name": "stdout",
     "output_type": "stream",
     "text": [
      "                  Date  Close  Start   High    Low  Volume\n",
      "time_delta                                                \n",
      "180 days    2018-06-28  10400  10900  10950  10150  155769\n",
      "181 days    2018-06-27  10900  10800  11050  10500  133548\n",
      "182 days    2018-06-26  10800  10900  11000  10700   63039\n",
      "183 days    2018-06-25  11150  11400  11450  11000   55519\n",
      "186 days    2018-06-22  11300  11250  11450  10750  134805\n",
      "187 days    2018-06-21  11200  11350  11750  11200  133002\n",
      "188 days    2018-06-20  11550  11200  11600  10900  308596\n",
      "189 days    2018-06-19  11300  11850  11950  11300  180656\n"
     ]
    }
   ],
   "source": [
    "# 시간 간격 계산. 최근 180일 ~ 189일 사이의 값들만 선택하기\n",
    "today = pd.to_datetime('2018-12-25')            # 기준일 생성\n",
    "df['time_delta'] = today - df.index             # 날짜 차이 계산 형태는 XX days로 나온다.\n",
    "df.set_index('time_delta', inplace=True)        # 행 인덱스로 지정\n",
    "df_180 = df['180 days':'189 days']\n",
    "print(df_180)"
   ]
  },
  {
   "cell_type": "code",
   "execution_count": null,
   "id": "069da347-84bb-43d7-a23d-d7f1693eaa86",
   "metadata": {},
   "outputs": [],
   "source": []
  }
 ],
 "metadata": {
  "kernelspec": {
   "display_name": "Python 3 (ipykernel)",
   "language": "python",
   "name": "python3"
  },
  "language_info": {
   "codemirror_mode": {
    "name": "ipython",
    "version": 3
   },
   "file_extension": ".py",
   "mimetype": "text/x-python",
   "name": "python",
   "nbconvert_exporter": "python",
   "pygments_lexer": "ipython3",
   "version": "3.9.12"
  }
 },
 "nbformat": 4,
 "nbformat_minor": 5
}
