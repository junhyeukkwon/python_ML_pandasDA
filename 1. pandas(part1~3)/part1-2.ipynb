{
 "cells": [
  {
   "cell_type": "code",
   "execution_count": 1,
   "id": "e33da3fa-1807-44f9-ad0b-4aa17e6a4d8a",
   "metadata": {},
   "outputs": [],
   "source": [
    "import pandas as pd"
   ]
  },
  {
   "cell_type": "markdown",
   "id": "ef5c9c5e-7e29-4bc5-a087-f9035068d43f",
   "metadata": {},
   "source": [
    "- 행 인덱스를 기준으로 데이터프레임 정렬\n",
    "    - sort_index() 메서드를 활용하여 행 인덱스를 기준으로 데이터프레임 값을 정렬\n",
    "    - ascending 옵션을 사용하여 오름차순 또는 내임차순을 설정\n",
    "    - DataFrame.sort_index() 형태를 가짐."
   ]
  },
  {
   "cell_type": "code",
   "execution_count": 2,
   "id": "f501fddd-826f-4a08-8606-fb64b2473e3c",
   "metadata": {},
   "outputs": [
    {
     "name": "stdout",
     "output_type": "stream",
     "text": [
      "    c0  c1  c2  c3  c4\n",
      "r0   1   4   7  10  13\n",
      "r1   2   5   8  11  14\n",
      "r2   3   6   9  12  15\n",
      "\n",
      "\n",
      "    c0  c1  c2  c3  c4\n",
      "r2   3   6   9  12  15\n",
      "r1   2   5   8  11  14\n",
      "r0   1   4   7  10  13\n"
     ]
    }
   ],
   "source": [
    "# 딕셔서리를 정의\n",
    "dict_data = {'c0':[1,2,3], 'c1':[4,5,6], 'c2':[7,8,9], 'c3':[10,11,12], 'c4':[13,14,15]}\n",
    "\n",
    "# 딕셔서리를 데이터프레임으로 변환. 인덱스를 [r0, r1, r2]로 지정\n",
    "df = pd.DataFrame(dict_data, index=['r0', 'r1', 'r2'])\n",
    "print(df)\n",
    "print('\\n')\n",
    "\n",
    "# 내림차순으로 행 인덱스 정렬 \n",
    "ndf = df.sort_index(ascending=False)\n",
    "print(ndf)"
   ]
  },
  {
   "cell_type": "markdown",
   "id": "c7479bd8-dcc8-4992-a976-3a82dafd547a",
   "metadata": {},
   "source": [
    "- 특정 열의 데이터 값을 기준으로 데이터 프레임 정렬\n",
    "    - sort_values() 메소드를 활용하여 새롭게 정렬된 데이터프레임 객체를 반환\n",
    "    - sort_index와 동일하게 ascending 옵션으로 내림,오름차순을 정할 수 있다.(ascending=False(내림차순),True(오름차순))"
   ]
  },
  {
   "cell_type": "code",
   "execution_count": 5,
   "id": "3cdcdaa1-d51b-469e-87a2-044d40f59f9d",
   "metadata": {},
   "outputs": [
    {
     "name": "stdout",
     "output_type": "stream",
     "text": [
      "    c0  c1  c2  c3  c4\n",
      "r0   1   4   7  10  13\n",
      "r1   2  10   8  11  14\n",
      "r2   4   6   9  12  15\n",
      "\n",
      "\n",
      "    c0  c1  c2  c3  c4\n",
      "r1   2  10   8  11  14\n",
      "r2   4   6   9  12  15\n",
      "r0   1   4   7  10  13\n"
     ]
    }
   ],
   "source": [
    "# 딕셔서리를 정의\n",
    "dict_data = {'c0':[1,2,4], 'c1':[4,10,6], 'c2':[7,8,9], 'c3':[10,11,12], 'c4':[13,14,15]}\n",
    "\n",
    "# 딕셔서리를 데이터프레임으로 변환. 인덱스를 [r0, r1, r2]로 지정\n",
    "df = pd.DataFrame(dict_data, index=['r0', 'r1', 'r2'])\n",
    "print(df)\n",
    "print('\\n')\n",
    "\n",
    "# 내림차순으로 행 인덱스 정렬 \n",
    "ndf = df.sort_values(by='c1', ascending=False)\n",
    "print(ndf)"
   ]
  },
  {
   "cell_type": "markdown",
   "id": "5d82ac45-3e04-4863-bf03-13bd7b913931",
   "metadata": {},
   "source": [
    "## 산술연산\n",
    "- 판다스 객체의 산술연산은 내부적으로 3단계 프로세스를 거친다. 행/열 인덱스를 기준으로 모든 원소를 정렬.\n",
    "- 동일한 위치에 있는 원소끼리 일대일로 대응.\n",
    "- 일대응 대응이 되는 원소끼리 연산을 처리.(대응되는 원소가 없으면 NaN처리)"
   ]
  },
  {
   "cell_type": "markdown",
   "id": "699b0205-715c-441f-9feb-52097771b5c0",
   "metadata": {},
   "source": [
    "### 시리즈연산\n",
    "- 시리즈 & 숫자: 시리즈객체에 어떤 숫자를 더하면 시리즈의 개별 원소에 각각 숫자를 더하고 계산한 결과를 시리즈 객체로 반환.(덧셈,뺄셈,곱셈,나눗셈 가능)"
   ]
  },
  {
   "cell_type": "code",
   "execution_count": 6,
   "id": "d24c4e43-0695-4a87-92c3-33dbfaeb0887",
   "metadata": {},
   "outputs": [],
   "source": [
    "student1 = pd.Series({'국어':100, '영어':80, '수학':90})"
   ]
  },
  {
   "cell_type": "code",
   "execution_count": 7,
   "id": "8d67e00f-6207-4f0c-8d3e-d50ae6111926",
   "metadata": {},
   "outputs": [
    {
     "name": "stdout",
     "output_type": "stream",
     "text": [
      "국어    100\n",
      "영어     80\n",
      "수학     90\n",
      "dtype: int64\n",
      "\n",
      "\n",
      "국어    1.0\n",
      "영어    0.8\n",
      "수학    0.9\n",
      "dtype: float64\n",
      "\n",
      "\n",
      "<class 'pandas.core.series.Series'>\n"
     ]
    }
   ],
   "source": [
    "print(student1)\n",
    "print('\\n')\n",
    "\n",
    "#percentage로 표현하기\n",
    "percentage = student1/100\n",
    "print(percentage)\n",
    "print('\\n')\n",
    "print(type(percentage))"
   ]
  },
  {
   "cell_type": "markdown",
   "id": "cc4e15ad-f0ff-4071-ac44-1c1d69c53ec4",
   "metadata": {},
   "source": [
    "연산 결과는 점수에서 100을 나눈 값을 반환을 하고 원래 인덱스와 동일한 국어, 영어, 수학 인덱스 순서대로 매칭하여 시리즈 객체로 반환한다."
   ]
  },
  {
   "cell_type": "markdown",
   "id": "4cabe9d5-31f9-445b-be7c-92542de68a78",
   "metadata": {},
   "source": [
    "- 시리즈 & 시리즈\n",
    "    - 시리즈와 시리즈 사이에 사칙연산을 처리하는대 시리즈의 모든 인덱스에 대하여 같은 인덱스를 가진 원소끼리 계산한다.(사칙연산이 가능)\n",
    "    - 인덱스에 연산 결과를 매칭하여 새 시리즈를 반환한다."
   ]
  },
  {
   "cell_type": "code",
   "execution_count": 9,
   "id": "eb8e8be3-3134-4af0-9abb-8a7f1f510341",
   "metadata": {},
   "outputs": [
    {
     "name": "stdout",
     "output_type": "stream",
     "text": [
      "국어    100\n",
      "영어     80\n",
      "수학     90\n",
      "dtype: int64\n",
      "\n",
      "\n",
      "수학    80\n",
      "국어    90\n",
      "영어    80\n",
      "dtype: int64\n",
      "\n",
      "\n",
      "              국어        수학      영어\n",
      "덧셈    190.000000   170.000   160.0\n",
      "뺄셈     10.000000    10.000     0.0\n",
      "곱셈   9000.000000  7200.000  6400.0\n",
      "나누기     1.111111     1.125     1.0\n"
     ]
    }
   ],
   "source": [
    "#딕셔너리 데이터로 판다스 시리즈 만들기\n",
    "student1 = pd.Series({'국어':100, '영어':80, '수학':90})\n",
    "student2 = pd.Series({'수학':80, '국어':90, '영어':80})\n",
    "print(student1)\n",
    "print('\\n')\n",
    "print(student2)\n",
    "print('\\n')\n",
    "\n",
    "#두 시리즈객체를 사칙연산 진행\n",
    "addition = student1 + student2\n",
    "subtraction = student1 - student2\n",
    "multiplication = student1 * student2\n",
    "divistion = student1/student2\n",
    "\n",
    "#사칙연산 결과를 데이터프레임으로 합치기(시리즈->데이터프레임)\n",
    "resultdf = pd.DataFrame([addition, subtraction, multiplication, divistion],\n",
    "                        index = ['덧셈','뺄셈','곱셈','나누기'])\n",
    "print(resultdf)"
   ]
  },
  {
   "cell_type": "markdown",
   "id": "8603fbfc-cf65-443b-bd6c-1accd5b83b92",
   "metadata": {},
   "source": [
    "student1,2 시리즈에 서로 다른 인덱스 순이지만, resultdf 는 각 인덱스 국어면 국어를 매칭하고, 영어는 영어로 연산이 된 것을 볼 수 있다.   \n",
    "이처럼 앞서 언급한 판다스는 같은 과목명(인덱스)을 찾아 정렬한 후 같은 과목명의 점수끼리 연산을 진행을 한다.   \n",
    "만약 서로 다른 인덱스가 존재 한다면 어떻게 될까?"
   ]
  },
  {
   "cell_type": "code",
   "execution_count": 10,
   "id": "e6a5fc13-8249-4039-b390-f952ff5114d7",
   "metadata": {},
   "outputs": [
    {
     "name": "stdout",
     "output_type": "stream",
     "text": [
      "국어     NaN\n",
      "영어    80.0\n",
      "수학    90.0\n",
      "dtype: float64\n",
      "\n",
      "\n",
      "수학    80\n",
      "국어    90\n",
      "dtype: int64\n",
      "\n",
      "\n",
      "<class 'pandas.core.series.Series'>\n",
      "\n",
      "\n",
      "     국어        수학  영어\n",
      "덧셈  NaN   170.000 NaN\n",
      "뺄셈  NaN    10.000 NaN\n",
      "곱셈  NaN  7200.000 NaN\n",
      "나눗셈 NaN     1.125 NaN\n"
     ]
    }
   ],
   "source": [
    "import numpy as np\n",
    "\n",
    "# 딕셔너리 데이터로 판다스 시리즈 만들기\n",
    "student1 = pd.Series({'국어':np.nan, '영어':80, '수학':90})\n",
    "student2 = pd.Series({'수학':80, '국어':90})\n",
    "\n",
    "print(student1)\n",
    "print('\\n')\n",
    "print(student2)\n",
    "print('\\n')\n",
    "\n",
    "# 두 학생의 과목별 점수로 사칙연산 수행 (시리즈 vs. 시리즈)\n",
    "addition = student1 + student2               #덧셈\n",
    "subtraction = student1 - student2            #뺄셈\n",
    "multiplication = student1 * student2         #곱셈\n",
    "division = student1 / student2               #나눗셈\n",
    "print(type(division))\n",
    "print('\\n')\n",
    "\n",
    "# 사칙연산 결과를 데이터프레임으로 합치기 (시리즈 -> 데이터프레임)\n",
    "result = pd.DataFrame([addition, subtraction, multiplication, division], \n",
    "                      index=['덧셈', '뺄셈', '곱셈', '나눗셈'])\n",
    "print(result)"
   ]
  },
  {
   "cell_type": "markdown",
   "id": "5d79b9ff-c9b5-4e8d-a944-cc0cdd86a06e",
   "metadata": {},
   "source": [
    "여기서 student1은 국어점수가 NaN이고, student2의 국어 점수는 90으로 존재하지만 연산 결과는 NaN으로 나온다는 것   \n",
    "또한 영어 점수는 student2에는 존재하지 않기 때문에 이또한 모든 연산의 결과값이 NaN으로 나온다."
   ]
  },
  {
   "cell_type": "markdown",
   "id": "fa1095b0-d1a3-4032-86a2-77c044bb22e1",
   "metadata": {},
   "source": [
    "발생되는 NaN값을 나오게 하고 싶지 않다면? 연산 메서드를 사용하는 것이다.   \n",
    "각 연산의 앞 3글자를 가져와서 메서드로 정의가 되어있다."
   ]
  },
  {
   "cell_type": "code",
   "execution_count": 11,
   "id": "da0d6a63-1f0e-4878-85e9-ad92070204fd",
   "metadata": {},
   "outputs": [
    {
     "name": "stdout",
     "output_type": "stream",
     "text": [
      "국어     NaN\n",
      "영어    80.0\n",
      "수학    90.0\n",
      "dtype: float64\n",
      "\n",
      "\n",
      "수학    80\n",
      "국어    90\n",
      "dtype: int64\n",
      "\n",
      "\n",
      "       국어        수학    영어\n",
      "덧셈   90.0   170.000  80.0\n",
      "뺄셈  -90.0    10.000  80.0\n",
      "곱셈    0.0  7200.000   0.0\n",
      "나눗셈   0.0     1.125   inf\n"
     ]
    }
   ],
   "source": [
    "# 딕셔너리 데이터로 판다스 시리즈 만들기\n",
    "student1 = pd.Series({'국어':np.nan, '영어':80, '수학':90})\n",
    "student2 = pd.Series({'수학':80, '국어':90})\n",
    "\n",
    "print(student1)\n",
    "print('\\n')\n",
    "print(student2)\n",
    "print('\\n')\n",
    "\n",
    "# 두 학생의 과목별 점수로 사칙연산 수행 (연산 메소드 사용)\n",
    "sr_add = student1.add(student2, fill_value=0)    #덧셈\n",
    "sr_sub = student1.sub(student2, fill_value=0)    #뺄셈\n",
    "sr_mul = student1.mul(student2, fill_value=0)    #곱셈\n",
    "sr_div = student1.div(student2, fill_value=0)    #나눗셈\n",
    "\n",
    "# 사칙연산 결과를 데이터프레임으로 합치기 (시리즈 -> 데이터프레임)\n",
    "result = pd.DataFrame([sr_add, sr_sub, sr_mul, sr_div], \n",
    "                      index=['덧셈', '뺄셈', '곱셈', '나눗셈'])\n",
    "print(result)\n"
   ]
  },
  {
   "cell_type": "markdown",
   "id": "cd72d823-b5d6-4b16-a23f-129d17ed2e86",
   "metadata": {},
   "source": [
    "여기서 inf는 무한대라는 값으로 student1 영어점수(80)에서 student2의 영어점수가 NaN대신 0으로 들어가고 나눴기 때문이다."
   ]
  },
  {
   "cell_type": "markdown",
   "id": "da94d4a4-7a2f-4cb5-b84a-1d7e964af3dc",
   "metadata": {},
   "source": [
    "### 데이터프레임 연산\n",
    "- 데이터프레임은 여러 시리즈가 한데 모인 것이므로 시리즈 연산을 확장하는 개념으로 이해\n",
    "- 시리즈 연산과 동일하게 행/열 인덱스를 기준으로 정렬하고 일대일 대을되는 원소끼리 연산처리"
   ]
  },
  {
   "cell_type": "code",
   "execution_count": 13,
   "id": "f1399e60-da36-427b-b0b3-fb721413a2af",
   "metadata": {},
   "outputs": [],
   "source": [
    "import seaborn as sns #seaborn 라이브러리에서 제공하는 titanic 데이터셋 사용하기 위한 라이브러리 import"
   ]
  },
  {
   "cell_type": "code",
   "execution_count": 17,
   "id": "3a75f98e-cf47-4456-83b0-42f4a3c7dc10",
   "metadata": {},
   "outputs": [
    {
     "name": "stdout",
     "output_type": "stream",
     "text": [
      "    age     fare\n",
      "0  22.0   7.2500\n",
      "1  38.0  71.2833\n",
      "2  26.0   7.9250\n",
      "3  35.0  53.1000\n",
      "4  35.0   8.0500\n",
      "\n",
      "\n",
      "<class 'pandas.core.frame.DataFrame'>\n",
      "\n",
      "\n",
      "    age     fare\n",
      "0  32.0  17.2500\n",
      "1  48.0  81.2833\n",
      "2  36.0  17.9250\n",
      "3  45.0  63.1000\n",
      "4  45.0  18.0500\n",
      "\n",
      "\n",
      "<class 'pandas.core.frame.DataFrame'>\n"
     ]
    }
   ],
   "source": [
    "titanic = sns.load_dataset('titanic')\n",
    "\n",
    "#titanic 데이터셋에서 age,fare 2개의 열을 선택하여 데이터프레임 만들기\n",
    "df = titanic.loc[:,['age','fare']] \n",
    "print(df.head()) #데이터 첫5행표시\n",
    "print('\\n')\n",
    "print(type(df))\n",
    "print('\\n')\n",
    "\n",
    "#데이터프레임에 숫자 10 더하기\n",
    "addition = df + 10\n",
    "print(addition.head())\n",
    "print('\\n')\n",
    "print(type(addition))"
   ]
  },
  {
   "cell_type": "markdown",
   "id": "940b64c1-55d4-4ecb-87b6-94176bf96773",
   "metadata": {},
   "source": [
    "> Seaborn 내장 데이터셋의 종류: 'anscombe', 'attention', 'brain_networks', 'car_crashes', 'diamonds', 'dots', 'exercise', 'flights', 'fmri', 'gammas', 'iris', 'mpg', 'plantes', 'tips', 'titanic' 이 있다."
   ]
  },
  {
   "cell_type": "markdown",
   "id": "be0e80ad-d978-423f-aa79-e9625eee1d70",
   "metadata": {},
   "source": [
    "- 데이터프레임 & 데이터프레임 연산\n",
    "    - 각 데이터프레임의 같은 행, 같은 열 위치에 있는 원소끼리 계산한다. 동일한 위치의 원소끼리 계산한 결과값을 원래 위치에 다시 입력하여 데이터프레임을 만든다.\n",
    "    - 데이터 프레임 중에서 어느 한쪽에서 원소가 존해하지 않거나 NaN이면 연산 결과는 NaN 처리\n"
   ]
  },
  {
   "cell_type": "code",
   "execution_count": 18,
   "id": "26ac738a-1cd5-43c9-a7ef-b3d9d1f80e1b",
   "metadata": {},
   "outputs": [
    {
     "name": "stdout",
     "output_type": "stream",
     "text": [
      "      age   fare\n",
      "886  27.0  13.00\n",
      "887  19.0  30.00\n",
      "888   NaN  23.45\n",
      "889  26.0  30.00\n",
      "890  32.0   7.75\n",
      "\n",
      "\n",
      "<class 'pandas.core.frame.DataFrame'>\n",
      "\n",
      "\n",
      "      age   fare\n",
      "886  37.0  23.00\n",
      "887  29.0  40.00\n",
      "888   NaN  33.45\n",
      "889  36.0  40.00\n",
      "890  42.0  17.75\n",
      "\n",
      "\n",
      "<class 'pandas.core.frame.DataFrame'>\n",
      "\n",
      "\n",
      "      age  fare\n",
      "886  10.0  10.0\n",
      "887  10.0  10.0\n",
      "888   NaN  10.0\n",
      "889  10.0  10.0\n",
      "890  10.0  10.0\n",
      "\n",
      "\n",
      "<class 'pandas.core.frame.DataFrame'>\n"
     ]
    }
   ],
   "source": [
    "# titanic 데이터셋에서 age, fare 2개 열을 선택하여 데이터프레임 만들기\n",
    "titanic = sns.load_dataset('titanic')\n",
    "df = titanic.loc[:, ['age','fare']]\n",
    "print(df.tail())          #마지막 5행을 표시\n",
    "print('\\n')\n",
    "print(type(df))\n",
    "print('\\n')\n",
    "\n",
    "# 데이터프레임에 숫자 10 더하기\n",
    "addition = df + 10\n",
    "print(addition.tail())    #마지막 5행을 표시\n",
    "print('\\n')\n",
    "print(type(addition))\n",
    "print('\\n')\n",
    "\n",
    "# 데이터프레임끼리 연산하기 (additon - df)\n",
    "subtraction = addition - df\n",
    "print(subtraction.tail())   #마지막 5행을 표시\n",
    "print('\\n')\n",
    "print(type(subtraction))"
   ]
  },
  {
   "cell_type": "code",
   "execution_count": null,
   "id": "d3e8d96a-2cd5-4aa4-841c-339573e456e1",
   "metadata": {},
   "outputs": [],
   "source": []
  }
 ],
 "metadata": {
  "kernelspec": {
   "display_name": "Python 3 (ipykernel)",
   "language": "python",
   "name": "python3"
  },
  "language_info": {
   "codemirror_mode": {
    "name": "ipython",
    "version": 3
   },
   "file_extension": ".py",
   "mimetype": "text/x-python",
   "name": "python",
   "nbconvert_exporter": "python",
   "pygments_lexer": "ipython3",
   "version": "3.9.12"
  }
 },
 "nbformat": 4,
 "nbformat_minor": 5
}
