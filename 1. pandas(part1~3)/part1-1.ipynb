{
 "cells": [
  {
   "cell_type": "markdown",
   "id": "d2f75063-47dd-4de9-bfdb-168edaced883",
   "metadata": {},
   "source": [
    "# part 1 :판다스 입문"
   ]
  },
  {
   "cell_type": "markdown",
   "id": "39df793d-91dc-499f-9f4b-450162c5a8a2",
   "metadata": {},
   "source": [
    "## 들어가며\n",
    "- 데이터 과학자가 판다스를 배우는 이유는 클라우드 컴퓨팅이 확산됨에 따라 일반인들고 빅데이터를 저장하고 분석하는 데 필요한 컴퓨팅 자원을 저렴한 비용으로 사용하는 것이 가능해짐\n",
    "- 대중화에 따라 데이터 과학자를 꿈꾸는 (나) 사람들에게 최적의 환경이다. 하지만 분석 대상이 되는 데이터가 없다면 컴퓨팅 파워는 무쓸모가 된다. 결국 데이터 자체가 가장 중요한 자원이다.\n",
    "- 실제 분석 업무에서 8할이 데이터를 수집하고 정리하는 일이 차지한다. 나머지는 알고리즘을 선택하고, 모델링 결과를 분석하여 데이터로 부터 유용한 정보를 뽑아내는 분석의 프로세스 진행이다.\n",
    "- **그러기에 판다스라이브러리는 데이터를 수집하고 정리하는 데 최적화된 도구라고 볼 수 있다**"
   ]
  },
  {
   "cell_type": "markdown",
   "id": "bae6c773-b1c1-4fb7-9837-943ddfb45397",
   "metadata": {},
   "source": [
    "## 판다스의 자료구조\n",
    "- 분석을 위해 다양한 소스로 부터 수집하는 데이터는 형태나 속성이 매우 다양.\n",
    "- 이를 위해 판다스는 시리즈(series)와 데이터프레임(DataFrame)이라는 구조화된 데이터 형식을 제공. 즉 서로다른 종류의 데이터를 한곳에 담는 그릇이다.\n",
    "- 시리즈는 1차원 배열이고, 데이터프레임은 2차원 배열이다.\n",
    "### 판다스의 사용 목적\n",
    "1. 서로 다른 여러 가지 유형의 데이터를 공통의 포맷으로 정리하는 것이다."
   ]
  },
  {
   "cell_type": "markdown",
   "id": "086c7b2d-09d0-40c2-ae2c-275b50a9583f",
   "metadata": {},
   "source": [
    "## 시리즈\n",
    "### 특징 \n",
    "- 데이터가 순차적으로 나열된 1차원 배열의 형태를 갖는다. 인덱스는 데이터 값과 일대일 대응한다.\n",
    "- 키와 값이 {k:v} 형태로 짝을 이루는 파이썬의 **딕셔너리**와 비슷한 구조를 갖는다(딕셔너리와 시리즈의 구조가 비슷하기 때문에 딕셔너리를 시리즈로 변환하는 방법을 많이 사용).\n",
    "- 키->인덱스, 값->데이터값\n",
    "- 판다스의 내장 함수인 Series() 이용."
   ]
  },
  {
   "cell_type": "code",
   "execution_count": 4,
   "id": "a51b4d58-4c20-47c9-b2f5-53e9d8deccb4",
   "metadata": {},
   "outputs": [],
   "source": [
    "import pandas as pd #판다스를 불러올 때는 별칭인 pd를 주로 사용"
   ]
  },
  {
   "cell_type": "code",
   "execution_count": 6,
   "id": "6cdc59b2-a3bd-493f-8156-679289e62a9f",
   "metadata": {},
   "outputs": [],
   "source": [
    "dict_data = {'a' : 1, 'b' : 2, 'c': 3} #딕셔너리 형태로 만듬"
   ]
  },
  {
   "cell_type": "code",
   "execution_count": 7,
   "id": "38187740-a9c5-4ff0-a3e6-78b0fa932b45",
   "metadata": {},
   "outputs": [],
   "source": [
    "sr = pd.Series(dict_data) #판다스의 내장함수를 활용해서 series로 변환"
   ]
  },
  {
   "cell_type": "code",
   "execution_count": 9,
   "id": "a88d9ae9-cdcb-4fed-8578-5f4c6a34ba77",
   "metadata": {},
   "outputs": [
    {
     "name": "stdout",
     "output_type": "stream",
     "text": [
      "a    1\n",
      "b    2\n",
      "c    3\n",
      "dtype: int64\n",
      "<class 'pandas.core.series.Series'>\n"
     ]
    },
    {
     "data": {
      "text/plain": [
       "(None, None)"
      ]
     },
     "execution_count": 9,
     "metadata": {},
     "output_type": "execute_result"
    }
   ],
   "source": [
    "print(sr), print(type(sr)) #인덱스와 그에 상응하는 데이터 값의 형태로 값이 출력, 데이터 형태는 series를 확인"
   ]
  },
  {
   "cell_type": "markdown",
   "id": "29e6c659-f83d-41c0-8721-16adc310582d",
   "metadata": {},
   "source": [
    "### 인덱스 구조\n",
    "- 인데스는 자기와 짝을 이루는 데이터값의 순서와 주소를 저장한다.\n",
    "- 인덱스를 잘 활용하면 데이터 값의 탐색, 정렬, 선택등의 데이터 조작을 쉽게 할 수 있다.\n",
    "- 인덱스는 크게 두 가지 종류로 정수형 위치 인덱스, 인덱스 이름또는 인덱스 라벨이 있다."
   ]
  },
  {
   "cell_type": "code",
   "execution_count": 11,
   "id": "5eace375-37cf-48af-9006-9388edc0cfca",
   "metadata": {},
   "outputs": [],
   "source": [
    "list_data = ['2022-10-26', 3.14, 'ABC', 100, True]"
   ]
  },
  {
   "cell_type": "code",
   "execution_count": 12,
   "id": "ac23cec3-da95-428c-953f-c1de98d30c14",
   "metadata": {},
   "outputs": [],
   "source": [
    "sr2 = pd.Series(list_data)"
   ]
  },
  {
   "cell_type": "code",
   "execution_count": 14,
   "id": "8ab27404-285d-45d7-8577-5351526c7d21",
   "metadata": {},
   "outputs": [
    {
     "name": "stdout",
     "output_type": "stream",
     "text": [
      "0    2022-10-26\n",
      "1          3.14\n",
      "2           ABC\n",
      "3           100\n",
      "4          True\n",
      "dtype: object\n"
     ]
    }
   ],
   "source": [
    "print(sr2)"
   ]
  },
  {
   "cell_type": "markdown",
   "id": "36864221-fbb7-4155-a21d-27e511eb999e",
   "metadata": {},
   "source": [
    "인덱스는 0부터 4까지 정수형 위치 인덱스가 자동을 지정된 것을 볼 수 있다.   \n",
    "데이터 값 배열은 원래 데이터인 list_data의 리스트 원소 배열의 순서를 유지한 상태로 입력됨."
   ]
  },
  {
   "cell_type": "code",
   "execution_count": 15,
   "id": "e79e47dc-72ee-48d6-98c5-09c88c228b09",
   "metadata": {},
   "outputs": [],
   "source": [
    "idx = sr2.index\n",
    "val = sr2.values"
   ]
  },
  {
   "cell_type": "code",
   "execution_count": 18,
   "id": "5b907f11-5204-4a16-ab23-0fc01f826cb7",
   "metadata": {},
   "outputs": [
    {
     "name": "stdout",
     "output_type": "stream",
     "text": [
      "RangeIndex(start=0, stop=5, step=1)\n"
     ]
    }
   ],
   "source": [
    "print(idx) #RangeIdex객체로 표시되고 이때 범위의 마지막 값은 포함되지 않는다."
   ]
  },
  {
   "cell_type": "code",
   "execution_count": 17,
   "id": "c9e426ec-6fcc-460e-86c6-c0c01bc6d8eb",
   "metadata": {},
   "outputs": [
    {
     "name": "stdout",
     "output_type": "stream",
     "text": [
      "['2022-10-26' 3.14 'ABC' 100 True]\n"
     ]
    }
   ],
   "source": [
    "print(val)"
   ]
  },
  {
   "cell_type": "markdown",
   "id": "d79b48bb-bb90-4a08-9b89-9f47222bfdc4",
   "metadata": {},
   "source": [
    "### 원소 선택\n",
    "- 원소의 위치를 나타내는 주소 역할을 하는 인덱스를 이용하여 시리즈의 원소를 선택(하나 혹은 그 다수가 가능)\n",
    "- 파이썬에서 슬라이싱 기법과 비슷하게 인덱스 범위를 지정하여 원소를 선택\n",
    "- 정수형 위치 인덱스와 인덱스 이름에 대한 원소 선택은 대괄호 내부 '' 사용 여부로 구분한다."
   ]
  },
  {
   "cell_type": "code",
   "execution_count": 20,
   "id": "0b555e48-16e0-4791-8d3b-8684bac9d46b",
   "metadata": {},
   "outputs": [
    {
     "name": "stdout",
     "output_type": "stream",
     "text": [
      "이름              준혁\n",
      "생년월일    2022-10-26\n",
      "성별               남\n",
      "학생여부          True\n",
      "dtype: object\n"
     ]
    }
   ],
   "source": [
    "tup_data = ('준혁', '2022-10-26', '남', True) # 튜플을 시리즈로 변환\n",
    "sr = pd.Series(tup_data, index =['이름', '생년월일', '성별', '학생여부'])\n",
    "print(sr)"
   ]
  },
  {
   "cell_type": "markdown",
   "id": "75b0c450-07b0-45e8-9e87-9ecff62401a9",
   "metadata": {},
   "source": [
    "튜플의 형태의 데이터를 series로 변환하는 과정에서 인덱스 이름을 부여했다."
   ]
  },
  {
   "cell_type": "code",
   "execution_count": 21,
   "id": "9b637aec-3da0-4fb4-a8e0-d51c66389e1b",
   "metadata": {},
   "outputs": [
    {
     "name": "stdout",
     "output_type": "stream",
     "text": [
      "준혁\n"
     ]
    }
   ],
   "source": [
    "print(sr[0])"
   ]
  },
  {
   "cell_type": "code",
   "execution_count": 22,
   "id": "48c4b66e-826e-439f-9925-4a7c05835d66",
   "metadata": {},
   "outputs": [
    {
     "name": "stdout",
     "output_type": "stream",
     "text": [
      "준혁\n"
     ]
    }
   ],
   "source": [
    "print(sr['이름'])"
   ]
  },
  {
   "cell_type": "markdown",
   "id": "e9a12594-8f6d-40e5-9127-22e2ffd946cb",
   "metadata": {},
   "source": [
    "이렇게 정수형 위치 인덱스로 원소를 선택하거나 인덱스이름으로 원소를 선택한다."
   ]
  },
  {
   "cell_type": "code",
   "execution_count": 24,
   "id": "a11534cf-03d2-4957-8d75-2ca9776fcab8",
   "metadata": {},
   "outputs": [
    {
     "name": "stdout",
     "output_type": "stream",
     "text": [
      "생년월일    2022-10-26\n",
      "성별               남\n",
      "dtype: object\n"
     ]
    }
   ],
   "source": [
    "print(sr[[1,2]])"
   ]
  },
  {
   "cell_type": "code",
   "execution_count": 25,
   "id": "3f46e738-5360-4ffc-94bd-bc3f5c3d8729",
   "metadata": {},
   "outputs": [
    {
     "name": "stdout",
     "output_type": "stream",
     "text": [
      "생년월일    2022-10-26\n",
      "성별               남\n",
      "dtype: object\n"
     ]
    }
   ],
   "source": [
    "print(sr[['생년월일','성별']])"
   ]
  },
  {
   "cell_type": "markdown",
   "id": "82f087e4-7440-4f2c-8123-a9eb6debff94",
   "metadata": {},
   "source": [
    "여러 개의 인덱스를 리스트 형태로 입력하면 짝을 이루는 원소 데이터를 모두 반환한다. (대괄호 안에 대괄호가 더 들어가는 이유이다.)"
   ]
  },
  {
   "cell_type": "code",
   "execution_count": 27,
   "id": "391a14f6-5ec6-4761-ac67-02597ca95260",
   "metadata": {},
   "outputs": [
    {
     "name": "stdout",
     "output_type": "stream",
     "text": [
      "생년월일    2022-10-26\n",
      "dtype: object\n"
     ]
    }
   ],
   "source": [
    "print(sr[1:2])"
   ]
  },
  {
   "cell_type": "code",
   "execution_count": 28,
   "id": "a61ab7c8-4b7a-4d20-b2fb-bbc1ecb50c4f",
   "metadata": {},
   "outputs": [
    {
     "name": "stdout",
     "output_type": "stream",
     "text": [
      "생년월일    2022-10-26\n",
      "성별               남\n",
      "dtype: object\n"
     ]
    }
   ],
   "source": [
    "print(sr['생년월일':'성별'])"
   ]
  },
  {
   "cell_type": "markdown",
   "id": "a4c4bc19-d6e2-44d2-b78d-1dff951c866c",
   "metadata": {},
   "source": [
    "여기서 정수형 위치 인덱스와 인덱스 라벨에서 차이점이 있다. 인덱스 범위를 지정하는 과정에서 정수형 위치는 끝(2)를 포함하지 않기 때문에 하나의 값만 , 인덱스 라벨을 사용하면 '성별'이 포함이 됨"
   ]
  },
  {
   "cell_type": "markdown",
   "id": "de6b5d9c-a8a4-4d59-910a-75d680aebd0c",
   "metadata": {},
   "source": [
    "## 데이터프레임"
   ]
  },
  {
   "cell_type": "markdown",
   "id": "f48e8125-873b-4b62-8faf-d19f0f65ad70",
   "metadata": {},
   "source": [
    "- 데이터프레임 2차원 배열이다. 2차원 배열 구조는 엑셀 혹은 관계형 데이터베이스에서 주로 사용된다.\n",
    "- 판다스의 데이터프레임 자료구조는 대표적인 통계 패키지인 R의 데이터 프레임에서 유래됐다고함.\n",
    "- 여러개 시리즈들이 한데 모여서 데이터 프레임을 구조를 이룸.\n",
    "- 시리즈를 열벡터라고 하면 데이터 프레임은 여러 열벡터들이 같은 행 인덱스를 기준으로 결합된 2차원 벡터,행렬이다."
   ]
  },
  {
   "cell_type": "markdown",
   "id": "f4d53f3d-59b0-4553-a7ab-700364e47535",
   "metadata": {},
   "source": [
    "### 데이터프레임 만들기\n",
    "- 데이터프레임을 만들기 위해 같은 길이의 1차원 배열 여러 개가 필요하다.\n",
    "- 시리즈와 마찬가지로 딕셔너리 형태로 키와 값형태로 값은 하나의 리스트 형태로 존재한다.\n",
    "- 판다스에서 DataFrame() 함수를 사용"
   ]
  },
  {
   "cell_type": "code",
   "execution_count": 31,
   "id": "6d755366-49da-4346-a8c7-9cfe856ad9cc",
   "metadata": {},
   "outputs": [],
   "source": [
    "dict_data = {'c0': [1,2,3], 'c1': [4,5,6], 'c2':[7,8,9], 'c3': [10,11,12], 'c4':[13,14,15]}"
   ]
  },
  {
   "cell_type": "code",
   "execution_count": 32,
   "id": "401848e4-32c6-4af7-81c8-f9cbc7e36237",
   "metadata": {},
   "outputs": [],
   "source": [
    "df = pd.DataFrame(dict_data)"
   ]
  },
  {
   "cell_type": "code",
   "execution_count": 34,
   "id": "8a5615e5-c455-407a-b6f3-a9db79cb1a4f",
   "metadata": {},
   "outputs": [
    {
     "name": "stdout",
     "output_type": "stream",
     "text": [
      "<class 'pandas.core.frame.DataFrame'>\n",
      "   c0  c1  c2  c3  c4\n",
      "0   1   4   7  10  13\n",
      "1   2   5   8  11  14\n",
      "2   3   6   9  12  15\n"
     ]
    },
    {
     "data": {
      "text/plain": [
       "(None, None)"
      ]
     },
     "execution_count": 34,
     "metadata": {},
     "output_type": "execute_result"
    }
   ],
   "source": [
    "print(type(df)), print(df) # 타입은 데이터 프레임이고 , 데이터의 형태는 2차원 배열의 데이터이다."
   ]
  },
  {
   "cell_type": "markdown",
   "id": "af570420-219d-4f48-b11b-d239d5760f43",
   "metadata": {},
   "source": [
    "- 데이터프레임 행 인덱스, 열 이름 설정\n",
    "```\n",
    "pd.DataFrame(2차원배열, index=행인덱스 배열, columns=열이름 배열)\n",
    "```"
   ]
  },
  {
   "cell_type": "code",
   "execution_count": 35,
   "id": "6635352f-0ebb-480e-8bd9-e7015b4d05ee",
   "metadata": {},
   "outputs": [],
   "source": [
    "df = pd.DataFrame([[14,'남', '덕영중'],[17,'여', '수리중']],\n",
    "                   index=['준서','예은'],\n",
    "                   columns=['나이', '성별', '학교']) #데이터는 3개의 원소를 갖는 2개의 리스트이다."
   ]
  },
  {
   "cell_type": "code",
   "execution_count": 36,
   "id": "3d44ead8-3b63-4bf5-bc98-27517cd35f75",
   "metadata": {},
   "outputs": [
    {
     "name": "stdout",
     "output_type": "stream",
     "text": [
      "    나이 성별   학교\n",
      "준서  14  남  덕영중\n",
      "예은  17  여  수리중\n"
     ]
    }
   ],
   "source": [
    "print(df)"
   ]
  },
  {
   "cell_type": "code",
   "execution_count": 37,
   "id": "920c2a14-c480-4fe9-9e04-f33cf90a6bc4",
   "metadata": {},
   "outputs": [
    {
     "name": "stdout",
     "output_type": "stream",
     "text": [
      "Index(['준서', '예은'], dtype='object')\n"
     ]
    }
   ],
   "source": [
    "print(df.index)"
   ]
  },
  {
   "cell_type": "code",
   "execution_count": 38,
   "id": "de8cc696-3fa5-414f-af59-0d2b5480e9f6",
   "metadata": {},
   "outputs": [
    {
     "name": "stdout",
     "output_type": "stream",
     "text": [
      "Index(['나이', '성별', '학교'], dtype='object')\n"
     ]
    }
   ],
   "source": [
    "print(df.columns)"
   ]
  },
  {
   "cell_type": "markdown",
   "id": "6ccb5af3-e6e3-4d1f-8dd5-7ac4154d3e3b",
   "metadata": {},
   "source": [
    "리스트가 행으로 변환된다는 것 유의해야한다. 데이터프레임에서 인덱스를 접근할때, df.index 컬럼을 접근할때, df.columns로 접근한다."
   ]
  },
  {
   "cell_type": "markdown",
   "id": "3aee5bc1-e1b3-49e9-ab63-0f28490e6381",
   "metadata": {},
   "source": [
    "행 인덱스와 열이름 변경이 가능한대, 이건 df.index,df.columns 의 리스트를 새로운 것을 overwrite 해주면 된다."
   ]
  },
  {
   "cell_type": "markdown",
   "id": "c7ec1ee8-dd8f-44e5-afee-634fe6f58301",
   "metadata": {},
   "source": [
    "또한 데이터프레임의 rename() 매서드를 사용하면 행인덱스 또는 열 이름의 일부를 선택하여 변경가능. 원본 객체를 변경하려면 inplace=True  옵션을 사용해야한다."
   ]
  },
  {
   "cell_type": "code",
   "execution_count": 40,
   "id": "dbe63059-7e9b-4895-a6fa-47ad09df86e9",
   "metadata": {},
   "outputs": [],
   "source": [
    "df.rename(index={'준서':'학생1','예은':'학생2'},inplace=True)"
   ]
  },
  {
   "cell_type": "code",
   "execution_count": 41,
   "id": "baf36bbe-3b4a-4d2d-a9aa-1a5d12b22305",
   "metadata": {},
   "outputs": [],
   "source": [
    "df.rename(columns={'나이':'연령','성별':'남녀', '학교':'소속'},inplace=True)"
   ]
  },
  {
   "cell_type": "code",
   "execution_count": 42,
   "id": "733bde84-2bd3-4841-a4a0-5cff6c54b82d",
   "metadata": {},
   "outputs": [
    {
     "name": "stdout",
     "output_type": "stream",
     "text": [
      "     연령 남녀   소속\n",
      "학생1  14  남  덕영중\n",
      "학생2  17  여  수리중\n"
     ]
    }
   ],
   "source": [
    "print(df)"
   ]
  },
  {
   "cell_type": "markdown",
   "id": "905d08a2-9e5f-4b13-b03c-840b2c2c9578",
   "metadata": {},
   "source": [
    "- 행/열 삭제\n",
    "    - 행 삭제를 할때 축(axis)옵션으로 axis=0을 입력하거나, 별도로 입력하지 않는다(default가 0)\n",
    "    - 축 옵션으로 axis=1을 입력하면 열을 삭제한다.\n",
    "    - 이름변경과 동일하게 원본 객체를 변경을 하려면 inplace=True 옵션을 설정해야한다. "
   ]
  },
  {
   "cell_type": "code",
   "execution_count": 43,
   "id": "441423da-9944-4fab-a947-1445f08b03ea",
   "metadata": {},
   "outputs": [],
   "source": [
    "exam_data = {'수학' : [ 90, 80, 70], '영어' : [ 98, 89, 95],\n",
    "             '음악' : [ 85, 95, 100], '체육' : [ 100, 90, 90]}\n",
    "\n",
    "df = pd.DataFrame(exam_data, index=['서준', '우현', '인아'])"
   ]
  },
  {
   "cell_type": "code",
   "execution_count": 44,
   "id": "147d3dd8-faa9-436f-81d2-dc7dd69307e4",
   "metadata": {},
   "outputs": [
    {
     "name": "stdout",
     "output_type": "stream",
     "text": [
      "    수학  영어   음악   체육\n",
      "서준  90  98   85  100\n",
      "우현  80  89   95   90\n",
      "인아  70  95  100   90\n"
     ]
    }
   ],
   "source": [
    "print(df)"
   ]
  },
  {
   "cell_type": "code",
   "execution_count": 46,
   "id": "9d54402c-c5d5-42a9-a336-0b6cb5533115",
   "metadata": {},
   "outputs": [],
   "source": [
    "# df를 복제하여 df2로 저장 후 행 삭제\n",
    "df2= df.copy()\n",
    "df2.drop('우현',inplace=True)"
   ]
  },
  {
   "cell_type": "code",
   "execution_count": 47,
   "id": "480d8441-8499-4677-ba6f-b9f57e65ee10",
   "metadata": {},
   "outputs": [
    {
     "name": "stdout",
     "output_type": "stream",
     "text": [
      "    수학  영어   음악   체육\n",
      "서준  90  98   85  100\n",
      "인아  70  95  100   90\n"
     ]
    }
   ],
   "source": [
    "print(df2)"
   ]
  },
  {
   "cell_type": "code",
   "execution_count": 50,
   "id": "80e70763-7dcb-4ee6-a78b-3c45cb1f4ed3",
   "metadata": {},
   "outputs": [
    {
     "name": "stderr",
     "output_type": "stream",
     "text": [
      "/tmp/ipykernel_608/46031605.py:3: SettingWithCopyWarning: \n",
      "A value is trying to be set on a copy of a slice from a DataFrame\n",
      "\n",
      "See the caveats in the documentation: https://pandas.pydata.org/pandas-docs/stable/user_guide/indexing.html#returning-a-view-versus-a-copy\n",
      "  df3.drop('수학', inplace=True, axis=1)\n"
     ]
    }
   ],
   "source": [
    "# 위와 동일한 방법으로 복사 후 열삭제\n",
    "df3 = df[:]\n",
    "df3.drop('수학', inplace=True, axis=1)"
   ]
  },
  {
   "cell_type": "code",
   "execution_count": 51,
   "id": "50ce9003-656c-4d64-8db2-50c32386ccb3",
   "metadata": {},
   "outputs": [
    {
     "name": "stdout",
     "output_type": "stream",
     "text": [
      "    영어   음악   체육\n",
      "서준  98   85  100\n",
      "우현  89   95   90\n",
      "인아  95  100   90\n"
     ]
    }
   ],
   "source": [
    "print(df3)"
   ]
  },
  {
   "cell_type": "markdown",
   "id": "e5164b37-061f-4881-8175-c68359e006fd",
   "metadata": {},
   "source": [
    "여기서 복사를 할때, df[:] 와 df.copy를 했다는 것과 axis=0,1옵션으로 따라 행 열 삭제를 하는 것 그리고 그 옵션에 따라서 행인덱스혹은 열이름을 지정해줘야한다는 것 알고 있어야한다."
   ]
  },
  {
   "cell_type": "markdown",
   "id": "efc48d46-1f0f-41e1-a315-53176bab76d7",
   "metadata": {},
   "source": [
    "- 행선택(loc, iloc)\n",
    "|구분 |loc|iloc  |\n",
    "|--|--|--|\n",
    "| 탐색 대상 | 인덱스 이름(index label)| 정수형 위치 인덱스(integer position) |\n",
    "| 범위 지정 | 가능(범위의 끝 포함) | 가능(범위의 끝 제외) |"
   ]
  },
  {
   "cell_type": "markdown",
   "id": "0d08cdc0-3055-499e-8e9c-6c9bf0a99fb6",
   "metadata": {},
   "source": [
    "위의 df 데이터 프레임을 활용해서 행 선택을 해보자."
   ]
  },
  {
   "cell_type": "code",
   "execution_count": 54,
   "id": "667d146d-1e92-4618-9962-b028ad4a1a8c",
   "metadata": {},
   "outputs": [],
   "source": [
    "label1 = df.loc['서준']"
   ]
  },
  {
   "cell_type": "code",
   "execution_count": 55,
   "id": "934a1299-7a5f-4d6b-892d-fbdd6356e9e8",
   "metadata": {},
   "outputs": [],
   "source": [
    "position1 = df.iloc[0]"
   ]
  },
  {
   "cell_type": "code",
   "execution_count": 56,
   "id": "0cb07158-8e79-48cd-9969-38d1c4e2832a",
   "metadata": {},
   "outputs": [
    {
     "name": "stdout",
     "output_type": "stream",
     "text": [
      "수학     90\n",
      "영어     98\n",
      "음악     85\n",
      "체육    100\n",
      "Name: 서준, dtype: int64\n"
     ]
    }
   ],
   "source": [
    "print(label1)"
   ]
  },
  {
   "cell_type": "code",
   "execution_count": 57,
   "id": "5d717fef-5010-4fd5-b6a2-17bffd046611",
   "metadata": {},
   "outputs": [
    {
     "name": "stdout",
     "output_type": "stream",
     "text": [
      "수학     90\n",
      "영어     98\n",
      "음악     85\n",
      "체육    100\n",
      "Name: 서준, dtype: int64\n"
     ]
    }
   ],
   "source": [
    "print(position1)"
   ]
  },
  {
   "cell_type": "markdown",
   "id": "a94ec51c-5197-48ee-ac67-5a89aaec2564",
   "metadata": {},
   "source": [
    "동일한 값이 나온다! loc와 iloc는 데이터 분리에 많이 쓰이니 차이점을 알고 있자."
   ]
  },
  {
   "cell_type": "markdown",
   "id": "73e2058c-4ee6-4816-be50-4724527828b8",
   "metadata": {},
   "source": [
    "- 열 선택\n",
    "    - DataFrame['열이름'], DataFrame.열이름 형태로 열 데이터를 선택을 한다. ->반환 객체는 시리즈이다.\n",
    "    - 열 n개를 선택을 할때는 DataFrame[[열1,열2,...]] 이중 대괄호를 사용한다. -> 반환 객체는 데이터 프레임이다.\n",
    "    - 만약에 [[]] 이중 괄호로 사용해서 열 하나를 빼면 이건 어떻게 될까? 맞다 데이터 프레임으로 반환객체로 나온다."
   ]
  },
  {
   "cell_type": "code",
   "execution_count": 60,
   "id": "dbf16fad-28be-4dc9-886f-c7f5669c4e79",
   "metadata": {},
   "outputs": [],
   "source": [
    "english = df['영어']"
   ]
  },
  {
   "cell_type": "code",
   "execution_count": 61,
   "id": "afe550da-b980-4639-823d-4cf006b25ba0",
   "metadata": {},
   "outputs": [],
   "source": [
    "math = df.수학"
   ]
  },
  {
   "cell_type": "code",
   "execution_count": 63,
   "id": "b58cffb4-ed94-41d4-88a5-9074f20d4bb1",
   "metadata": {},
   "outputs": [
    {
     "name": "stdout",
     "output_type": "stream",
     "text": [
      "<class 'pandas.core.series.Series'>\n",
      "서준    98\n",
      "우현    89\n",
      "인아    95\n",
      "Name: 영어, dtype: int64\n"
     ]
    },
    {
     "data": {
      "text/plain": [
       "(None, None)"
      ]
     },
     "execution_count": 63,
     "metadata": {},
     "output_type": "execute_result"
    }
   ],
   "source": [
    "print(type(english)),print(english)"
   ]
  },
  {
   "cell_type": "code",
   "execution_count": 64,
   "id": "24df26c3-a442-4c45-bf33-38648dbeaef9",
   "metadata": {},
   "outputs": [
    {
     "name": "stdout",
     "output_type": "stream",
     "text": [
      "<class 'pandas.core.series.Series'>\n",
      "서준    90\n",
      "우현    80\n",
      "인아    70\n",
      "Name: 수학, dtype: int64\n"
     ]
    },
    {
     "data": {
      "text/plain": [
       "(None, None)"
      ]
     },
     "execution_count": 64,
     "metadata": {},
     "output_type": "execute_result"
    }
   ],
   "source": [
    "print(type(math)),print(math)"
   ]
  },
  {
   "cell_type": "code",
   "execution_count": 65,
   "id": "b33a02a2-48ee-4f65-93fa-738ae600f504",
   "metadata": {},
   "outputs": [
    {
     "name": "stdout",
     "output_type": "stream",
     "text": [
      "    수학\n",
      "서준  90\n",
      "우현  80\n",
      "인아  70\n"
     ]
    }
   ],
   "source": [
    "math2 = df[['수학']]\n",
    "print(math2)"
   ]
  },
  {
   "cell_type": "code",
   "execution_count": 66,
   "id": "0fd180c5-4d15-4fed-9aa5-9db8314af3e4",
   "metadata": {},
   "outputs": [
    {
     "name": "stdout",
     "output_type": "stream",
     "text": [
      "<class 'pandas.core.frame.DataFrame'>\n"
     ]
    }
   ],
   "source": [
    "print(type(math2))"
   ]
  },
  {
   "cell_type": "markdown",
   "id": "0e374f75-37e8-4199-9fce-ab5943d7dac1",
   "metadata": {},
   "source": [
    "**범위 슬라이싱** \n",
    "- df.iloc[시작인덱스:끝인덱스:슬라이싱간격] -> 슬라이싱 간격을 정해주면 기본적으로 1식 증가하는 것을 간격에 맞게 행 인덱스를 선택한다."
   ]
  },
  {
   "cell_type": "markdown",
   "id": "25a2d6ac-00cf-4d00-b5a0-eeefc951e2a4",
   "metadata": {},
   "source": [
    "- 원소선택\n",
    "    - 데이터 프레임의 행 인덱스와 열이름을 [행,열] 형식의 2차원 자표로 입력해 원소 위치를 지정한다.\n",
    "    - 1개의 행과 2개이상의 열을 선택하거나 그반대로 선택하는 경우 시리즈 객체가 반환됨.\n",
    "    - 2개이상의 행과 2개이상의 열을 선택하면 데이터프레임객체로 반환"
   ]
  },
  {
   "cell_type": "code",
   "execution_count": 67,
   "id": "ed68f49a-faec-42aa-a2af-444ebeb67c03",
   "metadata": {},
   "outputs": [],
   "source": [
    "exam_data = {'이름' : [ '서준', '우현', '인아'],\n",
    "             '수학' : [ 90, 80, 70],\n",
    "             '영어' : [ 98, 89, 95],\n",
    "             '음악' : [ 85, 95, 100],\n",
    "             '체육' : [ 100, 90, 90]}\n",
    "df = pd.DataFrame(exam_data)"
   ]
  },
  {
   "cell_type": "code",
   "execution_count": 68,
   "id": "49756e33-f8fc-4162-870b-57c14cbeadc4",
   "metadata": {},
   "outputs": [],
   "source": [
    "df.set_index('이름',inplace=True) # '이름' 열을 새로운 인덱스로 지정하고, df객체에 변경 사항을 적용"
   ]
  },
  {
   "cell_type": "code",
   "execution_count": 69,
   "id": "dc50e5a1-5663-4bec-8f75-72843fcd2c65",
   "metadata": {},
   "outputs": [
    {
     "name": "stdout",
     "output_type": "stream",
     "text": [
      "    수학  영어   음악   체육\n",
      "이름                  \n",
      "서준  90  98   85  100\n",
      "우현  80  89   95   90\n",
      "인아  70  95  100   90\n"
     ]
    }
   ],
   "source": [
    "print(df)"
   ]
  },
  {
   "cell_type": "code",
   "execution_count": 70,
   "id": "2d5804df-0e67-47c5-a56c-82c340e9a7c5",
   "metadata": {},
   "outputs": [],
   "source": [
    "a = df.loc['서준','음악']"
   ]
  },
  {
   "cell_type": "code",
   "execution_count": 71,
   "id": "bbeb2006-3e42-4bd8-a5ff-2d09b69eee3b",
   "metadata": {},
   "outputs": [
    {
     "name": "stdout",
     "output_type": "stream",
     "text": [
      "85\n"
     ]
    }
   ],
   "source": [
    "print(a)"
   ]
  },
  {
   "cell_type": "code",
   "execution_count": 72,
   "id": "e38b6809-bd3c-4805-9062-7911e7bd0d51",
   "metadata": {},
   "outputs": [
    {
     "name": "stdout",
     "output_type": "stream",
     "text": [
      "85\n"
     ]
    }
   ],
   "source": [
    "b = df.iloc[0,2]\n",
    "print(b)"
   ]
  },
  {
   "cell_type": "code",
   "execution_count": 74,
   "id": "c3aa83f9-ab87-4767-828d-fc8d9f674f96",
   "metadata": {},
   "outputs": [
    {
     "name": "stdout",
     "output_type": "stream",
     "text": [
      "음악     85\n",
      "체육    100\n",
      "Name: 서준, dtype: int64\n",
      "<class 'pandas.core.series.Series'>\n"
     ]
    }
   ],
   "source": [
    "c = df.loc['서준',['음악','체육']]\n",
    "print(c)\n",
    "print(type(c))"
   ]
  },
  {
   "cell_type": "code",
   "execution_count": 77,
   "id": "a1922f0f-f030-4e84-80aa-1159bd515bc8",
   "metadata": {},
   "outputs": [
    {
     "name": "stdout",
     "output_type": "stream",
     "text": [
      "음악     85\n",
      "체육    100\n",
      "Name: 서준, dtype: int64\n",
      "음악     85\n",
      "체육    100\n",
      "Name: 서준, dtype: int64\n",
      "음악     85\n",
      "체육    100\n",
      "Name: 서준, dtype: int64\n"
     ]
    }
   ],
   "source": [
    "d = df.iloc[0, [2, 3]]#정수 위치 인덱스 방법으로 추출 값을 선택\n",
    "print(d)\n",
    "e = df.loc['서준', '음악':'체육'] #범위 슬라이싱을 함\n",
    "print(e)\n",
    "f = df.iloc[0, 2:]#열2에서 마지막까지 하므로 3을 생략\n",
    "print(f)"
   ]
  },
  {
   "cell_type": "markdown",
   "id": "c0c30757-0c9c-4939-9d73-4f4a42cbc3e1",
   "metadata": {},
   "source": [
    "서준의 음악과 체육 점수를 찾는 4가지 방법을 다뤘고, 반환 객체는 다 시리즈이다.   \n",
    "이제 반환 객체를 데이터 프레임으로 원소를 선택을 하는데 서준과 우현의 음악과 체육점수를 선택해서 값을 추출해보자."
   ]
  },
  {
   "cell_type": "code",
   "execution_count": 79,
   "id": "86fc8192-9810-4f29-82e1-3ef558314662",
   "metadata": {},
   "outputs": [
    {
     "name": "stdout",
     "output_type": "stream",
     "text": [
      "    음악   체육\n",
      "이름         \n",
      "서준  85  100\n",
      "우현  95   90\n"
     ]
    }
   ],
   "source": [
    "g = df.loc[['서준','우현'],['음악','체육']]\n",
    "print(g)"
   ]
  },
  {
   "cell_type": "code",
   "execution_count": 81,
   "id": "bc9bc90b-5e94-4e3a-819f-42293c0e27d1",
   "metadata": {},
   "outputs": [
    {
     "name": "stdout",
     "output_type": "stream",
     "text": [
      "    음악   체육\n",
      "이름         \n",
      "서준  85  100\n",
      "우현  95   90\n"
     ]
    }
   ],
   "source": [
    "h = df.iloc[[0,1],[2,3]]\n",
    "print(h)"
   ]
  },
  {
   "cell_type": "code",
   "execution_count": 83,
   "id": "c3e50352-1e85-46cb-a59d-25245aaa3284",
   "metadata": {},
   "outputs": [
    {
     "name": "stdout",
     "output_type": "stream",
     "text": [
      "    음악   체육\n",
      "이름         \n",
      "서준  85  100\n",
      "우현  95   90\n"
     ]
    }
   ],
   "source": [
    "f = df.iloc[0:2,2:]\n",
    "print(f)"
   ]
  },
  {
   "cell_type": "code",
   "execution_count": 84,
   "id": "262cb5d5-b6d9-4db5-9c64-80bdd026e90e",
   "metadata": {},
   "outputs": [
    {
     "name": "stdout",
     "output_type": "stream",
     "text": [
      "    음악   체육\n",
      "이름         \n",
      "서준  85  100\n",
      "우현  95   90\n"
     ]
    }
   ],
   "source": [
    "j = df.loc['서준':'우현','음악':'체육']\n",
    "print(j)"
   ]
  },
  {
   "cell_type": "markdown",
   "id": "77d16d06-94db-449c-b283-12190f3e25d5",
   "metadata": {},
   "source": [
    "- 열추가: 추가하려는 열이름과 데이터 값을 추가하면된다. 형태는 DataFrame['추가되는열이름']=데이터값 (만약 데이터 값이 하나인 상황이면 해당 데이터 프레임에 **행길이 만큼 동일한 데이터 값**이 들어간다.)"
   ]
  },
  {
   "cell_type": "code",
   "execution_count": 85,
   "id": "e2acaf5c-cad7-42c4-8ac0-88d60f01d69c",
   "metadata": {},
   "outputs": [
    {
     "name": "stdout",
     "output_type": "stream",
     "text": [
      "    수학  영어   음악   체육\n",
      "이름                  \n",
      "서준  90  98   85  100\n",
      "우현  80  89   95   90\n",
      "인아  70  95  100   90\n"
     ]
    }
   ],
   "source": [
    "print(df)"
   ]
  },
  {
   "cell_type": "code",
   "execution_count": 86,
   "id": "978cde3f-f7ba-453b-9ffb-832d16eb587d",
   "metadata": {},
   "outputs": [],
   "source": [
    "df['국어'] = 80"
   ]
  },
  {
   "cell_type": "code",
   "execution_count": 87,
   "id": "9cf03694-36f8-4313-8281-5989527d19b1",
   "metadata": {},
   "outputs": [
    {
     "name": "stdout",
     "output_type": "stream",
     "text": [
      "    수학  영어   음악   체육  국어\n",
      "이름                      \n",
      "서준  90  98   85  100  80\n",
      "우현  80  89   95   90  80\n",
      "인아  70  95  100   90  80\n"
     ]
    }
   ],
   "source": [
    "print(df)"
   ]
  },
  {
   "cell_type": "markdown",
   "id": "35e2f6d9-64bc-4d8a-b7be-8c8c6489884e",
   "metadata": {},
   "source": [
    "- 행 추가: 열추가와 동일하게 추가하지만 행이름과 데이터 값을 loc 인덱서를 사용하여 추가한다. DataFrame.loc['새로운 행이름']=데이터값 혹은 배열 형태로 넣으면된다."
   ]
  },
  {
   "cell_type": "code",
   "execution_count": 94,
   "id": "4a145853-6d50-433b-8559-5cfaa26453e1",
   "metadata": {},
   "outputs": [],
   "source": [
    "# 새로운 행 추가 - 같은 원소 값 입력\n",
    "df.loc['준혁'] = 90"
   ]
  },
  {
   "cell_type": "code",
   "execution_count": 89,
   "id": "e2f54eb4-0d18-4cab-82ba-c248e5561114",
   "metadata": {},
   "outputs": [
    {
     "name": "stdout",
     "output_type": "stream",
     "text": [
      "    수학  영어   음악   체육  국어\n",
      "이름                      \n",
      "서준  90  98   85  100  80\n",
      "우현  80  89   95   90  80\n",
      "인아  70  95  100   90  80\n",
      "준혁  90  90   90   90  90\n"
     ]
    }
   ],
   "source": [
    "print(df)"
   ]
  },
  {
   "cell_type": "code",
   "execution_count": 95,
   "id": "4fa2863c-4f46-4ae5-b3a9-55257c12c25a",
   "metadata": {},
   "outputs": [
    {
     "name": "stdout",
     "output_type": "stream",
     "text": [
      "    수학  영어   음악   체육  국어\n",
      "이름                      \n",
      "서준  90  98   85  100  80\n",
      "우현  80  89   95   90  80\n",
      "인아  70  95  100   90  80\n",
      "준혁  90  90   90   90  90\n",
      "혁준  60  70   80   90  90\n"
     ]
    }
   ],
   "source": [
    "#원소 값 여러개의 배열 입력\n",
    "df.loc['혁준'] = [60,70,80,90,90] #행길이에 맞게 행을 추가해야한다는 것 유의해야한다.\n",
    "print(df)"
   ]
  },
  {
   "cell_type": "markdown",
   "id": "304a8fde-03e1-4fbd-8ac3-8d713320653e",
   "metadata": {},
   "source": [
    "데이터 프레임에 새로운 행을 추가할 때는 기존 행 인덱스와 겹치지 않는 새로운 인덱스를 사용한다.    \n",
    "기존의 인덱스와 중복되는 경우 새로운 행을 추가하지 않고 기존의 행의 원소값을 변경한다."
   ]
  },
  {
   "cell_type": "code",
   "execution_count": 99,
   "id": "928db27f-3ea9-4870-a995-ccb680f92838",
   "metadata": {},
   "outputs": [
    {
     "name": "stdout",
     "output_type": "stream",
     "text": [
      "    수학  영어   음악   체육  국어\n",
      "이름                      \n",
      "서준  90  98   85  100  80\n",
      "우현  80  89   95   90  80\n",
      "인아  70  95  100   90  80\n",
      "준혁  90  90   90   90  90\n",
      "혁준  60  70   80   90  90\n",
      "3    0   0    0    0   0\n",
      "행6   0   0    0    0   0\n"
     ]
    }
   ],
   "source": [
    "#기존 행 복사\n",
    "df.loc[3] = 0\n",
    "df.loc['행6'] = df.loc[3]\n",
    "print(df)"
   ]
  },
  {
   "cell_type": "markdown",
   "id": "156e75b9-ca7f-4aa2-88e6-88d59ef608d1",
   "metadata": {},
   "source": [
    " - 원소값 변경: 특정 원소의 좌표를 선택하고 바꾸려는 값을 변경하면된다. 이때 데이터프레임 인덱싱과 슬라이싱 기법을 사용한다."
   ]
  },
  {
   "cell_type": "code",
   "execution_count": 100,
   "id": "e7532ce4-830a-4b24-85d7-9c463a9aad37",
   "metadata": {},
   "outputs": [
    {
     "name": "stdout",
     "output_type": "stream",
     "text": [
      "    수학  영어   음악   체육\n",
      "이름                  \n",
      "서준  90  98   85  100\n",
      "우현  80  89   95   90\n",
      "인아  70  95  100   90\n",
      "\n",
      "\n",
      "    수학  영어   음악  체육\n",
      "이름                 \n",
      "서준  90  98   85  80\n",
      "우현  80  89   95  90\n",
      "인아  70  95  100  90\n",
      "\n",
      "\n",
      "    수학  영어   음악  체육\n",
      "이름                 \n",
      "서준  90  98   85  90\n",
      "우현  80  89   95  90\n",
      "인아  70  95  100  90\n",
      "\n",
      "\n",
      "    수학  영어   음악   체육\n",
      "이름                  \n",
      "서준  90  98   85  100\n",
      "우현  80  89   95   90\n",
      "인아  70  95  100   90\n",
      "\n",
      "\n"
     ]
    }
   ],
   "source": [
    "exam_data = {'이름' : [ '서준', '우현', '인아'],\n",
    "             '수학' : [ 90, 80, 70],\n",
    "             '영어' : [ 98, 89, 95],\n",
    "             '음악' : [ 85, 95, 100],\n",
    "             '체육' : [ 100, 90, 90]}\n",
    "df = pd.DataFrame(exam_data)\n",
    "\n",
    "# '이름' 열을 새로운 인덱스로 지정하고, df 객체에 변경사항 반영\n",
    "df.set_index('이름', inplace=True)\n",
    "print(df)\n",
    "print('\\n')\n",
    "\n",
    "# 데이터프레임 df의 특정 원소를 변경하는 방법: '서준'의 '체육' 점수\n",
    "df.iloc[0][3] = 80\n",
    "print(df)\n",
    "print('\\n')\n",
    "\n",
    "df.loc['서준']['체육'] = 90\n",
    "print(df)\n",
    "print('\\n')\n",
    "\n",
    "df.loc['서준', '체육'] = 100\n",
    "print(df)\n",
    "print('\\n')"
   ]
  },
  {
   "cell_type": "markdown",
   "id": "51290b6b-05f4-4222-85ff-67b51ce863ba",
   "metadata": {},
   "source": [
    "- 행, 열의 위치 바꾸기   \n",
    "    - 데이터 프레임의 행과 열을 서로 맞바꾸는 방법이다. 선형대수에서 전치행렬과 같은 개념이다.   \n",
    "    - 전치 결과로 새로운 객체를 반환하므로, 기존의 객체를 변경하기 위해 df=df.transpose() 또는 df=df.T 와같이 기존 객체에 새로운 객체를 할당 해주는 과정이 필요."
   ]
  },
  {
   "cell_type": "code",
   "execution_count": 101,
   "id": "823cc198-5f80-439c-a302-55d71f76516e",
   "metadata": {},
   "outputs": [],
   "source": [
    "exam_data = {'이름' : [ '서준', '우현', '인아'],\n",
    "             '수학' : [ 90, 80, 70],\n",
    "             '영어' : [ 98, 89, 95],\n",
    "             '음악' : [ 85, 95, 100],\n",
    "             '체육' : [ 100, 90, 90]}\n",
    "df = pd.DataFrame(exam_data)"
   ]
  },
  {
   "cell_type": "code",
   "execution_count": 105,
   "id": "fbc9aa9d-d535-4186-b902-dc0b3b01e01f",
   "metadata": {},
   "outputs": [
    {
     "name": "stdout",
     "output_type": "stream",
     "text": [
      "   이름  수학  영어   음악   체육\n",
      "0  서준  90  98   85  100\n",
      "1  우현  80  89   95   90\n",
      "2  인아  70  95  100   90\n",
      "\n",
      "\n",
      "      0   1    2\n",
      "이름   서준  우현   인아\n",
      "수학   90  80   70\n",
      "영어   98  89   95\n",
      "음악   85  95  100\n",
      "체육  100  90   90\n",
      "\n",
      "\n",
      "   이름  수학  영어   음악   체육\n",
      "0  서준  90  98   85  100\n",
      "1  우현  80  89   95   90\n",
      "2  인아  70  95  100   90\n"
     ]
    }
   ],
   "source": [
    "print(df)\n",
    "print('\\n')\n",
    "df = df.transpose()\n",
    "print(df)\n",
    "print('\\n')\n",
    "df = df.T\n",
    "print(df)"
   ]
  },
  {
   "cell_type": "markdown",
   "id": "c80d1d8a-7580-4f63-87e6-be67e36da9cd",
   "metadata": {},
   "source": [
    "### 인덱스 활용\n",
    "- set_index() 메소드를 사용하여 데이터프레임의 특정 열을 행 인덱스로 설정한다. inplace=True 옵션이 없다면 새로운 데이터프레임 객체를 반환하는 점 유의해야함.\n",
    "```\n",
    "DataFrame객체.set_index(['열이름'] 또는 '열이름')\n",
    "```"
   ]
  },
  {
   "cell_type": "code",
   "execution_count": 107,
   "id": "f8c0cead-23e9-4fdc-9394-40e0ed418f67",
   "metadata": {},
   "outputs": [
    {
     "name": "stdout",
     "output_type": "stream",
     "text": [
      "   이름  수학  영어   음악   체육\n",
      "0  서준  90  98   85  100\n",
      "1  우현  80  89   95   90\n",
      "2  인아  70  95  100   90\n",
      "\n",
      "\n",
      "    수학  영어   음악   체육\n",
      "이름                  \n",
      "서준  90  98   85  100\n",
      "우현  80  89   95   90\n",
      "인아  70  95  100   90\n",
      "\n",
      "\n",
      "     수학  영어   체육\n",
      "음악              \n",
      "85   90  98  100\n",
      "95   80  89   90\n",
      "100  70  95   90\n",
      "\n",
      "\n",
      "        영어   체육\n",
      "수학 음악          \n",
      "90 85   98  100\n",
      "80 95   89   90\n",
      "70 100  95   90\n"
     ]
    }
   ],
   "source": [
    "exam_data = {'이름' : [ '서준', '우현', '인아'],\n",
    "             '수학' : [ 90, 80, 70],\n",
    "             '영어' : [ 98, 89, 95],\n",
    "             '음악' : [ 85, 95, 100],\n",
    "             '체육' : [ 100, 90, 90]}\n",
    "df = pd.DataFrame(exam_data)\n",
    "print(df)\n",
    "print('\\n')\n",
    "\n",
    "# 특정 열(column)을 데이터프레임의 행 인덱스(index)로 설정 \n",
    "ndf = df.set_index(['이름'])\n",
    "print(ndf)\n",
    "print('\\n')\n",
    "ndf2 = ndf.set_index('음악')\n",
    "print(ndf2)\n",
    "print('\\n')\n",
    "ndf3 = ndf.set_index(['수학', '음악']) #multindex이다. \n",
    "print(ndf3)"
   ]
  },
  {
   "cell_type": "markdown",
   "id": "6719fbd1-a13b-426c-95a6-577369b16221",
   "metadata": {},
   "source": [
    "- 행 인덱스 재배열 : reindex() 메서드를 사용해서 데이터프레임의 행 인덱스를 새로운 배열로 재지정을 할 수 있다.(기존 객체를 변경하지 않고, 새로운 데이터프레임 객체를 반환)\n",
    "    - 기존 데이터프레임에 존재하지 않는 행 인덱스가 새롭게 추가 되면 그 행의 데이터 값은 NaN의 값이 입력이 된다. => NaN대신 유효한 값을 넣으려면 fill_value()옵션에 원하는 값은 부여하면 된다."
   ]
  },
  {
   "cell_type": "code",
   "execution_count": 109,
   "id": "9076df04-f1f0-4191-adf3-443b6bc8492f",
   "metadata": {},
   "outputs": [
    {
     "name": "stdout",
     "output_type": "stream",
     "text": [
      "    c0  c1  c2  c3  c4\n",
      "r0   1   4   7  10  13\n",
      "r1   2   5   8  11  14\n",
      "r2   3   6   9  12  15\n",
      "\n",
      "\n",
      "     c0   c1   c2    c3    c4\n",
      "r0  1.0  4.0  7.0  10.0  13.0\n",
      "r1  2.0  5.0  8.0  11.0  14.0\n",
      "r2  3.0  6.0  9.0  12.0  15.0\n",
      "r3  NaN  NaN  NaN   NaN   NaN\n",
      "r4  NaN  NaN  NaN   NaN   NaN\n",
      "\n",
      "\n",
      "    c0  c1  c2  c3  c4\n",
      "r0   1   4   7  10  13\n",
      "r1   2   5   8  11  14\n",
      "r2   3   6   9  12  15\n",
      "r3   0   0   0   0   0\n",
      "r4   0   0   0   0   0\n"
     ]
    }
   ],
   "source": [
    "# 딕셔서리를 정의\n",
    "dict_data = {'c0':[1,2,3], 'c1':[4,5,6], 'c2':[7,8,9], 'c3':[10,11,12], 'c4':[13,14,15]}\n",
    "\n",
    "# 딕셔서리를 데이터프레임으로 변환. 인덱스를 [r0, r1, r2]로 지정\n",
    "df = pd.DataFrame(dict_data, index=['r0', 'r1', 'r2'])\n",
    "print(df)\n",
    "print('\\n')\n",
    "\n",
    "# 인덱스를 [r0, r1, r2, r3, r4]로 재지정\n",
    "new_index = ['r0', 'r1', 'r2', 'r3', 'r4']\n",
    "ndf = df.reindex(new_index)\n",
    "print(ndf)\n",
    "print('\\n')\n",
    "\n",
    "# reindex로 발생한 NaN값을 숫자 0으로 채우기\n",
    "new_index = ['r0', 'r1', 'r2', 'r3', 'r4']\n",
    "ndf2 = df.reindex(new_index, fill_value=0)\n",
    "print(ndf2)"
   ]
  },
  {
   "cell_type": "markdown",
   "id": "7cafc4b5-0350-4d4f-935a-e60c09ea7ea5",
   "metadata": {},
   "source": [
    "- 행 인덱스 초기화: reset_index() 메소드를 활용하여 행 인덱스를 정수형 위치 인덱스로 초기화한다. 기존의 행 인덱스는 열로 이동한다.(새로운 객체 반환)"
   ]
  },
  {
   "cell_type": "code",
   "execution_count": 112,
   "id": "37a1395b-e66f-44e7-b09d-05eac07b92e7",
   "metadata": {},
   "outputs": [
    {
     "name": "stdout",
     "output_type": "stream",
     "text": [
      "    c0  c1  c2  c3  c4\n",
      "r0   1   4   7  10  13\n",
      "r1   2   5   8  11  14\n",
      "r2   3   6   9  12  15\n",
      "\n",
      "\n",
      "  index  c0  c1  c2  c3  c4\n",
      "0    r0   1   4   7  10  13\n",
      "1    r1   2   5   8  11  14\n",
      "2    r2   3   6   9  12  15\n"
     ]
    }
   ],
   "source": [
    "dict_data = {'c0':[1,2,3], 'c1':[4,5,6], 'c2':[7,8,9], 'c3':[10,11,12], 'c4':[13,14,15]}\n",
    "\n",
    "#딕셔너리를 데이터프레임으로 변환, 인덱스를 지정함.\n",
    "df = pd.DataFrame(dict_data,index = ['r0','r1','r2'])\n",
    "print(df)\n",
    "print('\\n')\n",
    "\n",
    "#행 인덱스를 정수형으로 초기화\n",
    "ndf = df.reset_index()\n",
    "print(ndf)"
   ]
  },
  {
   "cell_type": "code",
   "execution_count": null,
   "id": "7552f537-c632-4bee-b1cb-e85835bb7856",
   "metadata": {},
   "outputs": [],
   "source": []
  }
 ],
 "metadata": {
  "kernelspec": {
   "display_name": "Python 3 (ipykernel)",
   "language": "python",
   "name": "python3"
  },
  "language_info": {
   "codemirror_mode": {
    "name": "ipython",
    "version": 3
   },
   "file_extension": ".py",
   "mimetype": "text/x-python",
   "name": "python",
   "nbconvert_exporter": "python",
   "pygments_lexer": "ipython3",
   "version": "3.9.12"
  }
 },
 "nbformat": 4,
 "nbformat_minor": 5
}
